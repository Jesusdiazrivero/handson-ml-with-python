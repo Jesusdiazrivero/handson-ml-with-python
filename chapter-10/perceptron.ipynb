{
 "cells": [
  {
   "attachments": {},
   "cell_type": "markdown",
   "metadata": {},
   "source": [
    "# Perceptron\n",
    "\n",
    "A Perceptron is composed of a single layer of **TLUs** (threshold logic unit)\n",
    "\n",
    "## TLU\n",
    "\n",
    "A TLU is a type of artificial neuron defined by\n",
    "$$\n",
    "z = x^T w\n",
    "$$\n",
    "In other words, the output is the sum of the inputs multiplied by their weights (determined via training).\n",
    "A step function is then applied to the output."
   ]
  },
  {
   "cell_type": "markdown",
   "metadata": {},
   "source": [
    "# Perceptron\n",
    "\n",
    "A Perceptron is composed of a single layer of **TLUs** (threshold logic unit)\n",
    "\n",
    "## TLU\n",
    "\n",
    "A TLU is a type of artificial neuron defined by\n",
    "$$\n",
    "z = x^T w\n",
    "$$\n",
    "In other words, the output is the sum of the inputs multiplied by their weights (determined via training).\n",
    "A step function is then applied to the output."
   ]
  },
  {
   "cell_type": "code",
   "execution_count": 1,
   "metadata": {},
   "outputs": [
    {
     "name": "stderr",
     "output_type": "stream",
     "text": [
      "Matplotlib is building the font cache; this may take a moment.\n"
     ]
    }
   ],
   "source": [
    "import numpy as np\n",
    "from sklearn.datasets import load_iris\n",
    "from sklearn.linear_model import Perceptron\n",
    "from tensorflow import keras\n",
    "import pandas as pd\n",
    "import matplotlib.pyplot as plt"
   ]
  },
  {
   "cell_type": "code",
   "execution_count": null,
   "metadata": {},
   "outputs": [
    {
     "data": {
      "text/plain": [
       "array([1, 1, 1, 1, 1, 1, 1, 1, 1, 1, 1, 1, 1, 1, 1, 1, 1, 1, 1, 1, 1, 1,\n",
       "       1, 1, 1, 1, 1, 1, 1, 1, 1, 1, 1, 1, 1, 1, 1, 1, 1, 1, 1, 1, 1, 1,\n",
       "       1, 1, 1, 1, 1, 1, 0, 0, 0, 0, 0, 0, 0, 0, 0, 0, 0, 0, 0, 0, 0, 0,\n",
       "       0, 0, 0, 0, 0, 0, 0, 0, 0, 0, 0, 0, 0, 0, 0, 0, 0, 0, 0, 0, 0, 0,\n",
       "       0, 0, 0, 0, 0, 0, 0, 0, 0, 0, 0, 0, 0, 0, 0, 0, 0, 0, 0, 0, 0, 0,\n",
       "       0, 0, 0, 0, 0, 0, 0, 0, 0, 0, 0, 0, 0, 0, 0, 0, 0, 0, 0, 0, 0, 0,\n",
       "       0, 0, 0, 0, 0, 0, 0, 0, 0, 0, 0, 0, 0, 0, 0, 0, 0, 0])"
      ]
     },
     "metadata": {},
     "output_type": "display_data"
    }
   ],
   "source": [
    "iris = load_iris()\n",
    "X = iris.data[:, (2,3)] # petal length and width\n",
    "y = (iris.target == 0).astype(int)\n",
    "y"
   ]
  },
  {
   "cell_type": "code",
   "execution_count": null,
   "metadata": {},
   "outputs": [
    {
     "data": {
      "text/plain": [
       "array([0])"
      ]
     },
     "metadata": {},
     "output_type": "display_data"
    }
   ],
   "source": [
    "per_clf = Perceptron()\n",
    "per_clf.fit(X, y)\n",
    "y_pred = per_clf.predict([[2, 0.5]])\n",
    "y_pred"
   ]
  },
  {
   "cell_type": "markdown",
   "metadata": {},
   "source": [
    "## Multilayer Perceptron\n",
    "\n",
    "![Linear model diagram](https://media.datacamp.com/legacy/v1725638284/image_bd3b978959.png)\n",
    "\n",
    "The input layer uses __passthrough__ TLUs,\n",
    "There can be multiple middle (or __hidden__) layers. Each layer also has a single bias neuron and all neurons in a layer are connected to all neurons in the next layer.\n",
    "The final __output__ layer provides the final result.\n",
    "\n",
    "### Backpropagation\n",
    "\n",
    "Training algorithm.\n",
    "1. Makes a prediction for each training instance in a small batch.\n",
    "2. Calculates error.\n",
    "3. Goes back through each layer in reverse order to measure contribution of each connection to the error.\n",
    "4. Then applies **gradient descent** to tweak the connection weights.\n",
    "\n",
    "### Activation functions\n",
    "\n",
    "Backpropagation does not work with the step function because of how gradient descent works (TODO: Understand this)\n",
    "\n",
    "Logistic function was the first alternative used:\n",
    "$$\n",
    "\\sigma(z) = \\frac{1}{1 + e^{-z}}\n",
    "$$\n",
    "The derivative is not 0 at any point --> gradient descent can always work.\n",
    "Ranges from 0 to 1.\n",
    "\n",
    "Hyperbolic tangent:\n",
    "Ranges from -1 to 1 and is also continuous and differentiable.\n",
    "Centered around 0 can help speed up convergence (TODO: WHY???)\n",
    "$$\n",
    "\\tanh(z) = 2\\sigma(2z) - 1\n",
    "$$\n",
    "\n",
    "Rectified Linear Unit function:\n",
    "Not differentiable at 0 and gradient 0 at < 0, but very fast.\n",
    "$$\n",
    "R(z) = max(0, z)\n",
    "$$\n"
   ]
  },
  {
   "cell_type": "markdown",
   "metadata": {},
   "source": [
    "## Sequential API"
   ]
  },
  {
   "cell_type": "code",
   "execution_count": null,
   "metadata": {},
   "outputs": [],
   "source": [
    "fashion_mnist = keras.datasets.fashion_mnist\n",
    "class_names = [\"T-shirt/top\", \"Trouser\", \"Pullover\", \"Dress\", \"Coat\", \"Sandal\", \"Shirt\", \"Sneaker\", \"Bag\", \"Ankle boot\"]\n",
    "(X_train_full, y_train_full), (X_test, y_test) = fashion_mnist.load_data()\n"
   ]
  },
  {
   "cell_type": "code",
   "execution_count": null,
   "metadata": {},
   "outputs": [
    {
     "data": {
      "text/plain": [
       "'Coat'"
      ]
     },
     "metadata": {},
     "output_type": "display_data"
    }
   ],
   "source": [
    "# Scale values down to 0-1 range for use in Gradient Descent\n",
    "\n",
    "X_validation = X_train_full[:5000]/255.0\n",
    "X_train = X_train_full[5000:]/255.0\n",
    "y_validation = y_train_full[:5000]\n",
    "y_train = y_train_full[5000:]\n",
    "X_test = X_test/255.0\n",
    "\n",
    "class_names[y_train[0]]"
   ]
  },
  {
   "cell_type": "code",
   "execution_count": null,
   "metadata": {},
   "outputs": [
    {
     "data": {
      "text/html": [
       "<pre style=\"white-space:pre;overflow-x:auto;line-height:normal;font-family:Menlo,'DejaVu Sans Mono',consolas,'Courier New',monospace\"><span style=\"font-weight: bold\">Model: \"sequential_2\"</span>\n",
       "</pre>\n"
      ],
      "text/plain": [
       "\u001b[1mModel: \"sequential_2\"\u001b[0m\n"
      ]
     },
     "metadata": {},
     "output_type": "display_data"
    },
    {
     "data": {
      "text/html": [
       "<pre style=\"white-space:pre;overflow-x:auto;line-height:normal;font-family:Menlo,'DejaVu Sans Mono',consolas,'Courier New',monospace\">┏━━━━━━━━━━━━━━━━━━━━━━━━━━━━━━━━━┳━━━━━━━━━━━━━━━━━━━━━━━━┳━━━━━━━━━━━━━━━┓\n",
       "┃<span style=\"font-weight: bold\"> Layer (type)                    </span>┃<span style=\"font-weight: bold\"> Output Shape           </span>┃<span style=\"font-weight: bold\">       Param # </span>┃\n",
       "┡━━━━━━━━━━━━━━━━━━━━━━━━━━━━━━━━━╇━━━━━━━━━━━━━━━━━━━━━━━━╇━━━━━━━━━━━━━━━┩\n",
       "│ flatten_3 (<span style=\"color: #0087ff; text-decoration-color: #0087ff\">Flatten</span>)             │ (<span style=\"color: #00d7ff; text-decoration-color: #00d7ff\">None</span>, <span style=\"color: #00af00; text-decoration-color: #00af00\">784</span>)            │             <span style=\"color: #00af00; text-decoration-color: #00af00\">0</span> │\n",
       "├─────────────────────────────────┼────────────────────────┼───────────────┤\n",
       "│ dense_26 (<span style=\"color: #0087ff; text-decoration-color: #0087ff\">Dense</span>)                │ (<span style=\"color: #00d7ff; text-decoration-color: #00d7ff\">None</span>, <span style=\"color: #00af00; text-decoration-color: #00af00\">300</span>)            │       <span style=\"color: #00af00; text-decoration-color: #00af00\">235,500</span> │\n",
       "├─────────────────────────────────┼────────────────────────┼───────────────┤\n",
       "│ dense_27 (<span style=\"color: #0087ff; text-decoration-color: #0087ff\">Dense</span>)                │ (<span style=\"color: #00d7ff; text-decoration-color: #00d7ff\">None</span>, <span style=\"color: #00af00; text-decoration-color: #00af00\">100</span>)            │        <span style=\"color: #00af00; text-decoration-color: #00af00\">30,100</span> │\n",
       "├─────────────────────────────────┼────────────────────────┼───────────────┤\n",
       "│ dense_28 (<span style=\"color: #0087ff; text-decoration-color: #0087ff\">Dense</span>)                │ (<span style=\"color: #00d7ff; text-decoration-color: #00d7ff\">None</span>, <span style=\"color: #00af00; text-decoration-color: #00af00\">10</span>)             │         <span style=\"color: #00af00; text-decoration-color: #00af00\">1,010</span> │\n",
       "└─────────────────────────────────┴────────────────────────┴───────────────┘\n",
       "</pre>\n"
      ],
      "text/plain": [
       "┏━━━━━━━━━━━━━━━━━━━━━━━━━━━━━━━━━┳━━━━━━━━━━━━━━━━━━━━━━━━┳━━━━━━━━━━━━━━━┓\n",
       "┃\u001b[1m \u001b[0m\u001b[1mLayer (type)                   \u001b[0m\u001b[1m \u001b[0m┃\u001b[1m \u001b[0m\u001b[1mOutput Shape          \u001b[0m\u001b[1m \u001b[0m┃\u001b[1m \u001b[0m\u001b[1m      Param #\u001b[0m\u001b[1m \u001b[0m┃\n",
       "┡━━━━━━━━━━━━━━━━━━━━━━━━━━━━━━━━━╇━━━━━━━━━━━━━━━━━━━━━━━━╇━━━━━━━━━━━━━━━┩\n",
       "│ flatten_3 (\u001b[38;5;33mFlatten\u001b[0m)             │ (\u001b[38;5;45mNone\u001b[0m, \u001b[38;5;34m784\u001b[0m)            │             \u001b[38;5;34m0\u001b[0m │\n",
       "├─────────────────────────────────┼────────────────────────┼───────────────┤\n",
       "│ dense_26 (\u001b[38;5;33mDense\u001b[0m)                │ (\u001b[38;5;45mNone\u001b[0m, \u001b[38;5;34m300\u001b[0m)            │       \u001b[38;5;34m235,500\u001b[0m │\n",
       "├─────────────────────────────────┼────────────────────────┼───────────────┤\n",
       "│ dense_27 (\u001b[38;5;33mDense\u001b[0m)                │ (\u001b[38;5;45mNone\u001b[0m, \u001b[38;5;34m100\u001b[0m)            │        \u001b[38;5;34m30,100\u001b[0m │\n",
       "├─────────────────────────────────┼────────────────────────┼───────────────┤\n",
       "│ dense_28 (\u001b[38;5;33mDense\u001b[0m)                │ (\u001b[38;5;45mNone\u001b[0m, \u001b[38;5;34m10\u001b[0m)             │         \u001b[38;5;34m1,010\u001b[0m │\n",
       "└─────────────────────────────────┴────────────────────────┴───────────────┘\n"
      ]
     },
     "metadata": {},
     "output_type": "display_data"
    },
    {
     "data": {
      "text/html": [
       "<pre style=\"white-space:pre;overflow-x:auto;line-height:normal;font-family:Menlo,'DejaVu Sans Mono',consolas,'Courier New',monospace\"><span style=\"font-weight: bold\"> Total params: </span><span style=\"color: #00af00; text-decoration-color: #00af00\">266,610</span> (1.02 MB)\n",
       "</pre>\n"
      ],
      "text/plain": [
       "\u001b[1m Total params: \u001b[0m\u001b[38;5;34m266,610\u001b[0m (1.02 MB)\n"
      ]
     },
     "metadata": {},
     "output_type": "display_data"
    },
    {
     "data": {
      "text/html": [
       "<pre style=\"white-space:pre;overflow-x:auto;line-height:normal;font-family:Menlo,'DejaVu Sans Mono',consolas,'Courier New',monospace\"><span style=\"font-weight: bold\"> Trainable params: </span><span style=\"color: #00af00; text-decoration-color: #00af00\">266,610</span> (1.02 MB)\n",
       "</pre>\n"
      ],
      "text/plain": [
       "\u001b[1m Trainable params: \u001b[0m\u001b[38;5;34m266,610\u001b[0m (1.02 MB)\n"
      ]
     },
     "metadata": {},
     "output_type": "display_data"
    },
    {
     "data": {
      "text/html": [
       "<pre style=\"white-space:pre;overflow-x:auto;line-height:normal;font-family:Menlo,'DejaVu Sans Mono',consolas,'Courier New',monospace\"><span style=\"font-weight: bold\"> Non-trainable params: </span><span style=\"color: #00af00; text-decoration-color: #00af00\">0</span> (0.00 B)\n",
       "</pre>\n"
      ],
      "text/plain": [
       "\u001b[1m Non-trainable params: \u001b[0m\u001b[38;5;34m0\u001b[0m (0.00 B)\n"
      ]
     },
     "metadata": {},
     "output_type": "display_data"
    }
   ],
   "source": [
    "model = keras.models.Sequential()\n",
    "# Preprocessing layer to convert matrix to array\n",
    "model.add(keras.layers.Flatten(input_shape=[28, 28]))\n",
    "model.add(keras.layers.Dense(300, activation=\"relu\"))\n",
    "model.add(keras.layers.Dense(100, activation=\"relu\"))\n",
    "model.add(keras.layers.Dense(10, activation=\"softmax\"))\n",
    "\n",
    "model.summary()"
   ]
  },
  {
   "cell_type": "code",
   "execution_count": null,
   "metadata": {},
   "outputs": [],
   "source": [
    "model.compile(loss=\"sparse_categorical_crossentropy\",\n",
    "              optimizer=\"sgd\",\n",
    "              metrics=[\"accuracy\"])"
   ]
  },
  {
   "cell_type": "code",
   "execution_count": null,
   "metadata": {},
   "outputs": [
    {
     "name": "stdout",
     "output_type": "stream",
     "text": [
      "Epoch 1/30\n",
      "\u001b[1m1719/1719\u001b[0m \u001b[32m━━━━━━━━━━━━━━━━━━━━\u001b[0m\u001b[37m\u001b[0m \u001b[1m13s\u001b[0m 7ms/step - accuracy: 0.6718 - loss: 1.0155 - val_accuracy: 0.8268 - val_loss: 0.5127\n",
      "Epoch 2/30\n",
      "\u001b[1m1719/1719\u001b[0m \u001b[32m━━━━━━━━━━━━━━━━━━━━\u001b[0m\u001b[37m\u001b[0m \u001b[1m16s\u001b[0m 9ms/step - accuracy: 0.8249 - loss: 0.5012 - val_accuracy: 0.8284 - val_loss: 0.5058\n",
      "Epoch 3/30\n",
      "\u001b[1m1719/1719\u001b[0m \u001b[32m━━━━━━━━━━━━━━━━━━━━\u001b[0m\u001b[37m\u001b[0m \u001b[1m11s\u001b[0m 6ms/step - accuracy: 0.8410 - loss: 0.4516 - val_accuracy: 0.8436 - val_loss: 0.4375\n",
      "Epoch 4/30\n",
      "\u001b[1m1719/1719\u001b[0m \u001b[32m━━━━━━━━━━━━━━━━━━━━\u001b[0m\u001b[37m\u001b[0m \u001b[1m2s\u001b[0m 1ms/step - accuracy: 0.8536 - loss: 0.4182 - val_accuracy: 0.8550 - val_loss: 0.4266\n",
      "Epoch 5/30\n",
      "\u001b[1m1719/1719\u001b[0m \u001b[32m━━━━━━━━━━━━━━━━━━━━\u001b[0m\u001b[37m\u001b[0m \u001b[1m2s\u001b[0m 1ms/step - accuracy: 0.8588 - loss: 0.4067 - val_accuracy: 0.8690 - val_loss: 0.3810\n",
      "Epoch 6/30\n",
      "\u001b[1m1719/1719\u001b[0m \u001b[32m━━━━━━━━━━━━━━━━━━━━\u001b[0m\u001b[37m\u001b[0m \u001b[1m2s\u001b[0m 968us/step - accuracy: 0.8648 - loss: 0.3864 - val_accuracy: 0.8682 - val_loss: 0.3837\n",
      "Epoch 7/30\n",
      "\u001b[1m1719/1719\u001b[0m \u001b[32m━━━━━━━━━━━━━━━━━━━━\u001b[0m\u001b[37m\u001b[0m \u001b[1m2s\u001b[0m 953us/step - accuracy: 0.8691 - loss: 0.3729 - val_accuracy: 0.8744 - val_loss: 0.3685\n",
      "Epoch 8/30\n",
      "\u001b[1m1719/1719\u001b[0m \u001b[32m━━━━━━━━━━━━━━━━━━━━\u001b[0m\u001b[37m\u001b[0m \u001b[1m2s\u001b[0m 953us/step - accuracy: 0.8734 - loss: 0.3590 - val_accuracy: 0.8808 - val_loss: 0.3575\n",
      "Epoch 9/30\n",
      "\u001b[1m1719/1719\u001b[0m \u001b[32m━━━━━━━━━━━━━━━━━━━━\u001b[0m\u001b[37m\u001b[0m \u001b[1m2s\u001b[0m 1ms/step - accuracy: 0.8755 - loss: 0.3509 - val_accuracy: 0.8814 - val_loss: 0.3573\n",
      "Epoch 10/30\n",
      "\u001b[1m1719/1719\u001b[0m \u001b[32m━━━━━━━━━━━━━━━━━━━━\u001b[0m\u001b[37m\u001b[0m \u001b[1m2s\u001b[0m 976us/step - accuracy: 0.8797 - loss: 0.3381 - val_accuracy: 0.8738 - val_loss: 0.3605\n",
      "Epoch 11/30\n",
      "\u001b[1m1719/1719\u001b[0m \u001b[32m━━━━━━━━━━━━━━━━━━━━\u001b[0m\u001b[37m\u001b[0m \u001b[1m2s\u001b[0m 1ms/step - accuracy: 0.8840 - loss: 0.3279 - val_accuracy: 0.8736 - val_loss: 0.3540\n",
      "Epoch 12/30\n",
      "\u001b[1m1719/1719\u001b[0m \u001b[32m━━━━━━━━━━━━━━━━━━━━\u001b[0m\u001b[37m\u001b[0m \u001b[1m2s\u001b[0m 1ms/step - accuracy: 0.8880 - loss: 0.3164 - val_accuracy: 0.8806 - val_loss: 0.3362\n",
      "Epoch 13/30\n",
      "\u001b[1m1719/1719\u001b[0m \u001b[32m━━━━━━━━━━━━━━━━━━━━\u001b[0m\u001b[37m\u001b[0m \u001b[1m2s\u001b[0m 1ms/step - accuracy: 0.8890 - loss: 0.3119 - val_accuracy: 0.8874 - val_loss: 0.3367\n",
      "Epoch 14/30\n",
      "\u001b[1m1719/1719\u001b[0m \u001b[32m━━━━━━━━━━━━━━━━━━━━\u001b[0m\u001b[37m\u001b[0m \u001b[1m2s\u001b[0m 1ms/step - accuracy: 0.8918 - loss: 0.3072 - val_accuracy: 0.8838 - val_loss: 0.3327\n",
      "Epoch 15/30\n",
      "\u001b[1m1719/1719\u001b[0m \u001b[32m━━━━━━━━━━━━━━━━━━━━\u001b[0m\u001b[37m\u001b[0m \u001b[1m2s\u001b[0m 1ms/step - accuracy: 0.8907 - loss: 0.3015 - val_accuracy: 0.8778 - val_loss: 0.3346\n",
      "Epoch 16/30\n",
      "\u001b[1m1719/1719\u001b[0m \u001b[32m━━━━━━━━━━━━━━━━━━━━\u001b[0m\u001b[37m\u001b[0m \u001b[1m3s\u001b[0m 2ms/step - accuracy: 0.8944 - loss: 0.2950 - val_accuracy: 0.8910 - val_loss: 0.3143\n",
      "Epoch 17/30\n",
      "\u001b[1m1719/1719\u001b[0m \u001b[32m━━━━━━━━━━━━━━━━━━━━\u001b[0m\u001b[37m\u001b[0m \u001b[1m3s\u001b[0m 2ms/step - accuracy: 0.8959 - loss: 0.2855 - val_accuracy: 0.8500 - val_loss: 0.3983\n",
      "Epoch 18/30\n",
      "\u001b[1m1719/1719\u001b[0m \u001b[32m━━━━━━━━━━━━━━━━━━━━\u001b[0m\u001b[37m\u001b[0m \u001b[1m4s\u001b[0m 2ms/step - accuracy: 0.8999 - loss: 0.2795 - val_accuracy: 0.8894 - val_loss: 0.3144\n",
      "Epoch 19/30\n",
      "\u001b[1m1719/1719\u001b[0m \u001b[32m━━━━━━━━━━━━━━━━━━━━\u001b[0m\u001b[37m\u001b[0m \u001b[1m4s\u001b[0m 2ms/step - accuracy: 0.9023 - loss: 0.2730 - val_accuracy: 0.8916 - val_loss: 0.3099\n",
      "Epoch 20/30\n",
      "\u001b[1m1719/1719\u001b[0m \u001b[32m━━━━━━━━━━━━━━━━━━━━\u001b[0m\u001b[37m\u001b[0m \u001b[1m6s\u001b[0m 3ms/step - accuracy: 0.9047 - loss: 0.2664 - val_accuracy: 0.8864 - val_loss: 0.3222\n",
      "Epoch 21/30\n",
      "\u001b[1m1719/1719\u001b[0m \u001b[32m━━━━━━━━━━━━━━━━━━━━\u001b[0m\u001b[37m\u001b[0m \u001b[1m9s\u001b[0m 5ms/step - accuracy: 0.9046 - loss: 0.2631 - val_accuracy: 0.8874 - val_loss: 0.3172\n",
      "Epoch 22/30\n",
      "\u001b[1m1719/1719\u001b[0m \u001b[32m━━━━━━━━━━━━━━━━━━━━\u001b[0m\u001b[37m\u001b[0m \u001b[1m10s\u001b[0m 6ms/step - accuracy: 0.9051 - loss: 0.2601 - val_accuracy: 0.8878 - val_loss: 0.3196\n",
      "Epoch 23/30\n",
      "\u001b[1m1719/1719\u001b[0m \u001b[32m━━━━━━━━━━━━━━━━━━━━\u001b[0m\u001b[37m\u001b[0m \u001b[1m8s\u001b[0m 5ms/step - accuracy: 0.9074 - loss: 0.2561 - val_accuracy: 0.8732 - val_loss: 0.3545\n",
      "Epoch 24/30\n",
      "\u001b[1m1719/1719\u001b[0m \u001b[32m━━━━━━━━━━━━━━━━━━━━\u001b[0m\u001b[37m\u001b[0m \u001b[1m9s\u001b[0m 5ms/step - accuracy: 0.9100 - loss: 0.2493 - val_accuracy: 0.8876 - val_loss: 0.3139\n",
      "Epoch 25/30\n",
      "\u001b[1m1719/1719\u001b[0m \u001b[32m━━━━━━━━━━━━━━━━━━━━\u001b[0m\u001b[37m\u001b[0m \u001b[1m4s\u001b[0m 2ms/step - accuracy: 0.9098 - loss: 0.2498 - val_accuracy: 0.8936 - val_loss: 0.3000\n",
      "Epoch 26/30\n",
      "\u001b[1m1719/1719\u001b[0m \u001b[32m━━━━━━━━━━━━━━━━━━━━\u001b[0m\u001b[37m\u001b[0m \u001b[1m4s\u001b[0m 2ms/step - accuracy: 0.9130 - loss: 0.2410 - val_accuracy: 0.8946 - val_loss: 0.3018\n",
      "Epoch 27/30\n",
      "\u001b[1m1719/1719\u001b[0m \u001b[32m━━━━━━━━━━━━━━━━━━━━\u001b[0m\u001b[37m\u001b[0m \u001b[1m3s\u001b[0m 2ms/step - accuracy: 0.9152 - loss: 0.2377 - val_accuracy: 0.8846 - val_loss: 0.3225\n",
      "Epoch 28/30\n",
      "\u001b[1m1719/1719\u001b[0m \u001b[32m━━━━━━━━━━━━━━━━━━━━\u001b[0m\u001b[37m\u001b[0m \u001b[1m3s\u001b[0m 2ms/step - accuracy: 0.9172 - loss: 0.2302 - val_accuracy: 0.8894 - val_loss: 0.3075\n",
      "Epoch 29/30\n",
      "\u001b[1m1719/1719\u001b[0m \u001b[32m━━━━━━━━━━━━━━━━━━━━\u001b[0m\u001b[37m\u001b[0m \u001b[1m3s\u001b[0m 2ms/step - accuracy: 0.9177 - loss: 0.2298 - val_accuracy: 0.8924 - val_loss: 0.2968\n",
      "Epoch 30/30\n",
      "\u001b[1m1719/1719\u001b[0m \u001b[32m━━━━━━━━━━━━━━━━━━━━\u001b[0m\u001b[37m\u001b[0m \u001b[1m3s\u001b[0m 2ms/step - accuracy: 0.9180 - loss: 0.2290 - val_accuracy: 0.8968 - val_loss: 0.2969\n"
     ]
    },
    {
     "data": {
      "text/plain": [
       "<function matplotlib.pyplot.show(close=None, block=None)>"
      ]
     },
     "metadata": {},
     "output_type": "display_data"
    },
    {
     "data": {
      "image/png": "[encoded data removed]",
      "text/plain": [
       "<Figure size 800x500 with 1 Axes>"
      ]
     },
     "metadata": {},
     "output_type": "display_data"
    }
   ],
   "source": [
    "history = model.fit(X_train, y_train, epochs=30, validation_data=(X_validation, y_validation))\n",
    "\n",
    "pd.DataFrame(history.history).plot(figsize=(8,5))\n",
    "plt.grid(True)\n",
    "plt.gca().set_ylim(0,1)\n",
    "plt.show"
   ]
  },
  {
   "cell_type": "markdown",
   "metadata": {},
   "source": [
    "## Complex models and the Dynamic API\n",
    "\n",
    "Revie Wide & Deep neural networks (https://homl.info/widedeep).\n",
    "- An architecture which supports learning complex and simple patterns."
   ]
  },
  {
   "cell_type": "code",
   "execution_count": null,
   "metadata": {},
   "outputs": [
    {
     "data": {
      "text/html": [
       "<pre style=\"white-space:pre;overflow-x:auto;line-height:normal;font-family:Menlo,'DejaVu Sans Mono',consolas,'Courier New',monospace\"><span style=\"font-weight: bold\">Model: \"functional_8\"</span>\n",
       "</pre>\n"
      ],
      "text/plain": [
       "\u001b[1mModel: \"functional_8\"\u001b[0m\n"
      ]
     },
     "metadata": {},
     "output_type": "display_data"
    },
    {
     "data": {
      "text/html": [
       "<pre style=\"white-space:pre;overflow-x:auto;line-height:normal;font-family:Menlo,'DejaVu Sans Mono',consolas,'Courier New',monospace\">┏━━━━━━━━━━━━━━━━━━━━━┳━━━━━━━━━━━━━━━━━━━┳━━━━━━━━━━━━┳━━━━━━━━━━━━━━━━━━━┓\n",
       "┃<span style=\"font-weight: bold\"> Layer (type)        </span>┃<span style=\"font-weight: bold\"> Output Shape      </span>┃<span style=\"font-weight: bold\">    Param # </span>┃<span style=\"font-weight: bold\"> Connected to      </span>┃\n",
       "┡━━━━━━━━━━━━━━━━━━━━━╇━━━━━━━━━━━━━━━━━━━╇━━━━━━━━━━━━╇━━━━━━━━━━━━━━━━━━━┩\n",
       "│ input_layer_5       │ (<span style=\"color: #00d7ff; text-decoration-color: #00d7ff\">None</span>, <span style=\"color: #00af00; text-decoration-color: #00af00\">28</span>, <span style=\"color: #00af00; text-decoration-color: #00af00\">28</span>)    │          <span style=\"color: #00af00; text-decoration-color: #00af00\">0</span> │ -                 │\n",
       "│ (<span style=\"color: #0087ff; text-decoration-color: #0087ff\">InputLayer</span>)        │                   │            │                   │\n",
       "├─────────────────────┼───────────────────┼────────────┼───────────────────┤\n",
       "│ dense_16 (<span style=\"color: #0087ff; text-decoration-color: #0087ff\">Dense</span>)    │ (<span style=\"color: #00d7ff; text-decoration-color: #00d7ff\">None</span>, <span style=\"color: #00af00; text-decoration-color: #00af00\">28</span>, <span style=\"color: #00af00; text-decoration-color: #00af00\">100</span>)   │      <span style=\"color: #00af00; text-decoration-color: #00af00\">2,900</span> │ input_layer_5[<span style=\"color: #00af00; text-decoration-color: #00af00\">0</span>]… │\n",
       "├─────────────────────┼───────────────────┼────────────┼───────────────────┤\n",
       "│ dense_17 (<span style=\"color: #0087ff; text-decoration-color: #0087ff\">Dense</span>)    │ (<span style=\"color: #00d7ff; text-decoration-color: #00d7ff\">None</span>, <span style=\"color: #00af00; text-decoration-color: #00af00\">28</span>, <span style=\"color: #00af00; text-decoration-color: #00af00\">30</span>)    │      <span style=\"color: #00af00; text-decoration-color: #00af00\">3,030</span> │ dense_16[<span style=\"color: #00af00; text-decoration-color: #00af00\">0</span>][<span style=\"color: #00af00; text-decoration-color: #00af00\">0</span>]    │\n",
       "├─────────────────────┼───────────────────┼────────────┼───────────────────┤\n",
       "│ concatenate_4       │ (<span style=\"color: #00d7ff; text-decoration-color: #00d7ff\">None</span>, <span style=\"color: #00af00; text-decoration-color: #00af00\">28</span>, <span style=\"color: #00af00; text-decoration-color: #00af00\">58</span>)    │          <span style=\"color: #00af00; text-decoration-color: #00af00\">0</span> │ input_layer_5[<span style=\"color: #00af00; text-decoration-color: #00af00\">0</span>]… │\n",
       "│ (<span style=\"color: #0087ff; text-decoration-color: #0087ff\">Concatenate</span>)       │                   │            │ dense_17[<span style=\"color: #00af00; text-decoration-color: #00af00\">0</span>][<span style=\"color: #00af00; text-decoration-color: #00af00\">0</span>]    │\n",
       "├─────────────────────┼───────────────────┼────────────┼───────────────────┤\n",
       "│ dense_18 (<span style=\"color: #0087ff; text-decoration-color: #0087ff\">Dense</span>)    │ (<span style=\"color: #00d7ff; text-decoration-color: #00d7ff\">None</span>, <span style=\"color: #00af00; text-decoration-color: #00af00\">28</span>, <span style=\"color: #00af00; text-decoration-color: #00af00\">1</span>)     │         <span style=\"color: #00af00; text-decoration-color: #00af00\">59</span> │ concatenate_4[<span style=\"color: #00af00; text-decoration-color: #00af00\">0</span>]… │\n",
       "└─────────────────────┴───────────────────┴────────────┴───────────────────┘\n",
       "</pre>\n"
      ],
      "text/plain": [
       "┏━━━━━━━━━━━━━━━━━━━━━┳━━━━━━━━━━━━━━━━━━━┳━━━━━━━━━━━━┳━━━━━━━━━━━━━━━━━━━┓\n",
       "┃\u001b[1m \u001b[0m\u001b[1mLayer (type)       \u001b[0m\u001b[1m \u001b[0m┃\u001b[1m \u001b[0m\u001b[1mOutput Shape     \u001b[0m\u001b[1m \u001b[0m┃\u001b[1m \u001b[0m\u001b[1m   Param #\u001b[0m\u001b[1m \u001b[0m┃\u001b[1m \u001b[0m\u001b[1mConnected to     \u001b[0m\u001b[1m \u001b[0m┃\n",
       "┡━━━━━━━━━━━━━━━━━━━━━╇━━━━━━━━━━━━━━━━━━━╇━━━━━━━━━━━━╇━━━━━━━━━━━━━━━━━━━┩\n",
       "│ input_layer_5       │ (\u001b[38;5;45mNone\u001b[0m, \u001b[38;5;34m28\u001b[0m, \u001b[38;5;34m28\u001b[0m)    │          \u001b[38;5;34m0\u001b[0m │ -                 │\n",
       "│ (\u001b[38;5;33mInputLayer\u001b[0m)        │                   │            │                   │\n",
       "├─────────────────────┼───────────────────┼────────────┼───────────────────┤\n",
       "│ dense_16 (\u001b[38;5;33mDense\u001b[0m)    │ (\u001b[38;5;45mNone\u001b[0m, \u001b[38;5;34m28\u001b[0m, \u001b[38;5;34m100\u001b[0m)   │      \u001b[38;5;34m2,900\u001b[0m │ input_layer_5[\u001b[38;5;34m0\u001b[0m]… │\n",
       "├─────────────────────┼───────────────────┼────────────┼───────────────────┤\n",
       "│ dense_17 (\u001b[38;5;33mDense\u001b[0m)    │ (\u001b[38;5;45mNone\u001b[0m, \u001b[38;5;34m28\u001b[0m, \u001b[38;5;34m30\u001b[0m)    │      \u001b[38;5;34m3,030\u001b[0m │ dense_16[\u001b[38;5;34m0\u001b[0m][\u001b[38;5;34m0\u001b[0m]    │\n",
       "├─────────────────────┼───────────────────┼────────────┼───────────────────┤\n",
       "│ concatenate_4       │ (\u001b[38;5;45mNone\u001b[0m, \u001b[38;5;34m28\u001b[0m, \u001b[38;5;34m58\u001b[0m)    │          \u001b[38;5;34m0\u001b[0m │ input_layer_5[\u001b[38;5;34m0\u001b[0m]… │\n",
       "│ (\u001b[38;5;33mConcatenate\u001b[0m)       │                   │            │ dense_17[\u001b[38;5;34m0\u001b[0m][\u001b[38;5;34m0\u001b[0m]    │\n",
       "├─────────────────────┼───────────────────┼────────────┼───────────────────┤\n",
       "│ dense_18 (\u001b[38;5;33mDense\u001b[0m)    │ (\u001b[38;5;45mNone\u001b[0m, \u001b[38;5;34m28\u001b[0m, \u001b[38;5;34m1\u001b[0m)     │         \u001b[38;5;34m59\u001b[0m │ concatenate_4[\u001b[38;5;34m0\u001b[0m]… │\n",
       "└─────────────────────┴───────────────────┴────────────┴───────────────────┘\n"
      ]
     },
     "metadata": {},
     "output_type": "display_data"
    },
    {
     "data": {
      "text/html": [
       "<pre style=\"white-space:pre;overflow-x:auto;line-height:normal;font-family:Menlo,'DejaVu Sans Mono',consolas,'Courier New',monospace\"><span style=\"font-weight: bold\"> Total params: </span><span style=\"color: #00af00; text-decoration-color: #00af00\">5,989</span> (23.39 KB)\n",
       "</pre>\n"
      ],
      "text/plain": [
       "\u001b[1m Total params: \u001b[0m\u001b[38;5;34m5,989\u001b[0m (23.39 KB)\n"
      ]
     },
     "metadata": {},
     "output_type": "display_data"
    },
    {
     "data": {
      "text/html": [
       "<pre style=\"white-space:pre;overflow-x:auto;line-height:normal;font-family:Menlo,'DejaVu Sans Mono',consolas,'Courier New',monospace\"><span style=\"font-weight: bold\"> Trainable params: </span><span style=\"color: #00af00; text-decoration-color: #00af00\">5,989</span> (23.39 KB)\n",
       "</pre>\n"
      ],
      "text/plain": [
       "\u001b[1m Trainable params: \u001b[0m\u001b[38;5;34m5,989\u001b[0m (23.39 KB)\n"
      ]
     },
     "metadata": {},
     "output_type": "display_data"
    },
    {
     "data": {
      "text/html": [
       "<pre style=\"white-space:pre;overflow-x:auto;line-height:normal;font-family:Menlo,'DejaVu Sans Mono',consolas,'Courier New',monospace\"><span style=\"font-weight: bold\"> Non-trainable params: </span><span style=\"color: #00af00; text-decoration-color: #00af00\">0</span> (0.00 B)\n",
       "</pre>\n"
      ],
      "text/plain": [
       "\u001b[1m Non-trainable params: \u001b[0m\u001b[38;5;34m0\u001b[0m (0.00 B)\n"
      ]
     },
     "metadata": {},
     "output_type": "display_data"
    },
    {
     "name": "stdout",
     "output_type": "stream",
     "text": [
      "(28, 28)\n"
     ]
    }
   ],
   "source": [
    "input_ = keras.layers.Input(shape=X_train.shape[1:])\n",
    "# input_ = keras.layers.Flatten(input_shape=[28, 28])\n",
    "hidden1 = keras.layers.Dense(100, activation=\"relu\")(input_)\n",
    "hidden2 = keras.layers.Dense(30, activation=\"relu\")(hidden1)\n",
    "concat = keras.layers.Concatenate()([input_, hidden2])\n",
    "output = keras.layers.Dense(1)(concat)\n",
    "model = keras.Model(inputs=[input_], outputs=[output])\n",
    "model.summary()\n",
    "print(X_train.shape[1:])\n"
   ]
  },
  {
   "cell_type": "code",
   "execution_count": null,
   "metadata": {},
   "outputs": [
    {
     "name": "stdout",
     "output_type": "stream",
     "text": [
      "Epoch 1/30\n",
      "\u001b[1m  47/1719\u001b[0m \u001b[37m━━━━━━━━━━━━━━━━━━━━\u001b[0m \u001b[1m1s\u001b[0m 1ms/step - accuracy: 0.1104 - loss: 14.8469    "
     ]
    },
    {
     "name": "stderr",
     "output_type": "stream",
     "text": [
      "/Users/jesusdiazrivero/Documents/pocs/handson-ml-with-python/.venv/lib/python3.11/site-packages/keras/src/models/functional.py:238: UserWarning: The structure of `inputs` doesn't match the expected structure.\n",
      "Expected: ['keras_tensor_31']\n",
      "Received: inputs=Tensor(shape=(None, 28, 28))\n",
      "  warnings.warn(msg)\n"
     ]
    },
    {
     "name": "stdout",
     "output_type": "stream",
     "text": [
      "\u001b[1m1719/1719\u001b[0m \u001b[32m━━━━━━━━━━━━━━━━━━━━\u001b[0m\u001b[37m\u001b[0m \u001b[1m2s\u001b[0m 1ms/step - accuracy: 0.0983 - loss: 8.8852 - val_accuracy: 0.1112 - val_loss: 8.2354\n",
      "Epoch 2/30\n",
      "\u001b[1m1719/1719\u001b[0m \u001b[32m━━━━━━━━━━━━━━━━━━━━\u001b[0m\u001b[37m\u001b[0m \u001b[1m2s\u001b[0m 1ms/step - accuracy: 0.1024 - loss: 8.2600 - val_accuracy: 0.1112 - val_loss: 8.2816\n",
      "Epoch 3/30\n",
      "\u001b[1m1719/1719\u001b[0m \u001b[32m━━━━━━━━━━━━━━━━━━━━\u001b[0m\u001b[37m\u001b[0m \u001b[1m2s\u001b[0m 1ms/step - accuracy: 0.1002 - loss: 8.2867 - val_accuracy: 0.1112 - val_loss: 8.2526\n",
      "Epoch 4/30\n",
      "\u001b[1m1719/1719\u001b[0m \u001b[32m━━━━━━━━━━━━━━━━━━━━\u001b[0m\u001b[37m\u001b[0m \u001b[1m2s\u001b[0m 1ms/step - accuracy: 0.0987 - loss: 8.2655 - val_accuracy: 0.1112 - val_loss: 8.3114\n",
      "Epoch 5/30\n",
      "\u001b[1m1719/1719\u001b[0m \u001b[32m━━━━━━━━━━━━━━━━━━━━\u001b[0m\u001b[37m\u001b[0m \u001b[1m2s\u001b[0m 1ms/step - accuracy: 0.0996 - loss: 8.2532 - val_accuracy: 0.1112 - val_loss: 8.3061\n",
      "Epoch 6/30\n",
      "\u001b[1m1719/1719\u001b[0m \u001b[32m━━━━━━━━━━━━━━━━━━━━\u001b[0m\u001b[37m\u001b[0m \u001b[1m2s\u001b[0m 1ms/step - accuracy: 0.0992 - loss: 8.2941 - val_accuracy: 0.1112 - val_loss: 8.2336\n",
      "Epoch 7/30\n",
      "\u001b[1m1719/1719\u001b[0m \u001b[32m━━━━━━━━━━━━━━━━━━━━\u001b[0m\u001b[37m\u001b[0m \u001b[1m2s\u001b[0m 1ms/step - accuracy: 0.0975 - loss: 8.2443 - val_accuracy: 0.1112 - val_loss: 8.2370\n",
      "Epoch 8/30\n",
      "\u001b[1m1719/1719\u001b[0m \u001b[32m━━━━━━━━━━━━━━━━━━━━\u001b[0m\u001b[37m\u001b[0m \u001b[1m2s\u001b[0m 1ms/step - accuracy: 0.1004 - loss: 8.2627 - val_accuracy: 0.1112 - val_loss: 8.3421\n",
      "Epoch 9/30\n",
      "\u001b[1m1719/1719\u001b[0m \u001b[32m━━━━━━━━━━━━━━━━━━━━\u001b[0m\u001b[37m\u001b[0m \u001b[1m2s\u001b[0m 1ms/step - accuracy: 0.1001 - loss: 8.2436 - val_accuracy: 0.1112 - val_loss: 8.2576\n",
      "Epoch 10/30\n",
      "\u001b[1m1719/1719\u001b[0m \u001b[32m━━━━━━━━━━━━━━━━━━━━\u001b[0m\u001b[37m\u001b[0m \u001b[1m2s\u001b[0m 1ms/step - accuracy: 0.1002 - loss: 8.2724 - val_accuracy: 0.1112 - val_loss: 8.2275\n",
      "Epoch 11/30\n",
      "\u001b[1m1719/1719\u001b[0m \u001b[32m━━━━━━━━━━━━━━━━━━━━\u001b[0m\u001b[37m\u001b[0m \u001b[1m2s\u001b[0m 1ms/step - accuracy: 0.0991 - loss: 8.2576 - val_accuracy: 0.1112 - val_loss: 8.2276\n",
      "Epoch 12/30\n",
      "\u001b[1m1719/1719\u001b[0m \u001b[32m━━━━━━━━━━━━━━━━━━━━\u001b[0m\u001b[37m\u001b[0m \u001b[1m2s\u001b[0m 1ms/step - accuracy: 0.0993 - loss: 8.2684 - val_accuracy: 0.1112 - val_loss: 8.2383\n",
      "Epoch 13/30\n",
      "\u001b[1m1719/1719\u001b[0m \u001b[32m━━━━━━━━━━━━━━━━━━━━\u001b[0m\u001b[37m\u001b[0m \u001b[1m2s\u001b[0m 1ms/step - accuracy: 0.0999 - loss: 8.3291 - val_accuracy: 0.1112 - val_loss: 8.2648\n",
      "Epoch 14/30\n",
      "\u001b[1m1719/1719\u001b[0m \u001b[32m━━━━━━━━━━━━━━━━━━━━\u001b[0m\u001b[37m\u001b[0m \u001b[1m2s\u001b[0m 1ms/step - accuracy: 0.0967 - loss: 8.2493 - val_accuracy: 0.1112 - val_loss: 8.2538\n",
      "Epoch 15/30\n",
      "\u001b[1m1719/1719\u001b[0m \u001b[32m━━━━━━━━━━━━━━━━━━━━\u001b[0m\u001b[37m\u001b[0m \u001b[1m2s\u001b[0m 1ms/step - accuracy: 0.0979 - loss: 8.2791 - val_accuracy: 0.1112 - val_loss: 8.2510\n",
      "Epoch 16/30\n",
      "\u001b[1m1719/1719\u001b[0m \u001b[32m━━━━━━━━━━━━━━━━━━━━\u001b[0m\u001b[37m\u001b[0m \u001b[1m2s\u001b[0m 1ms/step - accuracy: 0.0996 - loss: 8.2324 - val_accuracy: 0.1112 - val_loss: 8.2343\n",
      "Epoch 17/30\n",
      "\u001b[1m1719/1719\u001b[0m \u001b[32m━━━━━━━━━━━━━━━━━━━━\u001b[0m\u001b[37m\u001b[0m \u001b[1m2s\u001b[0m 1ms/step - accuracy: 0.0988 - loss: 8.2901 - val_accuracy: 0.1112 - val_loss: 8.2336\n",
      "Epoch 18/30\n",
      "\u001b[1m1719/1719\u001b[0m \u001b[32m━━━━━━━━━━━━━━━━━━━━\u001b[0m\u001b[37m\u001b[0m \u001b[1m2s\u001b[0m 1ms/step - accuracy: 0.0981 - loss: 8.2937 - val_accuracy: 0.1112 - val_loss: 8.2281\n",
      "Epoch 19/30\n",
      "\u001b[1m1719/1719\u001b[0m \u001b[32m━━━━━━━━━━━━━━━━━━━━\u001b[0m\u001b[37m\u001b[0m \u001b[1m2s\u001b[0m 1ms/step - accuracy: 0.0978 - loss: 8.2549 - val_accuracy: 0.1112 - val_loss: 8.2538\n",
      "Epoch 20/30\n",
      "\u001b[1m1719/1719\u001b[0m \u001b[32m━━━━━━━━━━━━━━━━━━━━\u001b[0m\u001b[37m\u001b[0m \u001b[1m2s\u001b[0m 1ms/step - accuracy: 0.0989 - loss: 8.2845 - val_accuracy: 0.1112 - val_loss: 8.2512\n",
      "Epoch 21/30\n",
      "\u001b[1m1719/1719\u001b[0m \u001b[32m━━━━━━━━━━━━━━━━━━━━\u001b[0m\u001b[37m\u001b[0m \u001b[1m2s\u001b[0m 1ms/step - accuracy: 0.1003 - loss: 8.3361 - val_accuracy: 0.1112 - val_loss: 8.2369\n",
      "Epoch 22/30\n",
      "\u001b[1m1719/1719\u001b[0m \u001b[32m━━━━━━━━━━━━━━━━━━━━\u001b[0m\u001b[37m\u001b[0m \u001b[1m2s\u001b[0m 1ms/step - accuracy: 0.0990 - loss: 8.2420 - val_accuracy: 0.1112 - val_loss: 8.2273\n",
      "Epoch 23/30\n",
      "\u001b[1m1719/1719\u001b[0m \u001b[32m━━━━━━━━━━━━━━━━━━━━\u001b[0m\u001b[37m\u001b[0m \u001b[1m2s\u001b[0m 1ms/step - accuracy: 0.0968 - loss: 8.2398 - val_accuracy: 0.1112 - val_loss: 8.2501\n",
      "Epoch 24/30\n",
      "\u001b[1m1719/1719\u001b[0m \u001b[32m━━━━━━━━━━━━━━━━━━━━\u001b[0m\u001b[37m\u001b[0m \u001b[1m2s\u001b[0m 1ms/step - accuracy: 0.0985 - loss: 8.3045 - val_accuracy: 0.1112 - val_loss: 8.2302\n",
      "Epoch 25/30\n",
      "\u001b[1m1719/1719\u001b[0m \u001b[32m━━━━━━━━━━━━━━━━━━━━\u001b[0m\u001b[37m\u001b[0m \u001b[1m2s\u001b[0m 1ms/step - accuracy: 0.0977 - loss: 8.2120 - val_accuracy: 0.1112 - val_loss: 8.2448\n",
      "Epoch 26/30\n",
      "\u001b[1m1719/1719\u001b[0m \u001b[32m━━━━━━━━━━━━━━━━━━━━\u001b[0m\u001b[37m\u001b[0m \u001b[1m2s\u001b[0m 1ms/step - accuracy: 0.0977 - loss: 8.2504 - val_accuracy: 0.1112 - val_loss: 8.2420\n",
      "Epoch 27/30\n",
      "\u001b[1m1719/1719\u001b[0m \u001b[32m━━━━━━━━━━━━━━━━━━━━\u001b[0m\u001b[37m\u001b[0m \u001b[1m2s\u001b[0m 1ms/step - accuracy: 0.0997 - loss: 8.1906 - val_accuracy: 0.1112 - val_loss: 8.2584\n",
      "Epoch 28/30\n",
      "\u001b[1m1719/1719\u001b[0m \u001b[32m━━━━━━━━━━━━━━━━━━━━\u001b[0m\u001b[37m\u001b[0m \u001b[1m2s\u001b[0m 1ms/step - accuracy: 0.1002 - loss: 8.2956 - val_accuracy: 0.1112 - val_loss: 8.2440\n",
      "Epoch 29/30\n",
      "\u001b[1m1719/1719\u001b[0m \u001b[32m━━━━━━━━━━━━━━━━━━━━\u001b[0m\u001b[37m\u001b[0m \u001b[1m2s\u001b[0m 1ms/step - accuracy: 0.1000 - loss: 8.2868 - val_accuracy: 0.1112 - val_loss: 8.2420\n",
      "Epoch 30/30\n",
      "\u001b[1m1719/1719\u001b[0m \u001b[32m━━━━━━━━━━━━━━━━━━━━\u001b[0m\u001b[37m\u001b[0m \u001b[1m2s\u001b[0m 1ms/step - accuracy: 0.0979 - loss: 8.2430 - val_accuracy: 0.1112 - val_loss: 8.2474\n"
     ]
    }
   ],
   "source": [
    "model.compile(loss=\"mean_squared_error\", optimizer=\"sgd\", metrics=[\"accuracy\"])\n",
    "history = model.fit(X_train, y_train, epochs=30, validation_data=(X_validation, y_validation))"
   ]
  },
  {
   "cell_type": "code",
   "execution_count": null,
   "metadata": {},
   "outputs": [
    {
     "data": {
      "text/plain": [
       "<function matplotlib.pyplot.show(close=None, block=None)>"
      ]
     },
     "metadata": {},
     "output_type": "display_data"
    },
    {
     "data": {
      "image/png": "[encoded data removed]",
      "text/plain": [
       "<Figure size 800x500 with 1 Axes>"
      ]
     },
     "metadata": {},
     "output_type": "display_data"
    }
   ],
   "source": [
    "pd.DataFrame(history.history).plot(figsize=(8,5))\n",
    "plt.grid(True)\n",
    "plt.gca().set_ylim(0,1)\n",
    "plt.show"
   ]
  },
  {
   "cell_type": "markdown",
   "metadata": {},
   "source": [
    "## Subclassing API\n",
    "\n",
    "Used to build dynamic models.\n",
    "\n",
    "Downsides:\n",
    "- model architecture is hidden in the call function\n",
    "- summary method doesn't provide detailed information"
   ]
  },
  {
   "cell_type": "code",
   "execution_count": null,
   "metadata": {},
   "outputs": [],
   "source": [
    "class WideAndDeepModel(keras.Model):\n",
    "    def __init__(self, units=30, activation=\"relu\", **kwargs):\n",
    "        super().__init__(**kwargs)\n",
    "        self.hidden1 = keras.layers.Dense(units, activation=activation)\n",
    "        self.hidden2 = keras.layers.Dense(units, activation=activation)\n",
    "        self.main_output = keras.layers.Dense(1)\n",
    "        # Sample model with two outputs\n",
    "        self.aux_output = keras.layers.Dense(1)\n",
    "\n",
    "    def call(self, inputs):\n",
    "        input_A, input_B = inputs\n",
    "        hidden1 = self.hidden1(input_B)\n",
    "        hidden2 = self.hidden2(hidden1)\n",
    "        concat = keras.layers.concatenate([input_A, hidden2])\n",
    "        main_output = self.main_output(concat)\n",
    "        aux_output = self.aux_output(hidden2)\n",
    "        return main_output, aux_output\n",
    "    \n",
    "model = WideAndDeepModel()"
   ]
  },
  {
   "cell_type": "markdown",
   "metadata": {},
   "source": [
    "## Callbacks\n",
    "\n",
    "Callbacks are sent to the `fit()` method as a way to enhance functionalities of Keras.\n",
    "They are called ath the start and end of training, each epoch, and even before and after each batch.\n",
    "\n",
    "### ModelCheckpoint\n",
    "\n",
    "Saves versions of the model after each training run, can optionally be set to eventually keep only the best performing model"
   ]
  },
  {
   "cell_type": "code",
   "execution_count": null,
   "metadata": {},
   "outputs": [
    {
     "data": {
      "text/html": [
       "<pre style=\"white-space:pre;overflow-x:auto;line-height:normal;font-family:Menlo,'DejaVu Sans Mono',consolas,'Courier New',monospace\"><span style=\"font-weight: bold\">Model: \"sequential_2\"</span>\n",
       "</pre>\n"
      ],
      "text/plain": [
       "\u001b[1mModel: \"sequential_2\"\u001b[0m\n"
      ]
     },
     "metadata": {},
     "output_type": "display_data"
    },
    {
     "data": {
      "text/html": [
       "<pre style=\"white-space:pre;overflow-x:auto;line-height:normal;font-family:Menlo,'DejaVu Sans Mono',consolas,'Courier New',monospace\">┏━━━━━━━━━━━━━━━━━━━━━━━━━━━━━━━━━┳━━━━━━━━━━━━━━━━━━━━━━━━┳━━━━━━━━━━━━━━━┓\n",
       "┃<span style=\"font-weight: bold\"> Layer (type)                    </span>┃<span style=\"font-weight: bold\"> Output Shape           </span>┃<span style=\"font-weight: bold\">       Param # </span>┃\n",
       "┡━━━━━━━━━━━━━━━━━━━━━━━━━━━━━━━━━╇━━━━━━━━━━━━━━━━━━━━━━━━╇━━━━━━━━━━━━━━━┩\n",
       "│ flatten_3 (<span style=\"color: #0087ff; text-decoration-color: #0087ff\">Flatten</span>)             │ (<span style=\"color: #00d7ff; text-decoration-color: #00d7ff\">None</span>, <span style=\"color: #00af00; text-decoration-color: #00af00\">784</span>)            │             <span style=\"color: #00af00; text-decoration-color: #00af00\">0</span> │\n",
       "├─────────────────────────────────┼────────────────────────┼───────────────┤\n",
       "│ dense_26 (<span style=\"color: #0087ff; text-decoration-color: #0087ff\">Dense</span>)                │ (<span style=\"color: #00d7ff; text-decoration-color: #00d7ff\">None</span>, <span style=\"color: #00af00; text-decoration-color: #00af00\">300</span>)            │       <span style=\"color: #00af00; text-decoration-color: #00af00\">235,500</span> │\n",
       "├─────────────────────────────────┼────────────────────────┼───────────────┤\n",
       "│ dense_27 (<span style=\"color: #0087ff; text-decoration-color: #0087ff\">Dense</span>)                │ (<span style=\"color: #00d7ff; text-decoration-color: #00d7ff\">None</span>, <span style=\"color: #00af00; text-decoration-color: #00af00\">100</span>)            │        <span style=\"color: #00af00; text-decoration-color: #00af00\">30,100</span> │\n",
       "├─────────────────────────────────┼────────────────────────┼───────────────┤\n",
       "│ dense_28 (<span style=\"color: #0087ff; text-decoration-color: #0087ff\">Dense</span>)                │ (<span style=\"color: #00d7ff; text-decoration-color: #00d7ff\">None</span>, <span style=\"color: #00af00; text-decoration-color: #00af00\">10</span>)             │         <span style=\"color: #00af00; text-decoration-color: #00af00\">1,010</span> │\n",
       "└─────────────────────────────────┴────────────────────────┴───────────────┘\n",
       "</pre>\n"
      ],
      "text/plain": [
       "┏━━━━━━━━━━━━━━━━━━━━━━━━━━━━━━━━━┳━━━━━━━━━━━━━━━━━━━━━━━━┳━━━━━━━━━━━━━━━┓\n",
       "┃\u001b[1m \u001b[0m\u001b[1mLayer (type)                   \u001b[0m\u001b[1m \u001b[0m┃\u001b[1m \u001b[0m\u001b[1mOutput Shape          \u001b[0m\u001b[1m \u001b[0m┃\u001b[1m \u001b[0m\u001b[1m      Param #\u001b[0m\u001b[1m \u001b[0m┃\n",
       "┡━━━━━━━━━━━━━━━━━━━━━━━━━━━━━━━━━╇━━━━━━━━━━━━━━━━━━━━━━━━╇━━━━━━━━━━━━━━━┩\n",
       "│ flatten_3 (\u001b[38;5;33mFlatten\u001b[0m)             │ (\u001b[38;5;45mNone\u001b[0m, \u001b[38;5;34m784\u001b[0m)            │             \u001b[38;5;34m0\u001b[0m │\n",
       "├─────────────────────────────────┼────────────────────────┼───────────────┤\n",
       "│ dense_26 (\u001b[38;5;33mDense\u001b[0m)                │ (\u001b[38;5;45mNone\u001b[0m, \u001b[38;5;34m300\u001b[0m)            │       \u001b[38;5;34m235,500\u001b[0m │\n",
       "├─────────────────────────────────┼────────────────────────┼───────────────┤\n",
       "│ dense_27 (\u001b[38;5;33mDense\u001b[0m)                │ (\u001b[38;5;45mNone\u001b[0m, \u001b[38;5;34m100\u001b[0m)            │        \u001b[38;5;34m30,100\u001b[0m │\n",
       "├─────────────────────────────────┼────────────────────────┼───────────────┤\n",
       "│ dense_28 (\u001b[38;5;33mDense\u001b[0m)                │ (\u001b[38;5;45mNone\u001b[0m, \u001b[38;5;34m10\u001b[0m)             │         \u001b[38;5;34m1,010\u001b[0m │\n",
       "└─────────────────────────────────┴────────────────────────┴───────────────┘\n"
      ]
     },
     "metadata": {},
     "output_type": "display_data"
    },
    {
     "data": {
      "text/html": [
       "<pre style=\"white-space:pre;overflow-x:auto;line-height:normal;font-family:Menlo,'DejaVu Sans Mono',consolas,'Courier New',monospace\"><span style=\"font-weight: bold\"> Total params: </span><span style=\"color: #00af00; text-decoration-color: #00af00\">266,610</span> (1.02 MB)\n",
       "</pre>\n"
      ],
      "text/plain": [
       "\u001b[1m Total params: \u001b[0m\u001b[38;5;34m266,610\u001b[0m (1.02 MB)\n"
      ]
     },
     "metadata": {},
     "output_type": "display_data"
    },
    {
     "data": {
      "text/html": [
       "<pre style=\"white-space:pre;overflow-x:auto;line-height:normal;font-family:Menlo,'DejaVu Sans Mono',consolas,'Courier New',monospace\"><span style=\"font-weight: bold\"> Trainable params: </span><span style=\"color: #00af00; text-decoration-color: #00af00\">266,610</span> (1.02 MB)\n",
       "</pre>\n"
      ],
      "text/plain": [
       "\u001b[1m Trainable params: \u001b[0m\u001b[38;5;34m266,610\u001b[0m (1.02 MB)\n"
      ]
     },
     "metadata": {},
     "output_type": "display_data"
    },
    {
     "data": {
      "text/html": [
       "<pre style=\"white-space:pre;overflow-x:auto;line-height:normal;font-family:Menlo,'DejaVu Sans Mono',consolas,'Courier New',monospace\"><span style=\"font-weight: bold\"> Non-trainable params: </span><span style=\"color: #00af00; text-decoration-color: #00af00\">0</span> (0.00 B)\n",
       "</pre>\n"
      ],
      "text/plain": [
       "\u001b[1m Non-trainable params: \u001b[0m\u001b[38;5;34m0\u001b[0m (0.00 B)\n"
      ]
     },
     "metadata": {},
     "output_type": "display_data"
    },
    {
     "name": "stdout",
     "output_type": "stream",
     "text": [
      "Epoch 1/10\n",
      "\u001b[1m1719/1719\u001b[0m \u001b[32m━━━━━━━━━━━━━━━━━━━━\u001b[0m\u001b[37m\u001b[0m \u001b[1m1s\u001b[0m 730us/step - accuracy: 0.6888 - loss: 0.9760\n",
      "Epoch 2/10\n",
      "\u001b[1m 210/1719\u001b[0m \u001b[32m━━\u001b[0m\u001b[37m━━━━━━━━━━━━━━━━━━\u001b[0m \u001b[1m1s\u001b[0m 722us/step - accuracy: 0.8213 - loss: 0.5147"
     ]
    },
    {
     "name": "stderr",
     "output_type": "stream",
     "text": [
      "/Users/jesusdiazrivero/Documents/pocs/handson-ml-with-python/.venv/lib/python3.11/site-packages/keras/src/callbacks/model_checkpoint.py:209: UserWarning: Can save best model only with val_loss available, skipping.\n",
      "  self._save_model(epoch=epoch, batch=None, logs=logs)\n"
     ]
    },
    {
     "name": "stdout",
     "output_type": "stream",
     "text": [
      "\u001b[1m1719/1719\u001b[0m \u001b[32m━━━━━━━━━━━━━━━━━━━━\u001b[0m\u001b[37m\u001b[0m \u001b[1m1s\u001b[0m 707us/step - accuracy: 0.8277 - loss: 0.4974\n",
      "Epoch 3/10\n",
      "\u001b[1m1719/1719\u001b[0m \u001b[32m━━━━━━━━━━━━━━━━━━━━\u001b[0m\u001b[37m\u001b[0m \u001b[1m1s\u001b[0m 697us/step - accuracy: 0.8453 - loss: 0.4482\n",
      "Epoch 4/10\n",
      "\u001b[1m1719/1719\u001b[0m \u001b[32m━━━━━━━━━━━━━━━━━━━━\u001b[0m\u001b[37m\u001b[0m \u001b[1m1s\u001b[0m 675us/step - accuracy: 0.8532 - loss: 0.4200\n",
      "Epoch 5/10\n",
      "\u001b[1m1719/1719\u001b[0m \u001b[32m━━━━━━━━━━━━━━━━━━━━\u001b[0m\u001b[37m\u001b[0m \u001b[1m1s\u001b[0m 678us/step - accuracy: 0.8579 - loss: 0.4032\n",
      "Epoch 6/10\n",
      "\u001b[1m1719/1719\u001b[0m \u001b[32m━━━━━━━━━━━━━━━━━━━━\u001b[0m\u001b[37m\u001b[0m \u001b[1m1s\u001b[0m 689us/step - accuracy: 0.8651 - loss: 0.3833\n",
      "Epoch 7/10\n",
      "\u001b[1m1719/1719\u001b[0m \u001b[32m━━━━━━━━━━━━━━━━━━━━\u001b[0m\u001b[37m\u001b[0m \u001b[1m1s\u001b[0m 668us/step - accuracy: 0.8712 - loss: 0.3649\n",
      "Epoch 8/10\n",
      "\u001b[1m1719/1719\u001b[0m \u001b[32m━━━━━━━━━━━━━━━━━━━━\u001b[0m\u001b[37m\u001b[0m \u001b[1m1s\u001b[0m 716us/step - accuracy: 0.8735 - loss: 0.3572\n",
      "Epoch 9/10\n",
      "\u001b[1m1719/1719\u001b[0m \u001b[32m━━━━━━━━━━━━━━━━━━━━\u001b[0m\u001b[37m\u001b[0m \u001b[1m1s\u001b[0m 667us/step - accuracy: 0.8762 - loss: 0.3438\n",
      "Epoch 10/10\n",
      "\u001b[1m1719/1719\u001b[0m \u001b[32m━━━━━━━━━━━━━━━━━━━━\u001b[0m\u001b[37m\u001b[0m \u001b[1m1s\u001b[0m 703us/step - accuracy: 0.8794 - loss: 0.3339\n"
     ]
    }
   ],
   "source": [
    "model.summary()\n",
    "\n",
    "checkpoint_cb = keras.callbacks.ModelCheckpoint(\"my_keras_model.h5\", save_best_only=True)\n",
    "model.compile(loss=\"sparse_categorical_crossentropy\",\n",
    "              optimizer=\"sgd\",\n",
    "              metrics=[\"accuracy\"])\n",
    "history = model.fit(X_train, y_train, epochs=10, callbacks=[checkpoint_cb])\n",
    "# TODO: Debug why this doesn't work with Subclassing API model"
   ]
  },
  {
   "cell_type": "markdown",
   "metadata": {},
   "source": [
    "## Tensorboard\n",
    "\n",
    "Out of the box visualization tool to visualize training curves.\n",
    "- Need to define a log location for data writing.\n",
    "- Recommended to set program to write logs to subdirectories within locations for each run --> you can view changes live as they occur\n",
    "- Data is written as __event files__ to binary log files\n",
    "- Each binary data is a __summary__\n",
    "\n",
    "Run Tensorboard server:\n",
    "```\n",
    "tensorboard --logdir=./chapter-10/logs --port=6006\n",
    "```"
   ]
  },
  {
   "cell_type": "code",
   "execution_count": null,
   "metadata": {},
   "outputs": [],
   "source": [
    "import os\n",
    "\n",
    "root_logdir = os.path.join(os.curdir, \"logs\")\n",
    "\n",
    "def get_run_logdir():\n",
    "    import time\n",
    "    run_id = time.strftime(\"run_%Y_%m_%d-%H_%M_%S\")\n",
    "    return os.path.join(root_logdir, run_id)\n",
    "\n",
    "run_logdir = get_run_logdir()"
   ]
  },
  {
   "cell_type": "code",
   "execution_count": null,
   "metadata": {},
   "outputs": [
    {
     "name": "stdout",
     "output_type": "stream",
     "text": [
      "Epoch 1/30\n",
      "\u001b[1m1719/1719\u001b[0m \u001b[32m━━━━━━━━━━━━━━━━━━━━\u001b[0m\u001b[37m\u001b[0m \u001b[1m1s\u001b[0m 833us/step - accuracy: 0.8820 - loss: 0.3313 - val_accuracy: 0.8820 - val_loss: 0.3375\n",
      "Epoch 2/30\n",
      "\u001b[1m1719/1719\u001b[0m \u001b[32m━━━━━━━━━━━━━━━━━━━━\u001b[0m\u001b[37m\u001b[0m \u001b[1m1s\u001b[0m 792us/step - accuracy: 0.8874 - loss: 0.3153 - val_accuracy: 0.8802 - val_loss: 0.3356\n",
      "Epoch 3/30\n",
      "\u001b[1m1719/1719\u001b[0m \u001b[32m━━━━━━━━━━━━━━━━━━━━\u001b[0m\u001b[37m\u001b[0m \u001b[1m1s\u001b[0m 752us/step - accuracy: 0.8880 - loss: 0.3132 - val_accuracy: 0.8778 - val_loss: 0.3370\n",
      "Epoch 4/30\n",
      "\u001b[1m1719/1719\u001b[0m \u001b[32m━━━━━━━━━━━━━━━━━━━━\u001b[0m\u001b[37m\u001b[0m \u001b[1m1s\u001b[0m 811us/step - accuracy: 0.8909 - loss: 0.3014 - val_accuracy: 0.8810 - val_loss: 0.3342\n",
      "Epoch 5/30\n",
      "\u001b[1m1719/1719\u001b[0m \u001b[32m━━━━━━━━━━━━━━━━━━━━\u001b[0m\u001b[37m\u001b[0m \u001b[1m1s\u001b[0m 765us/step - accuracy: 0.8891 - loss: 0.3061 - val_accuracy: 0.8826 - val_loss: 0.3251\n",
      "Epoch 6/30\n",
      "\u001b[1m1719/1719\u001b[0m \u001b[32m━━━━━━━━━━━━━━━━━━━━\u001b[0m\u001b[37m\u001b[0m \u001b[1m1s\u001b[0m 832us/step - accuracy: 0.8956 - loss: 0.2882 - val_accuracy: 0.8862 - val_loss: 0.3183\n",
      "Epoch 7/30\n",
      "\u001b[1m1719/1719\u001b[0m \u001b[32m━━━━━━━━━━━━━━━━━━━━\u001b[0m\u001b[37m\u001b[0m \u001b[1m1s\u001b[0m 768us/step - accuracy: 0.8959 - loss: 0.2855 - val_accuracy: 0.8858 - val_loss: 0.3090\n",
      "Epoch 8/30\n",
      "\u001b[1m1719/1719\u001b[0m \u001b[32m━━━━━━━━━━━━━━━━━━━━\u001b[0m\u001b[37m\u001b[0m \u001b[1m1s\u001b[0m 790us/step - accuracy: 0.8987 - loss: 0.2806 - val_accuracy: 0.8892 - val_loss: 0.3106\n",
      "Epoch 9/30\n",
      "\u001b[1m1719/1719\u001b[0m \u001b[32m━━━━━━━━━━━━━━━━━━━━\u001b[0m\u001b[37m\u001b[0m \u001b[1m1s\u001b[0m 788us/step - accuracy: 0.9015 - loss: 0.2717 - val_accuracy: 0.8762 - val_loss: 0.3264\n",
      "Epoch 10/30\n",
      "\u001b[1m1719/1719\u001b[0m \u001b[32m━━━━━━━━━━━━━━━━━━━━\u001b[0m\u001b[37m\u001b[0m \u001b[1m1s\u001b[0m 850us/step - accuracy: 0.9043 - loss: 0.2682 - val_accuracy: 0.8882 - val_loss: 0.3054\n",
      "Epoch 11/30\n",
      "\u001b[1m1719/1719\u001b[0m \u001b[32m━━━━━━━━━━━━━━━━━━━━\u001b[0m\u001b[37m\u001b[0m \u001b[1m1s\u001b[0m 845us/step - accuracy: 0.9053 - loss: 0.2627 - val_accuracy: 0.8836 - val_loss: 0.3229\n",
      "Epoch 12/30\n",
      "\u001b[1m1719/1719\u001b[0m \u001b[32m━━━━━━━━━━━━━━━━━━━━\u001b[0m\u001b[37m\u001b[0m \u001b[1m1s\u001b[0m 768us/step - accuracy: 0.9080 - loss: 0.2563 - val_accuracy: 0.8836 - val_loss: 0.3218\n",
      "Epoch 13/30\n",
      "\u001b[1m1719/1719\u001b[0m \u001b[32m━━━━━━━━━━━━━━━━━━━━\u001b[0m\u001b[37m\u001b[0m \u001b[1m2s\u001b[0m 1ms/step - accuracy: 0.9087 - loss: 0.2536 - val_accuracy: 0.8852 - val_loss: 0.3116\n",
      "Epoch 14/30\n",
      "\u001b[1m1719/1719\u001b[0m \u001b[32m━━━━━━━━━━━━━━━━━━━━\u001b[0m\u001b[37m\u001b[0m \u001b[1m2s\u001b[0m 995us/step - accuracy: 0.9110 - loss: 0.2466 - val_accuracy: 0.8882 - val_loss: 0.3136\n",
      "Epoch 15/30\n",
      "\u001b[1m1719/1719\u001b[0m \u001b[32m━━━━━━━━━━━━━━━━━━━━\u001b[0m\u001b[37m\u001b[0m \u001b[1m1s\u001b[0m 772us/step - accuracy: 0.9112 - loss: 0.2500 - val_accuracy: 0.8872 - val_loss: 0.3066\n",
      "Epoch 16/30\n",
      "\u001b[1m1719/1719\u001b[0m \u001b[32m━━━━━━━━━━━━━━━━━━━━\u001b[0m\u001b[37m\u001b[0m \u001b[1m1s\u001b[0m 804us/step - accuracy: 0.9154 - loss: 0.2377 - val_accuracy: 0.8886 - val_loss: 0.3123\n",
      "Epoch 17/30\n",
      "\u001b[1m1719/1719\u001b[0m \u001b[32m━━━━━━━━━━━━━━━━━━━━\u001b[0m\u001b[37m\u001b[0m \u001b[1m1s\u001b[0m 773us/step - accuracy: 0.9150 - loss: 0.2340 - val_accuracy: 0.8928 - val_loss: 0.2961\n",
      "Epoch 18/30\n",
      "\u001b[1m1719/1719\u001b[0m \u001b[32m━━━━━━━━━━━━━━━━━━━━\u001b[0m\u001b[37m\u001b[0m \u001b[1m1s\u001b[0m 813us/step - accuracy: 0.9167 - loss: 0.2296 - val_accuracy: 0.8864 - val_loss: 0.3052\n",
      "Epoch 19/30\n",
      "\u001b[1m1719/1719\u001b[0m \u001b[32m━━━━━━━━━━━━━━━━━━━━\u001b[0m\u001b[37m\u001b[0m \u001b[1m1s\u001b[0m 749us/step - accuracy: 0.9183 - loss: 0.2270 - val_accuracy: 0.8960 - val_loss: 0.2912\n",
      "Epoch 20/30\n",
      "\u001b[1m1719/1719\u001b[0m \u001b[32m━━━━━━━━━━━━━━━━━━━━\u001b[0m\u001b[37m\u001b[0m \u001b[1m1s\u001b[0m 798us/step - accuracy: 0.9180 - loss: 0.2279 - val_accuracy: 0.8906 - val_loss: 0.2971\n",
      "Epoch 21/30\n",
      "\u001b[1m1719/1719\u001b[0m \u001b[32m━━━━━━━━━━━━━━━━━━━━\u001b[0m\u001b[37m\u001b[0m \u001b[1m1s\u001b[0m 828us/step - accuracy: 0.9202 - loss: 0.2229 - val_accuracy: 0.8904 - val_loss: 0.3053\n",
      "Epoch 22/30\n",
      "\u001b[1m1719/1719\u001b[0m \u001b[32m━━━━━━━━━━━━━━━━━━━━\u001b[0m\u001b[37m\u001b[0m \u001b[1m1s\u001b[0m 791us/step - accuracy: 0.9224 - loss: 0.2144 - val_accuracy: 0.8928 - val_loss: 0.2951\n",
      "Epoch 23/30\n",
      "\u001b[1m1719/1719\u001b[0m \u001b[32m━━━━━━━━━━━━━━━━━━━━\u001b[0m\u001b[37m\u001b[0m \u001b[1m1s\u001b[0m 818us/step - accuracy: 0.9249 - loss: 0.2126 - val_accuracy: 0.8942 - val_loss: 0.2909\n",
      "Epoch 24/30\n",
      "\u001b[1m1719/1719\u001b[0m \u001b[32m━━━━━━━━━━━━━━━━━━━━\u001b[0m\u001b[37m\u001b[0m \u001b[1m1s\u001b[0m 795us/step - accuracy: 0.9235 - loss: 0.2116 - val_accuracy: 0.8830 - val_loss: 0.3282\n",
      "Epoch 25/30\n",
      "\u001b[1m1719/1719\u001b[0m \u001b[32m━━━━━━━━━━━━━━━━━━━━\u001b[0m\u001b[37m\u001b[0m \u001b[1m1s\u001b[0m 792us/step - accuracy: 0.9275 - loss: 0.2043 - val_accuracy: 0.8926 - val_loss: 0.2999\n",
      "Epoch 26/30\n",
      "\u001b[1m1719/1719\u001b[0m \u001b[32m━━━━━━━━━━━━━━━━━━━━\u001b[0m\u001b[37m\u001b[0m \u001b[1m1s\u001b[0m 827us/step - accuracy: 0.9271 - loss: 0.2007 - val_accuracy: 0.8900 - val_loss: 0.3055\n",
      "Epoch 27/30\n",
      "\u001b[1m1719/1719\u001b[0m \u001b[32m━━━━━━━━━━━━━━━━━━━━\u001b[0m\u001b[37m\u001b[0m \u001b[1m1s\u001b[0m 733us/step - accuracy: 0.9273 - loss: 0.2023 - val_accuracy: 0.8940 - val_loss: 0.2924\n",
      "Epoch 28/30\n",
      "\u001b[1m1719/1719\u001b[0m \u001b[32m━━━━━━━━━━━━━━━━━━━━\u001b[0m\u001b[37m\u001b[0m \u001b[1m1s\u001b[0m 733us/step - accuracy: 0.9278 - loss: 0.1992 - val_accuracy: 0.8948 - val_loss: 0.3062\n",
      "Epoch 29/30\n",
      "\u001b[1m1719/1719\u001b[0m \u001b[32m━━━━━━━━━━━━━━━━━━━━\u001b[0m\u001b[37m\u001b[0m \u001b[1m1s\u001b[0m 772us/step - accuracy: 0.9313 - loss: 0.1956 - val_accuracy: 0.8966 - val_loss: 0.2830\n",
      "Epoch 30/30\n",
      "\u001b[1m1719/1719\u001b[0m \u001b[32m━━━━━━━━━━━━━━━━━━━━\u001b[0m\u001b[37m\u001b[0m \u001b[1m1s\u001b[0m 753us/step - accuracy: 0.9288 - loss: 0.1938 - val_accuracy: 0.8990 - val_loss: 0.2837\n"
     ]
    }
   ],
   "source": [
    "# Use Tensorboard callback\n",
    "tensorboard_cb = keras.callbacks.TensorBoard(run_logdir)\n",
    "history = model.fit(X_train, y_train, epochs=30, validation_data=(X_validation, y_validation), callbacks=[tensorboard_cb])"
   ]
  },
  {
   "cell_type": "markdown",
   "metadata": {},
   "source": [
    "## MNIST MLP"
   ]
  },
  {
   "cell_type": "code",
   "execution_count": null,
   "metadata": {},
   "outputs": [],
   "source": [
    "(X_train_full, y_train_full), (X_test, y_test) = keras.datasets.mnist.load_data()\n"
   ]
  },
  {
   "cell_type": "code",
   "execution_count": null,
   "metadata": {},
   "outputs": [],
   "source": [
    "from sklearn.model_selection import train_test_split\n",
    "\n",
    "X_train, X_val, y_train, y_val = train_test_split(X_train_full, y_train_full, test_size=0.33, random_state=42)\n",
    "X_train = X_train / 255.0\n",
    "X_val = X_val / 255.0"
   ]
  },
  {
   "cell_type": "code",
   "execution_count": null,
   "metadata": {},
   "outputs": [
    {
     "name": "stdout",
     "output_type": "stream",
     "text": [
      "[[[0 0 0 ... 0 0 0]\n",
      "  [0 0 0 ... 0 0 0]\n",
      "  [0 0 0 ... 0 0 0]\n",
      "  ...\n",
      "  [0 0 0 ... 0 0 0]\n",
      "  [0 0 0 ... 0 0 0]\n",
      "  [0 0 0 ... 0 0 0]]\n",
      "\n",
      " [[0 0 0 ... 0 0 0]\n",
      "  [0 0 0 ... 0 0 0]\n",
      "  [0 0 0 ... 0 0 0]\n",
      "  ...\n",
      "  [0 0 0 ... 0 0 0]\n",
      "  [0 0 0 ... 0 0 0]\n",
      "  [0 0 0 ... 0 0 0]]\n",
      "\n",
      " [[0 0 0 ... 0 0 0]\n",
      "  [0 0 0 ... 0 0 0]\n",
      "  [0 0 0 ... 0 0 0]\n",
      "  ...\n",
      "  [0 0 0 ... 0 0 0]\n",
      "  [0 0 0 ... 0 0 0]\n",
      "  [0 0 0 ... 0 0 0]]\n",
      "\n",
      " ...\n",
      "\n",
      " [[0 0 0 ... 0 0 0]\n",
      "  [0 0 0 ... 0 0 0]\n",
      "  [0 0 0 ... 0 0 0]\n",
      "  ...\n",
      "  [0 0 0 ... 0 0 0]\n",
      "  [0 0 0 ... 0 0 0]\n",
      "  [0 0 0 ... 0 0 0]]\n",
      "\n",
      " [[0 0 0 ... 0 0 0]\n",
      "  [0 0 0 ... 0 0 0]\n",
      "  [0 0 0 ... 0 0 0]\n",
      "  ...\n",
      "  [0 0 0 ... 0 0 0]\n",
      "  [0 0 0 ... 0 0 0]\n",
      "  [0 0 0 ... 0 0 0]]\n",
      "\n",
      " [[0 0 0 ... 0 0 0]\n",
      "  [0 0 0 ... 0 0 0]\n",
      "  [0 0 0 ... 0 0 0]\n",
      "  ...\n",
      "  [0 0 0 ... 0 0 0]\n",
      "  [0 0 0 ... 0 0 0]\n",
      "  [0 0 0 ... 0 0 0]]]\n"
     ]
    }
   ],
   "source": []
  },
  {
   "cell_type": "code",
   "execution_count": null,
   "metadata": {},
   "outputs": [
    {
     "name": "stderr",
     "output_type": "stream",
     "text": [
      "/Users/jesusdiazrivero/Documents/pocs/handson-ml-with-python/.venv/lib/python3.11/site-packages/keras/src/layers/reshaping/flatten.py:37: UserWarning: Do not pass an `input_shape`/`input_dim` argument to a layer. When using Sequential models, prefer using an `Input(shape)` object as the first layer in the model instead.\n",
      "  super().__init__(**kwargs)\n"
     ]
    },
    {
     "data": {
      "text/html": [
       "<pre style=\"white-space:pre;overflow-x:auto;line-height:normal;font-family:Menlo,'DejaVu Sans Mono',consolas,'Courier New',monospace\"><span style=\"font-weight: bold\">Model: \"sequential_4\"</span>\n",
       "</pre>\n"
      ],
      "text/plain": [
       "\u001b[1mModel: \"sequential_4\"\u001b[0m\n"
      ]
     },
     "metadata": {},
     "output_type": "display_data"
    },
    {
     "data": {
      "text/html": [
       "<pre style=\"white-space:pre;overflow-x:auto;line-height:normal;font-family:Menlo,'DejaVu Sans Mono',consolas,'Courier New',monospace\">┏━━━━━━━━━━━━━━━━━━━━━━━━━━━━━━━━━┳━━━━━━━━━━━━━━━━━━━━━━━━┳━━━━━━━━━━━━━━━┓\n",
       "┃<span style=\"font-weight: bold\"> Layer (type)                    </span>┃<span style=\"font-weight: bold\"> Output Shape           </span>┃<span style=\"font-weight: bold\">       Param # </span>┃\n",
       "┡━━━━━━━━━━━━━━━━━━━━━━━━━━━━━━━━━╇━━━━━━━━━━━━━━━━━━━━━━━━╇━━━━━━━━━━━━━━━┩\n",
       "│ flatten_5 (<span style=\"color: #0087ff; text-decoration-color: #0087ff\">Flatten</span>)             │ (<span style=\"color: #00d7ff; text-decoration-color: #00d7ff\">None</span>, <span style=\"color: #00af00; text-decoration-color: #00af00\">784</span>)            │             <span style=\"color: #00af00; text-decoration-color: #00af00\">0</span> │\n",
       "├─────────────────────────────────┼────────────────────────┼───────────────┤\n",
       "│ dense_41 (<span style=\"color: #0087ff; text-decoration-color: #0087ff\">Dense</span>)                │ (<span style=\"color: #00d7ff; text-decoration-color: #00d7ff\">None</span>, <span style=\"color: #00af00; text-decoration-color: #00af00\">300</span>)            │       <span style=\"color: #00af00; text-decoration-color: #00af00\">235,500</span> │\n",
       "├─────────────────────────────────┼────────────────────────┼───────────────┤\n",
       "│ dense_42 (<span style=\"color: #0087ff; text-decoration-color: #0087ff\">Dense</span>)                │ (<span style=\"color: #00d7ff; text-decoration-color: #00d7ff\">None</span>, <span style=\"color: #00af00; text-decoration-color: #00af00\">100</span>)            │        <span style=\"color: #00af00; text-decoration-color: #00af00\">30,100</span> │\n",
       "├─────────────────────────────────┼────────────────────────┼───────────────┤\n",
       "│ dense_43 (<span style=\"color: #0087ff; text-decoration-color: #0087ff\">Dense</span>)                │ (<span style=\"color: #00d7ff; text-decoration-color: #00d7ff\">None</span>, <span style=\"color: #00af00; text-decoration-color: #00af00\">10</span>)             │         <span style=\"color: #00af00; text-decoration-color: #00af00\">1,010</span> │\n",
       "└─────────────────────────────────┴────────────────────────┴───────────────┘\n",
       "</pre>\n"
      ],
      "text/plain": [
       "┏━━━━━━━━━━━━━━━━━━━━━━━━━━━━━━━━━┳━━━━━━━━━━━━━━━━━━━━━━━━┳━━━━━━━━━━━━━━━┓\n",
       "┃\u001b[1m \u001b[0m\u001b[1mLayer (type)                   \u001b[0m\u001b[1m \u001b[0m┃\u001b[1m \u001b[0m\u001b[1mOutput Shape          \u001b[0m\u001b[1m \u001b[0m┃\u001b[1m \u001b[0m\u001b[1m      Param #\u001b[0m\u001b[1m \u001b[0m┃\n",
       "┡━━━━━━━━━━━━━━━━━━━━━━━━━━━━━━━━━╇━━━━━━━━━━━━━━━━━━━━━━━━╇━━━━━━━━━━━━━━━┩\n",
       "│ flatten_5 (\u001b[38;5;33mFlatten\u001b[0m)             │ (\u001b[38;5;45mNone\u001b[0m, \u001b[38;5;34m784\u001b[0m)            │             \u001b[38;5;34m0\u001b[0m │\n",
       "├─────────────────────────────────┼────────────────────────┼───────────────┤\n",
       "│ dense_41 (\u001b[38;5;33mDense\u001b[0m)                │ (\u001b[38;5;45mNone\u001b[0m, \u001b[38;5;34m300\u001b[0m)            │       \u001b[38;5;34m235,500\u001b[0m │\n",
       "├─────────────────────────────────┼────────────────────────┼───────────────┤\n",
       "│ dense_42 (\u001b[38;5;33mDense\u001b[0m)                │ (\u001b[38;5;45mNone\u001b[0m, \u001b[38;5;34m100\u001b[0m)            │        \u001b[38;5;34m30,100\u001b[0m │\n",
       "├─────────────────────────────────┼────────────────────────┼───────────────┤\n",
       "│ dense_43 (\u001b[38;5;33mDense\u001b[0m)                │ (\u001b[38;5;45mNone\u001b[0m, \u001b[38;5;34m10\u001b[0m)             │         \u001b[38;5;34m1,010\u001b[0m │\n",
       "└─────────────────────────────────┴────────────────────────┴───────────────┘\n"
      ]
     },
     "metadata": {},
     "output_type": "display_data"
    },
    {
     "data": {
      "text/html": [
       "<pre style=\"white-space:pre;overflow-x:auto;line-height:normal;font-family:Menlo,'DejaVu Sans Mono',consolas,'Courier New',monospace\"><span style=\"font-weight: bold\"> Total params: </span><span style=\"color: #00af00; text-decoration-color: #00af00\">266,610</span> (1.02 MB)\n",
       "</pre>\n"
      ],
      "text/plain": [
       "\u001b[1m Total params: \u001b[0m\u001b[38;5;34m266,610\u001b[0m (1.02 MB)\n"
      ]
     },
     "metadata": {},
     "output_type": "display_data"
    },
    {
     "data": {
      "text/html": [
       "<pre style=\"white-space:pre;overflow-x:auto;line-height:normal;font-family:Menlo,'DejaVu Sans Mono',consolas,'Courier New',monospace\"><span style=\"font-weight: bold\"> Trainable params: </span><span style=\"color: #00af00; text-decoration-color: #00af00\">266,610</span> (1.02 MB)\n",
       "</pre>\n"
      ],
      "text/plain": [
       "\u001b[1m Trainable params: \u001b[0m\u001b[38;5;34m266,610\u001b[0m (1.02 MB)\n"
      ]
     },
     "metadata": {},
     "output_type": "display_data"
    },
    {
     "data": {
      "text/html": [
       "<pre style=\"white-space:pre;overflow-x:auto;line-height:normal;font-family:Menlo,'DejaVu Sans Mono',consolas,'Courier New',monospace\"><span style=\"font-weight: bold\"> Non-trainable params: </span><span style=\"color: #00af00; text-decoration-color: #00af00\">0</span> (0.00 B)\n",
       "</pre>\n"
      ],
      "text/plain": [
       "\u001b[1m Non-trainable params: \u001b[0m\u001b[38;5;34m0\u001b[0m (0.00 B)\n"
      ]
     },
     "metadata": {},
     "output_type": "display_data"
    }
   ],
   "source": [
    "model = keras.models.Sequential()\n",
    "# Preprocessing layer to convert matrix to array\n",
    "model.add(keras.layers.Flatten(input_shape=[28, 28]))\n",
    "model.add(keras.layers.Dense(300, activation=\"relu\"))\n",
    "model.add(keras.layers.Dense(100, activation=\"relu\"))\n",
    "model.add(keras.layers.Dense(10, activation=\"softmax\"))\n",
    "\n",
    "model.summary()"
   ]
  },
  {
   "cell_type": "code",
   "execution_count": null,
   "metadata": {},
   "outputs": [
    {
     "name": "stdout",
     "output_type": "stream",
     "text": [
      "Epoch 1/30\n",
      "\u001b[1m1257/1257\u001b[0m \u001b[32m━━━━━━━━━━━━━━━━━━━━\u001b[0m\u001b[37m\u001b[0m \u001b[1m1s\u001b[0m 900us/step - accuracy: 0.7090 - loss: 1.1146 - val_accuracy: 0.8966 - val_loss: 0.3597\n",
      "Epoch 2/30\n",
      "\u001b[1m1257/1257\u001b[0m \u001b[32m━━━━━━━━━━━━━━━━━━━━\u001b[0m\u001b[37m\u001b[0m \u001b[1m1s\u001b[0m 804us/step - accuracy: 0.9009 - loss: 0.3436 - val_accuracy: 0.9187 - val_loss: 0.2840\n",
      "Epoch 3/30\n",
      "\u001b[1m1257/1257\u001b[0m \u001b[32m━━━━━━━━━━━━━━━━━━━━\u001b[0m\u001b[37m\u001b[0m \u001b[1m1s\u001b[0m 768us/step - accuracy: 0.9220 - loss: 0.2761 - val_accuracy: 0.9308 - val_loss: 0.2476\n",
      "Epoch 4/30\n",
      "\u001b[1m1257/1257\u001b[0m \u001b[32m━━━━━━━━━━━━━━━━━━━━\u001b[0m\u001b[37m\u001b[0m \u001b[1m1s\u001b[0m 779us/step - accuracy: 0.9344 - loss: 0.2363 - val_accuracy: 0.9342 - val_loss: 0.2271\n",
      "Epoch 5/30\n",
      "\u001b[1m1257/1257\u001b[0m \u001b[32m━━━━━━━━━━━━━━━━━━━━\u001b[0m\u001b[37m\u001b[0m \u001b[1m1s\u001b[0m 789us/step - accuracy: 0.9393 - loss: 0.2079 - val_accuracy: 0.9438 - val_loss: 0.2007\n",
      "Epoch 6/30\n",
      "\u001b[1m1257/1257\u001b[0m \u001b[32m━━━━━━━━━━━━━━━━━━━━\u001b[0m\u001b[37m\u001b[0m \u001b[1m1s\u001b[0m 783us/step - accuracy: 0.9461 - loss: 0.1895 - val_accuracy: 0.9454 - val_loss: 0.1942\n",
      "Epoch 7/30\n",
      "\u001b[1m1257/1257\u001b[0m \u001b[32m━━━━━━━━━━━━━━━━━━━━\u001b[0m\u001b[37m\u001b[0m \u001b[1m1s\u001b[0m 752us/step - accuracy: 0.9506 - loss: 0.1718 - val_accuracy: 0.9492 - val_loss: 0.1752\n",
      "Epoch 8/30\n",
      "\u001b[1m1257/1257\u001b[0m \u001b[32m━━━━━━━━━━━━━━━━━━━━\u001b[0m\u001b[37m\u001b[0m \u001b[1m1s\u001b[0m 797us/step - accuracy: 0.9591 - loss: 0.1500 - val_accuracy: 0.9538 - val_loss: 0.1631\n",
      "Epoch 9/30\n",
      "\u001b[1m1257/1257\u001b[0m \u001b[32m━━━━━━━━━━━━━━━━━━━━\u001b[0m\u001b[37m\u001b[0m \u001b[1m1s\u001b[0m 793us/step - accuracy: 0.9583 - loss: 0.1441 - val_accuracy: 0.9567 - val_loss: 0.1521\n",
      "Epoch 10/30\n",
      "\u001b[1m1257/1257\u001b[0m \u001b[32m━━━━━━━━━━━━━━━━━━━━\u001b[0m\u001b[37m\u001b[0m \u001b[1m1s\u001b[0m 781us/step - accuracy: 0.9611 - loss: 0.1360 - val_accuracy: 0.9576 - val_loss: 0.1467\n",
      "Epoch 11/30\n",
      "\u001b[1m1257/1257\u001b[0m \u001b[32m━━━━━━━━━━━━━━━━━━━━\u001b[0m\u001b[37m\u001b[0m \u001b[1m1s\u001b[0m 795us/step - accuracy: 0.9654 - loss: 0.1202 - val_accuracy: 0.9601 - val_loss: 0.1408\n",
      "Epoch 12/30\n",
      "\u001b[1m1257/1257\u001b[0m \u001b[32m━━━━━━━━━━━━━━━━━━━━\u001b[0m\u001b[37m\u001b[0m \u001b[1m1s\u001b[0m 810us/step - accuracy: 0.9684 - loss: 0.1108 - val_accuracy: 0.9615 - val_loss: 0.1329\n",
      "Epoch 13/30\n",
      "\u001b[1m1257/1257\u001b[0m \u001b[32m━━━━━━━━━━━━━━━━━━━━\u001b[0m\u001b[37m\u001b[0m \u001b[1m1s\u001b[0m 746us/step - accuracy: 0.9719 - loss: 0.1020 - val_accuracy: 0.9627 - val_loss: 0.1263\n",
      "Epoch 14/30\n",
      "\u001b[1m1257/1257\u001b[0m \u001b[32m━━━━━━━━━━━━━━━━━━━━\u001b[0m\u001b[37m\u001b[0m \u001b[1m1s\u001b[0m 782us/step - accuracy: 0.9740 - loss: 0.0949 - val_accuracy: 0.9643 - val_loss: 0.1207\n",
      "Epoch 15/30\n",
      "\u001b[1m1257/1257\u001b[0m \u001b[32m━━━━━━━━━━━━━━━━━━━━\u001b[0m\u001b[37m\u001b[0m \u001b[1m1s\u001b[0m 786us/step - accuracy: 0.9749 - loss: 0.0898 - val_accuracy: 0.9660 - val_loss: 0.1176\n",
      "Epoch 16/30\n",
      "\u001b[1m1257/1257\u001b[0m \u001b[32m━━━━━━━━━━━━━━━━━━━━\u001b[0m\u001b[37m\u001b[0m \u001b[1m1s\u001b[0m 836us/step - accuracy: 0.9768 - loss: 0.0848 - val_accuracy: 0.9663 - val_loss: 0.1161\n",
      "Epoch 17/30\n",
      "\u001b[1m1257/1257\u001b[0m \u001b[32m━━━━━━━━━━━━━━━━━━━━\u001b[0m\u001b[37m\u001b[0m \u001b[1m1s\u001b[0m 751us/step - accuracy: 0.9793 - loss: 0.0765 - val_accuracy: 0.9666 - val_loss: 0.1128\n",
      "Epoch 18/30\n",
      "\u001b[1m1257/1257\u001b[0m \u001b[32m━━━━━━━━━━━━━━━━━━━━\u001b[0m\u001b[37m\u001b[0m \u001b[1m1s\u001b[0m 798us/step - accuracy: 0.9799 - loss: 0.0742 - val_accuracy: 0.9685 - val_loss: 0.1078\n",
      "Epoch 19/30\n",
      "\u001b[1m1257/1257\u001b[0m \u001b[32m━━━━━━━━━━━━━━━━━━━━\u001b[0m\u001b[37m\u001b[0m \u001b[1m1s\u001b[0m 793us/step - accuracy: 0.9819 - loss: 0.0718 - val_accuracy: 0.9692 - val_loss: 0.1058\n",
      "Epoch 20/30\n",
      "\u001b[1m1257/1257\u001b[0m \u001b[32m━━━━━━━━━━━━━━━━━━━━\u001b[0m\u001b[37m\u001b[0m \u001b[1m1s\u001b[0m 785us/step - accuracy: 0.9815 - loss: 0.0697 - val_accuracy: 0.9669 - val_loss: 0.1109\n",
      "Epoch 21/30\n",
      "\u001b[1m1257/1257\u001b[0m \u001b[32m━━━━━━━━━━━━━━━━━━━━\u001b[0m\u001b[37m\u001b[0m \u001b[1m1s\u001b[0m 754us/step - accuracy: 0.9837 - loss: 0.0624 - val_accuracy: 0.9706 - val_loss: 0.1019\n",
      "Epoch 22/30\n",
      "\u001b[1m1257/1257\u001b[0m \u001b[32m━━━━━━━━━━━━━━━━━━━━\u001b[0m\u001b[37m\u001b[0m \u001b[1m1s\u001b[0m 760us/step - accuracy: 0.9855 - loss: 0.0590 - val_accuracy: 0.9708 - val_loss: 0.0993\n",
      "Epoch 23/30\n",
      "\u001b[1m1257/1257\u001b[0m \u001b[32m━━━━━━━━━━━━━━━━━━━━\u001b[0m\u001b[37m\u001b[0m \u001b[1m1s\u001b[0m 801us/step - accuracy: 0.9861 - loss: 0.0557 - val_accuracy: 0.9713 - val_loss: 0.0975\n",
      "Epoch 24/30\n",
      "\u001b[1m1257/1257\u001b[0m \u001b[32m━━━━━━━━━━━━━━━━━━━━\u001b[0m\u001b[37m\u001b[0m \u001b[1m1s\u001b[0m 811us/step - accuracy: 0.9872 - loss: 0.0498 - val_accuracy: 0.9712 - val_loss: 0.0978\n",
      "Epoch 25/30\n",
      "\u001b[1m1257/1257\u001b[0m \u001b[32m━━━━━━━━━━━━━━━━━━━━\u001b[0m\u001b[37m\u001b[0m \u001b[1m1s\u001b[0m 754us/step - accuracy: 0.9880 - loss: 0.0479 - val_accuracy: 0.9708 - val_loss: 0.0994\n",
      "Epoch 26/30\n",
      "\u001b[1m1257/1257\u001b[0m \u001b[32m━━━━━━━━━━━━━━━━━━━━\u001b[0m\u001b[37m\u001b[0m \u001b[1m1s\u001b[0m 747us/step - accuracy: 0.9887 - loss: 0.0465 - val_accuracy: 0.9724 - val_loss: 0.0952\n",
      "Epoch 27/30\n",
      "\u001b[1m1257/1257\u001b[0m \u001b[32m━━━━━━━━━━━━━━━━━━━━\u001b[0m\u001b[37m\u001b[0m \u001b[1m1s\u001b[0m 788us/step - accuracy: 0.9890 - loss: 0.0450 - val_accuracy: 0.9722 - val_loss: 0.0932\n",
      "Epoch 28/30\n",
      "\u001b[1m1257/1257\u001b[0m \u001b[32m━━━━━━━━━━━━━━━━━━━━\u001b[0m\u001b[37m\u001b[0m \u001b[1m1s\u001b[0m 823us/step - accuracy: 0.9912 - loss: 0.0397 - val_accuracy: 0.9726 - val_loss: 0.0909\n",
      "Epoch 29/30\n",
      "\u001b[1m1257/1257\u001b[0m \u001b[32m━━━━━━━━━━━━━━━━━━━━\u001b[0m\u001b[37m\u001b[0m \u001b[1m1s\u001b[0m 784us/step - accuracy: 0.9907 - loss: 0.0399 - val_accuracy: 0.9723 - val_loss: 0.0908\n",
      "Epoch 30/30\n",
      "\u001b[1m1257/1257\u001b[0m \u001b[32m━━━━━━━━━━━━━━━━━━━━\u001b[0m\u001b[37m\u001b[0m \u001b[1m1s\u001b[0m 771us/step - accuracy: 0.9916 - loss: 0.0361 - val_accuracy: 0.9724 - val_loss: 0.0908\n"
     ]
    },
    {
     "data": {
      "text/plain": [
       "<function matplotlib.pyplot.show(close=None, block=None)>"
      ]
     },
     "metadata": {},
     "output_type": "display_data"
    },
    {
     "data": {
      "image/png": "[encoded data removed]",
      "text/plain": [
       "<Figure size 800x500 with 1 Axes>"
      ]
     },
     "metadata": {},
     "output_type": "display_data"
    }
   ],
   "source": [
    "# First basic run copying fashion MNIST\n",
    "\n",
    "model.compile(loss=\"sparse_categorical_crossentropy\",\n",
    "              optimizer=\"sgd\",\n",
    "              metrics=[\"accuracy\"])\n",
    "history = model.fit(X_train, y_train, epochs=30, validation_data=(X_val, y_val))\n"
   ]
  },
  {
   "cell_type": "code",
   "execution_count": null,
   "metadata": {},
   "outputs": [
    {
     "name": "stdout",
     "output_type": "stream",
     "text": [
      "{'accuracy': [0.8268656730651855, 0.9073134064674377, 0.9237562417984009, 0.934726357460022, 0.9415422677993774, 0.9471641778945923, 0.9520397782325745, 0.9574378132820129, 0.9602238535881042, 0.9636567234992981, 0.9666169285774231, 0.9690298438072205, 0.9718905687332153, 0.9736069440841675, 0.9753233790397644, 0.9771144390106201, 0.9788557291030884, 0.9801989793777466, 0.9821392893791199, 0.9826616644859314, 0.9838557243347168, 0.9853482842445374, 0.9860199093818665, 0.9870895743370056, 0.987885594367981, 0.9886318445205688, 0.9890547394752502, 0.9900994896888733, 0.9909950494766235, 0.9912935495376587], 'loss': [0.680206835269928, 0.32028037309646606, 0.2659744620323181, 0.2321206033229828, 0.20581300556659698, 0.183843195438385, 0.16728904843330383, 0.1521000862121582, 0.13952773809432983, 0.12798050045967102, 0.11831407994031906, 0.11031690984964371, 0.10243489593267441, 0.0958087369799614, 0.08928222954273224, 0.08374524116516113, 0.07853478193283081, 0.0740123987197876, 0.06945451349020004, 0.06547719985246658, 0.06195281073451042, 0.05781294405460358, 0.05465713515877724, 0.0518246553838253, 0.04894448071718216, 0.046252503991127014, 0.0437539704144001, 0.04138486459851265, 0.03914129361510277, 0.03695237636566162], 'val_accuracy': [0.8966161608695984, 0.9186868667602539, 0.9307575821876526, 0.9341919422149658, 0.943838357925415, 0.945404052734375, 0.9491919279098511, 0.9537878632545471, 0.9567171931266785, 0.9575757384300232, 0.9600505232810974, 0.9614646434783936, 0.9627272486686707, 0.9642929434776306, 0.9659596085548401, 0.9662626385688782, 0.966616153717041, 0.9684848189353943, 0.9692424535751343, 0.9668686985969543, 0.9705555438995361, 0.9708080887794495, 0.9712626338005066, 0.9711616039276123, 0.9707576036453247, 0.9723737239837646, 0.9721717238426208, 0.972626268863678, 0.9723232388496399, 0.9724242687225342], 'val_loss': [0.35969141125679016, 0.2840464413166046, 0.24760426580905914, 0.22708851099014282, 0.20073673129081726, 0.19419899582862854, 0.17516593635082245, 0.1631190925836563, 0.1521490067243576, 0.1466614007949829, 0.140770822763443, 0.13290353119373322, 0.12632088363170624, 0.12065423280000687, 0.1176084354519844, 0.11608707904815674, 0.11276150494813919, 0.10783993452787399, 0.10580545663833618, 0.1108822375535965, 0.10189961642026901, 0.0992724671959877, 0.0975077748298645, 0.09775847941637039, 0.09935610741376877, 0.09517492353916168, 0.0931582972407341, 0.09089473634958267, 0.09082776308059692, 0.09083578735589981]}\n"
     ]
    },
    {
     "data": {
      "text/plain": [
       "<function matplotlib.pyplot.show(close=None, block=None)>"
      ]
     },
     "metadata": {},
     "output_type": "display_data"
    },
    {
     "data": {
      "image/png": "[encoded data removed]",
      "text/plain": [
       "<Figure size 800x500 with 1 Axes>"
      ]
     },
     "metadata": {},
     "output_type": "display_data"
    }
   ],
   "source": [
    "\n",
    "print(history.history)\n",
    "pd.DataFrame(history.history).plot(figsize=(8,5))\n",
    "plt.grid(True)\n",
    "plt.gca().set_ylim(0,1)\n",
    "plt.show"
   ]
  },
  {
   "cell_type": "code",
   "execution_count": null,
   "metadata": {},
   "outputs": [],
   "source": [
    "# Cross validation search to find optimal loss\n",
    "\n",
    "from typing import List\n",
    "\n",
    "\n",
    "def build_model(X, y, n_neurons: List[str], learning_rate: float):\n",
    "    model = keras.models.Sequential()\n",
    "    model.add(keras.Input(shape=(28*28,)))\n",
    "    model.add(keras.layers.Dense(n_neurons[0], activation=\"relu\"))\n",
    "    model.add(keras.layers.Dense(n_neurons[1], activation=\"relu\"))\n",
    "    model.add(keras.layers.Dense(10, activation=\"softmax\"))\n",
    "\n",
    "    optimizer = keras.optimizers.SGD(learning_rate=learning_rate)\n",
    "    model.compile(loss=\"sparse_categorical_crossentropy\",\n",
    "                optimizer=optimizer,\n",
    "                metrics=[\"accuracy\"])\n",
    "    return model\n",
    "\n",
    "\n"
   ]
  },
  {
   "cell_type": "code",
   "execution_count": null,
   "metadata": {},
   "outputs": [
    {
     "data": {
      "text/plain": [
       "(40200, 28, 28)"
      ]
     },
     "metadata": {},
     "output_type": "display_data"
    }
   ],
   "source": [
    "X_train.shape"
   ]
  },
  {
   "cell_type": "code",
   "execution_count": null,
   "metadata": {},
   "outputs": [
    {
     "name": "stdout",
     "output_type": "stream",
     "text": [
      "Epoch 1/30\n"
     ]
    },
    {
     "name": "stderr",
     "output_type": "stream",
     "text": [
      "WARNING:absl:You are saving your model as an HDF5 file via `model.save()` or `keras.saving.save_model(model)`. This file format is considered legacy. We recommend using instead the native Keras format, e.g. `model.save('my_model.keras')` or `keras.saving.save_model(model, 'my_model.keras')`. \n"
     ]
    },
    {
     "name": "stdout",
     "output_type": "stream",
     "text": [
      "1257/1257 - 3s - 3ms/step - accuracy: 0.4744 - loss: 1.9069 - val_accuracy: 0.6979 - val_loss: 1.4669\n",
      "Epoch 2/30\n"
     ]
    },
    {
     "name": "stderr",
     "output_type": "stream",
     "text": [
      "WARNING:absl:You are saving your model as an HDF5 file via `model.save()` or `keras.saving.save_model(model)`. This file format is considered legacy. We recommend using instead the native Keras format, e.g. `model.save('my_model.keras')` or `keras.saving.save_model(model, 'my_model.keras')`. \n"
     ]
    },
    {
     "name": "stdout",
     "output_type": "stream",
     "text": [
      "1257/1257 - 1s - 1ms/step - accuracy: 0.7690 - loss: 1.1321 - val_accuracy: 0.8111 - val_loss: 0.8807\n",
      "Epoch 3/30\n"
     ]
    },
    {
     "name": "stderr",
     "output_type": "stream",
     "text": [
      "WARNING:absl:You are saving your model as an HDF5 file via `model.save()` or `keras.saving.save_model(model)`. This file format is considered legacy. We recommend using instead the native Keras format, e.g. `model.save('my_model.keras')` or `keras.saving.save_model(model, 'my_model.keras')`. \n"
     ]
    },
    {
     "name": "stdout",
     "output_type": "stream",
     "text": [
      "1257/1257 - 1s - 873us/step - accuracy: 0.8335 - loss: 0.7452 - val_accuracy: 0.8488 - val_loss: 0.6451\n",
      "Epoch 4/30\n"
     ]
    },
    {
     "name": "stderr",
     "output_type": "stream",
     "text": [
      "WARNING:absl:You are saving your model as an HDF5 file via `model.save()` or `keras.saving.save_model(model)`. This file format is considered legacy. We recommend using instead the native Keras format, e.g. `model.save('my_model.keras')` or `keras.saving.save_model(model, 'my_model.keras')`. \n"
     ]
    },
    {
     "name": "stdout",
     "output_type": "stream",
     "text": [
      "1257/1257 - 1s - 815us/step - accuracy: 0.8584 - loss: 0.5843 - val_accuracy: 0.8664 - val_loss: 0.5344\n",
      "Epoch 5/30\n"
     ]
    },
    {
     "name": "stderr",
     "output_type": "stream",
     "text": [
      "WARNING:absl:You are saving your model as an HDF5 file via `model.save()` or `keras.saving.save_model(model)`. This file format is considered legacy. We recommend using instead the native Keras format, e.g. `model.save('my_model.keras')` or `keras.saving.save_model(model, 'my_model.keras')`. \n"
     ]
    },
    {
     "name": "stdout",
     "output_type": "stream",
     "text": [
      "1257/1257 - 1s - 815us/step - accuracy: 0.8709 - loss: 0.5017 - val_accuracy: 0.8787 - val_loss: 0.4710\n",
      "Epoch 6/30\n"
     ]
    },
    {
     "name": "stderr",
     "output_type": "stream",
     "text": [
      "WARNING:absl:You are saving your model as an HDF5 file via `model.save()` or `keras.saving.save_model(model)`. This file format is considered legacy. We recommend using instead the native Keras format, e.g. `model.save('my_model.keras')` or `keras.saving.save_model(model, 'my_model.keras')`. \n"
     ]
    },
    {
     "name": "stdout",
     "output_type": "stream",
     "text": [
      "1257/1257 - 1s - 851us/step - accuracy: 0.8808 - loss: 0.4515 - val_accuracy: 0.8872 - val_loss: 0.4292\n",
      "Epoch 7/30\n"
     ]
    },
    {
     "name": "stderr",
     "output_type": "stream",
     "text": [
      "WARNING:absl:You are saving your model as an HDF5 file via `model.save()` or `keras.saving.save_model(model)`. This file format is considered legacy. We recommend using instead the native Keras format, e.g. `model.save('my_model.keras')` or `keras.saving.save_model(model, 'my_model.keras')`. \n"
     ]
    },
    {
     "name": "stdout",
     "output_type": "stream",
     "text": [
      "1257/1257 - 1s - 810us/step - accuracy: 0.8874 - loss: 0.4174 - val_accuracy: 0.8938 - val_loss: 0.3997\n",
      "Epoch 8/30\n"
     ]
    },
    {
     "name": "stderr",
     "output_type": "stream",
     "text": [
      "WARNING:absl:You are saving your model as an HDF5 file via `model.save()` or `keras.saving.save_model(model)`. This file format is considered legacy. We recommend using instead the native Keras format, e.g. `model.save('my_model.keras')` or `keras.saving.save_model(model, 'my_model.keras')`. \n"
     ]
    },
    {
     "name": "stdout",
     "output_type": "stream",
     "text": [
      "1257/1257 - 1s - 829us/step - accuracy: 0.8923 - loss: 0.3923 - val_accuracy: 0.8976 - val_loss: 0.3776\n",
      "Epoch 9/30\n"
     ]
    },
    {
     "name": "stderr",
     "output_type": "stream",
     "text": [
      "WARNING:absl:You are saving your model as an HDF5 file via `model.save()` or `keras.saving.save_model(model)`. This file format is considered legacy. We recommend using instead the native Keras format, e.g. `model.save('my_model.keras')` or `keras.saving.save_model(model, 'my_model.keras')`. \n"
     ]
    },
    {
     "name": "stdout",
     "output_type": "stream",
     "text": [
      "1257/1257 - 1s - 825us/step - accuracy: 0.8966 - loss: 0.3730 - val_accuracy: 0.9026 - val_loss: 0.3604\n",
      "Epoch 10/30\n"
     ]
    },
    {
     "name": "stderr",
     "output_type": "stream",
     "text": [
      "WARNING:absl:You are saving your model as an HDF5 file via `model.save()` or `keras.saving.save_model(model)`. This file format is considered legacy. We recommend using instead the native Keras format, e.g. `model.save('my_model.keras')` or `keras.saving.save_model(model, 'my_model.keras')`. \n"
     ]
    },
    {
     "name": "stdout",
     "output_type": "stream",
     "text": [
      "1257/1257 - 1s - 801us/step - accuracy: 0.9007 - loss: 0.3572 - val_accuracy: 0.9060 - val_loss: 0.3464\n",
      "Epoch 11/30\n"
     ]
    },
    {
     "name": "stderr",
     "output_type": "stream",
     "text": [
      "WARNING:absl:You are saving your model as an HDF5 file via `model.save()` or `keras.saving.save_model(model)`. This file format is considered legacy. We recommend using instead the native Keras format, e.g. `model.save('my_model.keras')` or `keras.saving.save_model(model, 'my_model.keras')`. \n"
     ]
    },
    {
     "name": "stdout",
     "output_type": "stream",
     "text": [
      "1257/1257 - 1s - 824us/step - accuracy: 0.9031 - loss: 0.3442 - val_accuracy: 0.9086 - val_loss: 0.3359\n",
      "Epoch 12/30\n"
     ]
    },
    {
     "name": "stderr",
     "output_type": "stream",
     "text": [
      "WARNING:absl:You are saving your model as an HDF5 file via `model.save()` or `keras.saving.save_model(model)`. This file format is considered legacy. We recommend using instead the native Keras format, e.g. `model.save('my_model.keras')` or `keras.saving.save_model(model, 'my_model.keras')`. \n"
     ]
    },
    {
     "name": "stdout",
     "output_type": "stream",
     "text": [
      "1257/1257 - 1s - 880us/step - accuracy: 0.9065 - loss: 0.3330 - val_accuracy: 0.9102 - val_loss: 0.3243\n",
      "Epoch 13/30\n"
     ]
    },
    {
     "name": "stderr",
     "output_type": "stream",
     "text": [
      "WARNING:absl:You are saving your model as an HDF5 file via `model.save()` or `keras.saving.save_model(model)`. This file format is considered legacy. We recommend using instead the native Keras format, e.g. `model.save('my_model.keras')` or `keras.saving.save_model(model, 'my_model.keras')`. \n"
     ]
    },
    {
     "name": "stdout",
     "output_type": "stream",
     "text": [
      "1257/1257 - 1s - 813us/step - accuracy: 0.9086 - loss: 0.3230 - val_accuracy: 0.9129 - val_loss: 0.3162\n",
      "Epoch 14/30\n"
     ]
    },
    {
     "name": "stderr",
     "output_type": "stream",
     "text": [
      "WARNING:absl:You are saving your model as an HDF5 file via `model.save()` or `keras.saving.save_model(model)`. This file format is considered legacy. We recommend using instead the native Keras format, e.g. `model.save('my_model.keras')` or `keras.saving.save_model(model, 'my_model.keras')`. \n"
     ]
    },
    {
     "name": "stdout",
     "output_type": "stream",
     "text": [
      "1257/1257 - 1s - 811us/step - accuracy: 0.9110 - loss: 0.3144 - val_accuracy: 0.9144 - val_loss: 0.3085\n",
      "Epoch 15/30\n"
     ]
    },
    {
     "name": "stderr",
     "output_type": "stream",
     "text": [
      "WARNING:absl:You are saving your model as an HDF5 file via `model.save()` or `keras.saving.save_model(model)`. This file format is considered legacy. We recommend using instead the native Keras format, e.g. `model.save('my_model.keras')` or `keras.saving.save_model(model, 'my_model.keras')`. \n"
     ]
    },
    {
     "name": "stdout",
     "output_type": "stream",
     "text": [
      "1257/1257 - 1s - 809us/step - accuracy: 0.9135 - loss: 0.3066 - val_accuracy: 0.9165 - val_loss: 0.3011\n",
      "Epoch 16/30\n"
     ]
    },
    {
     "name": "stderr",
     "output_type": "stream",
     "text": [
      "WARNING:absl:You are saving your model as an HDF5 file via `model.save()` or `keras.saving.save_model(model)`. This file format is considered legacy. We recommend using instead the native Keras format, e.g. `model.save('my_model.keras')` or `keras.saving.save_model(model, 'my_model.keras')`. \n"
     ]
    },
    {
     "name": "stdout",
     "output_type": "stream",
     "text": [
      "1257/1257 - 1s - 811us/step - accuracy: 0.9149 - loss: 0.2995 - val_accuracy: 0.9185 - val_loss: 0.2942\n",
      "Epoch 17/30\n"
     ]
    },
    {
     "name": "stderr",
     "output_type": "stream",
     "text": [
      "WARNING:absl:You are saving your model as an HDF5 file via `model.save()` or `keras.saving.save_model(model)`. This file format is considered legacy. We recommend using instead the native Keras format, e.g. `model.save('my_model.keras')` or `keras.saving.save_model(model, 'my_model.keras')`. \n"
     ]
    },
    {
     "name": "stdout",
     "output_type": "stream",
     "text": [
      "1257/1257 - 1s - 818us/step - accuracy: 0.9171 - loss: 0.2928 - val_accuracy: 0.9201 - val_loss: 0.2877\n",
      "Epoch 18/30\n"
     ]
    },
    {
     "name": "stderr",
     "output_type": "stream",
     "text": [
      "WARNING:absl:You are saving your model as an HDF5 file via `model.save()` or `keras.saving.save_model(model)`. This file format is considered legacy. We recommend using instead the native Keras format, e.g. `model.save('my_model.keras')` or `keras.saving.save_model(model, 'my_model.keras')`. \n"
     ]
    },
    {
     "name": "stdout",
     "output_type": "stream",
     "text": [
      "1257/1257 - 1s - 813us/step - accuracy: 0.9187 - loss: 0.2866 - val_accuracy: 0.9216 - val_loss: 0.2827\n",
      "Epoch 19/30\n"
     ]
    },
    {
     "name": "stderr",
     "output_type": "stream",
     "text": [
      "WARNING:absl:You are saving your model as an HDF5 file via `model.save()` or `keras.saving.save_model(model)`. This file format is considered legacy. We recommend using instead the native Keras format, e.g. `model.save('my_model.keras')` or `keras.saving.save_model(model, 'my_model.keras')`. \n"
     ]
    },
    {
     "name": "stdout",
     "output_type": "stream",
     "text": [
      "1257/1257 - 1s - 813us/step - accuracy: 0.9201 - loss: 0.2808 - val_accuracy: 0.9232 - val_loss: 0.2775\n",
      "Epoch 20/30\n"
     ]
    },
    {
     "name": "stderr",
     "output_type": "stream",
     "text": [
      "WARNING:absl:You are saving your model as an HDF5 file via `model.save()` or `keras.saving.save_model(model)`. This file format is considered legacy. We recommend using instead the native Keras format, e.g. `model.save('my_model.keras')` or `keras.saving.save_model(model, 'my_model.keras')`. \n"
     ]
    },
    {
     "name": "stdout",
     "output_type": "stream",
     "text": [
      "1257/1257 - 1s - 800us/step - accuracy: 0.9213 - loss: 0.2755 - val_accuracy: 0.9239 - val_loss: 0.2726\n",
      "Epoch 21/30\n"
     ]
    },
    {
     "name": "stderr",
     "output_type": "stream",
     "text": [
      "WARNING:absl:You are saving your model as an HDF5 file via `model.save()` or `keras.saving.save_model(model)`. This file format is considered legacy. We recommend using instead the native Keras format, e.g. `model.save('my_model.keras')` or `keras.saving.save_model(model, 'my_model.keras')`. \n"
     ]
    },
    {
     "name": "stdout",
     "output_type": "stream",
     "text": [
      "1257/1257 - 1s - 797us/step - accuracy: 0.9232 - loss: 0.2705 - val_accuracy: 0.9251 - val_loss: 0.2687\n",
      "Epoch 22/30\n"
     ]
    },
    {
     "name": "stderr",
     "output_type": "stream",
     "text": [
      "WARNING:absl:You are saving your model as an HDF5 file via `model.save()` or `keras.saving.save_model(model)`. This file format is considered legacy. We recommend using instead the native Keras format, e.g. `model.save('my_model.keras')` or `keras.saving.save_model(model, 'my_model.keras')`. \n"
     ]
    },
    {
     "name": "stdout",
     "output_type": "stream",
     "text": [
      "1257/1257 - 1s - 816us/step - accuracy: 0.9241 - loss: 0.2657 - val_accuracy: 0.9265 - val_loss: 0.2642\n",
      "Epoch 23/30\n"
     ]
    },
    {
     "name": "stderr",
     "output_type": "stream",
     "text": [
      "WARNING:absl:You are saving your model as an HDF5 file via `model.save()` or `keras.saving.save_model(model)`. This file format is considered legacy. We recommend using instead the native Keras format, e.g. `model.save('my_model.keras')` or `keras.saving.save_model(model, 'my_model.keras')`. \n"
     ]
    },
    {
     "name": "stdout",
     "output_type": "stream",
     "text": [
      "1257/1257 - 1s - 818us/step - accuracy: 0.9258 - loss: 0.2611 - val_accuracy: 0.9273 - val_loss: 0.2603\n",
      "Epoch 24/30\n"
     ]
    },
    {
     "name": "stderr",
     "output_type": "stream",
     "text": [
      "WARNING:absl:You are saving your model as an HDF5 file via `model.save()` or `keras.saving.save_model(model)`. This file format is considered legacy. We recommend using instead the native Keras format, e.g. `model.save('my_model.keras')` or `keras.saving.save_model(model, 'my_model.keras')`. \n"
     ]
    },
    {
     "name": "stdout",
     "output_type": "stream",
     "text": [
      "1257/1257 - 1s - 830us/step - accuracy: 0.9276 - loss: 0.2566 - val_accuracy: 0.9286 - val_loss: 0.2559\n",
      "Epoch 25/30\n"
     ]
    },
    {
     "name": "stderr",
     "output_type": "stream",
     "text": [
      "WARNING:absl:You are saving your model as an HDF5 file via `model.save()` or `keras.saving.save_model(model)`. This file format is considered legacy. We recommend using instead the native Keras format, e.g. `model.save('my_model.keras')` or `keras.saving.save_model(model, 'my_model.keras')`. \n"
     ]
    },
    {
     "name": "stdout",
     "output_type": "stream",
     "text": [
      "1257/1257 - 1s - 824us/step - accuracy: 0.9285 - loss: 0.2525 - val_accuracy: 0.9298 - val_loss: 0.2529\n",
      "Epoch 26/30\n"
     ]
    },
    {
     "name": "stderr",
     "output_type": "stream",
     "text": [
      "WARNING:absl:You are saving your model as an HDF5 file via `model.save()` or `keras.saving.save_model(model)`. This file format is considered legacy. We recommend using instead the native Keras format, e.g. `model.save('my_model.keras')` or `keras.saving.save_model(model, 'my_model.keras')`. \n"
     ]
    },
    {
     "name": "stdout",
     "output_type": "stream",
     "text": [
      "1257/1257 - 1s - 836us/step - accuracy: 0.9296 - loss: 0.2484 - val_accuracy: 0.9305 - val_loss: 0.2492\n",
      "Epoch 27/30\n"
     ]
    },
    {
     "name": "stderr",
     "output_type": "stream",
     "text": [
      "WARNING:absl:You are saving your model as an HDF5 file via `model.save()` or `keras.saving.save_model(model)`. This file format is considered legacy. We recommend using instead the native Keras format, e.g. `model.save('my_model.keras')` or `keras.saving.save_model(model, 'my_model.keras')`. \n"
     ]
    },
    {
     "name": "stdout",
     "output_type": "stream",
     "text": [
      "1257/1257 - 1s - 815us/step - accuracy: 0.9308 - loss: 0.2446 - val_accuracy: 0.9318 - val_loss: 0.2459\n",
      "Epoch 28/30\n"
     ]
    },
    {
     "name": "stderr",
     "output_type": "stream",
     "text": [
      "WARNING:absl:You are saving your model as an HDF5 file via `model.save()` or `keras.saving.save_model(model)`. This file format is considered legacy. We recommend using instead the native Keras format, e.g. `model.save('my_model.keras')` or `keras.saving.save_model(model, 'my_model.keras')`. \n"
     ]
    },
    {
     "name": "stdout",
     "output_type": "stream",
     "text": [
      "1257/1257 - 1s - 819us/step - accuracy: 0.9315 - loss: 0.2409 - val_accuracy: 0.9318 - val_loss: 0.2423\n",
      "Epoch 29/30\n"
     ]
    },
    {
     "name": "stderr",
     "output_type": "stream",
     "text": [
      "WARNING:absl:You are saving your model as an HDF5 file via `model.save()` or `keras.saving.save_model(model)`. This file format is considered legacy. We recommend using instead the native Keras format, e.g. `model.save('my_model.keras')` or `keras.saving.save_model(model, 'my_model.keras')`. \n"
     ]
    },
    {
     "name": "stdout",
     "output_type": "stream",
     "text": [
      "1257/1257 - 1s - 863us/step - accuracy: 0.9331 - loss: 0.2372 - val_accuracy: 0.9332 - val_loss: 0.2396\n",
      "Epoch 30/30\n"
     ]
    },
    {
     "name": "stderr",
     "output_type": "stream",
     "text": [
      "WARNING:absl:You are saving your model as an HDF5 file via `model.save()` or `keras.saving.save_model(model)`. This file format is considered legacy. We recommend using instead the native Keras format, e.g. `model.save('my_model.keras')` or `keras.saving.save_model(model, 'my_model.keras')`. \n"
     ]
    },
    {
     "name": "stdout",
     "output_type": "stream",
     "text": [
      "1257/1257 - 1s - 893us/step - accuracy: 0.9342 - loss: 0.2338 - val_accuracy: 0.9333 - val_loss: 0.2374\n",
      "Epoch 1/30\n"
     ]
    },
    {
     "name": "stderr",
     "output_type": "stream",
     "text": [
      "WARNING:absl:You are saving your model as an HDF5 file via `model.save()` or `keras.saving.save_model(model)`. This file format is considered legacy. We recommend using instead the native Keras format, e.g. `model.save('my_model.keras')` or `keras.saving.save_model(model, 'my_model.keras')`. \n"
     ]
    },
    {
     "name": "stdout",
     "output_type": "stream",
     "text": [
      "1257/1257 - 1s - 973us/step - accuracy: 0.7311 - loss: 1.1328 - val_accuracy: 0.8638 - val_loss: 0.5657\n",
      "Epoch 2/30\n"
     ]
    },
    {
     "name": "stderr",
     "output_type": "stream",
     "text": [
      "WARNING:absl:You are saving your model as an HDF5 file via `model.save()` or `keras.saving.save_model(model)`. This file format is considered legacy. We recommend using instead the native Keras format, e.g. `model.save('my_model.keras')` or `keras.saving.save_model(model, 'my_model.keras')`. \n"
     ]
    },
    {
     "name": "stdout",
     "output_type": "stream",
     "text": [
      "1257/1257 - 1s - 842us/step - accuracy: 0.8779 - loss: 0.4693 - val_accuracy: 0.8920 - val_loss: 0.4005\n",
      "Epoch 3/30\n"
     ]
    },
    {
     "name": "stderr",
     "output_type": "stream",
     "text": [
      "WARNING:absl:You are saving your model as an HDF5 file via `model.save()` or `keras.saving.save_model(model)`. This file format is considered legacy. We recommend using instead the native Keras format, e.g. `model.save('my_model.keras')` or `keras.saving.save_model(model, 'my_model.keras')`. \n"
     ]
    },
    {
     "name": "stdout",
     "output_type": "stream",
     "text": [
      "1257/1257 - 1s - 823us/step - accuracy: 0.8962 - loss: 0.3754 - val_accuracy: 0.9029 - val_loss: 0.3464\n",
      "Epoch 4/30\n"
     ]
    },
    {
     "name": "stderr",
     "output_type": "stream",
     "text": [
      "WARNING:absl:You are saving your model as an HDF5 file via `model.save()` or `keras.saving.save_model(model)`. This file format is considered legacy. We recommend using instead the native Keras format, e.g. `model.save('my_model.keras')` or `keras.saving.save_model(model, 'my_model.keras')`. \n"
     ]
    },
    {
     "name": "stdout",
     "output_type": "stream",
     "text": [
      "1257/1257 - 1s - 837us/step - accuracy: 0.9065 - loss: 0.3333 - val_accuracy: 0.9133 - val_loss: 0.3151\n",
      "Epoch 5/30\n"
     ]
    },
    {
     "name": "stderr",
     "output_type": "stream",
     "text": [
      "WARNING:absl:You are saving your model as an HDF5 file via `model.save()` or `keras.saving.save_model(model)`. This file format is considered legacy. We recommend using instead the native Keras format, e.g. `model.save('my_model.keras')` or `keras.saving.save_model(model, 'my_model.keras')`. \n"
     ]
    },
    {
     "name": "stdout",
     "output_type": "stream",
     "text": [
      "1257/1257 - 1s - 809us/step - accuracy: 0.9134 - loss: 0.3060 - val_accuracy: 0.9171 - val_loss: 0.2977\n",
      "Epoch 6/30\n"
     ]
    },
    {
     "name": "stderr",
     "output_type": "stream",
     "text": [
      "WARNING:absl:You are saving your model as an HDF5 file via `model.save()` or `keras.saving.save_model(model)`. This file format is considered legacy. We recommend using instead the native Keras format, e.g. `model.save('my_model.keras')` or `keras.saving.save_model(model, 'my_model.keras')`. \n"
     ]
    },
    {
     "name": "stdout",
     "output_type": "stream",
     "text": [
      "1257/1257 - 1s - 798us/step - accuracy: 0.9190 - loss: 0.2854 - val_accuracy: 0.9226 - val_loss: 0.2742\n",
      "Epoch 7/30\n"
     ]
    },
    {
     "name": "stderr",
     "output_type": "stream",
     "text": [
      "WARNING:absl:You are saving your model as an HDF5 file via `model.save()` or `keras.saving.save_model(model)`. This file format is considered legacy. We recommend using instead the native Keras format, e.g. `model.save('my_model.keras')` or `keras.saving.save_model(model, 'my_model.keras')`. \n"
     ]
    },
    {
     "name": "stdout",
     "output_type": "stream",
     "text": [
      "1257/1257 - 1s - 822us/step - accuracy: 0.9236 - loss: 0.2686 - val_accuracy: 0.9269 - val_loss: 0.2616\n",
      "Epoch 8/30\n"
     ]
    },
    {
     "name": "stderr",
     "output_type": "stream",
     "text": [
      "WARNING:absl:You are saving your model as an HDF5 file via `model.save()` or `keras.saving.save_model(model)`. This file format is considered legacy. We recommend using instead the native Keras format, e.g. `model.save('my_model.keras')` or `keras.saving.save_model(model, 'my_model.keras')`. \n"
     ]
    },
    {
     "name": "stdout",
     "output_type": "stream",
     "text": [
      "1257/1257 - 1s - 858us/step - accuracy: 0.9277 - loss: 0.2545 - val_accuracy: 0.9291 - val_loss: 0.2496\n",
      "Epoch 9/30\n"
     ]
    },
    {
     "name": "stderr",
     "output_type": "stream",
     "text": [
      "WARNING:absl:You are saving your model as an HDF5 file via `model.save()` or `keras.saving.save_model(model)`. This file format is considered legacy. We recommend using instead the native Keras format, e.g. `model.save('my_model.keras')` or `keras.saving.save_model(model, 'my_model.keras')`. \n"
     ]
    },
    {
     "name": "stdout",
     "output_type": "stream",
     "text": [
      "1257/1257 - 1s - 827us/step - accuracy: 0.9312 - loss: 0.2419 - val_accuracy: 0.9322 - val_loss: 0.2404\n",
      "Epoch 10/30\n"
     ]
    },
    {
     "name": "stderr",
     "output_type": "stream",
     "text": [
      "WARNING:absl:You are saving your model as an HDF5 file via `model.save()` or `keras.saving.save_model(model)`. This file format is considered legacy. We recommend using instead the native Keras format, e.g. `model.save('my_model.keras')` or `keras.saving.save_model(model, 'my_model.keras')`. \n"
     ]
    },
    {
     "name": "stdout",
     "output_type": "stream",
     "text": [
      "1257/1257 - 1s - 831us/step - accuracy: 0.9348 - loss: 0.2309 - val_accuracy: 0.9347 - val_loss: 0.2320\n",
      "Epoch 11/30\n"
     ]
    },
    {
     "name": "stderr",
     "output_type": "stream",
     "text": [
      "WARNING:absl:You are saving your model as an HDF5 file via `model.save()` or `keras.saving.save_model(model)`. This file format is considered legacy. We recommend using instead the native Keras format, e.g. `model.save('my_model.keras')` or `keras.saving.save_model(model, 'my_model.keras')`. \n"
     ]
    },
    {
     "name": "stdout",
     "output_type": "stream",
     "text": [
      "1257/1257 - 1s - 816us/step - accuracy: 0.9376 - loss: 0.2206 - val_accuracy: 0.9378 - val_loss: 0.2220\n",
      "Epoch 12/30\n"
     ]
    },
    {
     "name": "stderr",
     "output_type": "stream",
     "text": [
      "WARNING:absl:You are saving your model as an HDF5 file via `model.save()` or `keras.saving.save_model(model)`. This file format is considered legacy. We recommend using instead the native Keras format, e.g. `model.save('my_model.keras')` or `keras.saving.save_model(model, 'my_model.keras')`. \n"
     ]
    },
    {
     "name": "stdout",
     "output_type": "stream",
     "text": [
      "1257/1257 - 1s - 820us/step - accuracy: 0.9406 - loss: 0.2116 - val_accuracy: 0.9393 - val_loss: 0.2155\n",
      "Epoch 13/30\n"
     ]
    },
    {
     "name": "stderr",
     "output_type": "stream",
     "text": [
      "WARNING:absl:You are saving your model as an HDF5 file via `model.save()` or `keras.saving.save_model(model)`. This file format is considered legacy. We recommend using instead the native Keras format, e.g. `model.save('my_model.keras')` or `keras.saving.save_model(model, 'my_model.keras')`. \n"
     ]
    },
    {
     "name": "stdout",
     "output_type": "stream",
     "text": [
      "1257/1257 - 1s - 829us/step - accuracy: 0.9424 - loss: 0.2028 - val_accuracy: 0.9411 - val_loss: 0.2088\n",
      "Epoch 14/30\n"
     ]
    },
    {
     "name": "stderr",
     "output_type": "stream",
     "text": [
      "WARNING:absl:You are saving your model as an HDF5 file via `model.save()` or `keras.saving.save_model(model)`. This file format is considered legacy. We recommend using instead the native Keras format, e.g. `model.save('my_model.keras')` or `keras.saving.save_model(model, 'my_model.keras')`. \n"
     ]
    },
    {
     "name": "stdout",
     "output_type": "stream",
     "text": [
      "1257/1257 - 1s - 841us/step - accuracy: 0.9444 - loss: 0.1950 - val_accuracy: 0.9422 - val_loss: 0.2046\n",
      "Epoch 15/30\n"
     ]
    },
    {
     "name": "stderr",
     "output_type": "stream",
     "text": [
      "WARNING:absl:You are saving your model as an HDF5 file via `model.save()` or `keras.saving.save_model(model)`. This file format is considered legacy. We recommend using instead the native Keras format, e.g. `model.save('my_model.keras')` or `keras.saving.save_model(model, 'my_model.keras')`. \n"
     ]
    },
    {
     "name": "stdout",
     "output_type": "stream",
     "text": [
      "1257/1257 - 1s - 834us/step - accuracy: 0.9470 - loss: 0.1876 - val_accuracy: 0.9445 - val_loss: 0.1971\n",
      "Epoch 16/30\n"
     ]
    },
    {
     "name": "stderr",
     "output_type": "stream",
     "text": [
      "WARNING:absl:You are saving your model as an HDF5 file via `model.save()` or `keras.saving.save_model(model)`. This file format is considered legacy. We recommend using instead the native Keras format, e.g. `model.save('my_model.keras')` or `keras.saving.save_model(model, 'my_model.keras')`. \n"
     ]
    },
    {
     "name": "stdout",
     "output_type": "stream",
     "text": [
      "1257/1257 - 1s - 857us/step - accuracy: 0.9491 - loss: 0.1803 - val_accuracy: 0.9475 - val_loss: 0.1889\n",
      "Epoch 17/30\n"
     ]
    },
    {
     "name": "stderr",
     "output_type": "stream",
     "text": [
      "WARNING:absl:You are saving your model as an HDF5 file via `model.save()` or `keras.saving.save_model(model)`. This file format is considered legacy. We recommend using instead the native Keras format, e.g. `model.save('my_model.keras')` or `keras.saving.save_model(model, 'my_model.keras')`. \n"
     ]
    },
    {
     "name": "stdout",
     "output_type": "stream",
     "text": [
      "1257/1257 - 1s - 831us/step - accuracy: 0.9510 - loss: 0.1739 - val_accuracy: 0.9483 - val_loss: 0.1846\n",
      "Epoch 18/30\n"
     ]
    },
    {
     "name": "stderr",
     "output_type": "stream",
     "text": [
      "WARNING:absl:You are saving your model as an HDF5 file via `model.save()` or `keras.saving.save_model(model)`. This file format is considered legacy. We recommend using instead the native Keras format, e.g. `model.save('my_model.keras')` or `keras.saving.save_model(model, 'my_model.keras')`. \n"
     ]
    },
    {
     "name": "stdout",
     "output_type": "stream",
     "text": [
      "1257/1257 - 1s - 914us/step - accuracy: 0.9530 - loss: 0.1677 - val_accuracy: 0.9505 - val_loss: 0.1788\n",
      "Epoch 19/30\n"
     ]
    },
    {
     "name": "stderr",
     "output_type": "stream",
     "text": [
      "WARNING:absl:You are saving your model as an HDF5 file via `model.save()` or `keras.saving.save_model(model)`. This file format is considered legacy. We recommend using instead the native Keras format, e.g. `model.save('my_model.keras')` or `keras.saving.save_model(model, 'my_model.keras')`. \n"
     ]
    },
    {
     "name": "stdout",
     "output_type": "stream",
     "text": [
      "1257/1257 - 1s - 836us/step - accuracy: 0.9551 - loss: 0.1618 - val_accuracy: 0.9516 - val_loss: 0.1758\n",
      "Epoch 20/30\n"
     ]
    },
    {
     "name": "stderr",
     "output_type": "stream",
     "text": [
      "WARNING:absl:You are saving your model as an HDF5 file via `model.save()` or `keras.saving.save_model(model)`. This file format is considered legacy. We recommend using instead the native Keras format, e.g. `model.save('my_model.keras')` or `keras.saving.save_model(model, 'my_model.keras')`. \n"
     ]
    },
    {
     "name": "stdout",
     "output_type": "stream",
     "text": [
      "1257/1257 - 1s - 852us/step - accuracy: 0.9561 - loss: 0.1566 - val_accuracy: 0.9522 - val_loss: 0.1703\n",
      "Epoch 21/30\n"
     ]
    },
    {
     "name": "stderr",
     "output_type": "stream",
     "text": [
      "WARNING:absl:You are saving your model as an HDF5 file via `model.save()` or `keras.saving.save_model(model)`. This file format is considered legacy. We recommend using instead the native Keras format, e.g. `model.save('my_model.keras')` or `keras.saving.save_model(model, 'my_model.keras')`. \n"
     ]
    },
    {
     "name": "stdout",
     "output_type": "stream",
     "text": [
      "1257/1257 - 1s - 835us/step - accuracy: 0.9580 - loss: 0.1513 - val_accuracy: 0.9534 - val_loss: 0.1665\n",
      "Epoch 22/30\n"
     ]
    },
    {
     "name": "stderr",
     "output_type": "stream",
     "text": [
      "WARNING:absl:You are saving your model as an HDF5 file via `model.save()` or `keras.saving.save_model(model)`. This file format is considered legacy. We recommend using instead the native Keras format, e.g. `model.save('my_model.keras')` or `keras.saving.save_model(model, 'my_model.keras')`. \n"
     ]
    },
    {
     "name": "stdout",
     "output_type": "stream",
     "text": [
      "1257/1257 - 1s - 813us/step - accuracy: 0.9592 - loss: 0.1461 - val_accuracy: 0.9544 - val_loss: 0.1639\n",
      "Epoch 23/30\n"
     ]
    },
    {
     "name": "stderr",
     "output_type": "stream",
     "text": [
      "WARNING:absl:You are saving your model as an HDF5 file via `model.save()` or `keras.saving.save_model(model)`. This file format is considered legacy. We recommend using instead the native Keras format, e.g. `model.save('my_model.keras')` or `keras.saving.save_model(model, 'my_model.keras')`. \n"
     ]
    },
    {
     "name": "stdout",
     "output_type": "stream",
     "text": [
      "1257/1257 - 1s - 808us/step - accuracy: 0.9605 - loss: 0.1415 - val_accuracy: 0.9549 - val_loss: 0.1603\n",
      "Epoch 24/30\n"
     ]
    },
    {
     "name": "stderr",
     "output_type": "stream",
     "text": [
      "WARNING:absl:You are saving your model as an HDF5 file via `model.save()` or `keras.saving.save_model(model)`. This file format is considered legacy. We recommend using instead the native Keras format, e.g. `model.save('my_model.keras')` or `keras.saving.save_model(model, 'my_model.keras')`. \n"
     ]
    },
    {
     "name": "stdout",
     "output_type": "stream",
     "text": [
      "1257/1257 - 1s - 806us/step - accuracy: 0.9620 - loss: 0.1373 - val_accuracy: 0.9562 - val_loss: 0.1565\n",
      "Epoch 25/30\n"
     ]
    },
    {
     "name": "stderr",
     "output_type": "stream",
     "text": [
      "WARNING:absl:You are saving your model as an HDF5 file via `model.save()` or `keras.saving.save_model(model)`. This file format is considered legacy. We recommend using instead the native Keras format, e.g. `model.save('my_model.keras')` or `keras.saving.save_model(model, 'my_model.keras')`. \n"
     ]
    },
    {
     "name": "stdout",
     "output_type": "stream",
     "text": [
      "1257/1257 - 1s - 837us/step - accuracy: 0.9629 - loss: 0.1331 - val_accuracy: 0.9572 - val_loss: 0.1531\n",
      "Epoch 26/30\n"
     ]
    },
    {
     "name": "stderr",
     "output_type": "stream",
     "text": [
      "WARNING:absl:You are saving your model as an HDF5 file via `model.save()` or `keras.saving.save_model(model)`. This file format is considered legacy. We recommend using instead the native Keras format, e.g. `model.save('my_model.keras')` or `keras.saving.save_model(model, 'my_model.keras')`. \n"
     ]
    },
    {
     "name": "stdout",
     "output_type": "stream",
     "text": [
      "1257/1257 - 1s - 798us/step - accuracy: 0.9641 - loss: 0.1293 - val_accuracy: 0.9574 - val_loss: 0.1509\n",
      "Epoch 27/30\n"
     ]
    },
    {
     "name": "stderr",
     "output_type": "stream",
     "text": [
      "WARNING:absl:You are saving your model as an HDF5 file via `model.save()` or `keras.saving.save_model(model)`. This file format is considered legacy. We recommend using instead the native Keras format, e.g. `model.save('my_model.keras')` or `keras.saving.save_model(model, 'my_model.keras')`. \n"
     ]
    },
    {
     "name": "stdout",
     "output_type": "stream",
     "text": [
      "1257/1257 - 1s - 804us/step - accuracy: 0.9650 - loss: 0.1255 - val_accuracy: 0.9588 - val_loss: 0.1476\n",
      "Epoch 28/30\n"
     ]
    },
    {
     "name": "stderr",
     "output_type": "stream",
     "text": [
      "WARNING:absl:You are saving your model as an HDF5 file via `model.save()` or `keras.saving.save_model(model)`. This file format is considered legacy. We recommend using instead the native Keras format, e.g. `model.save('my_model.keras')` or `keras.saving.save_model(model, 'my_model.keras')`. \n"
     ]
    },
    {
     "name": "stdout",
     "output_type": "stream",
     "text": [
      "1257/1257 - 1s - 839us/step - accuracy: 0.9664 - loss: 0.1217 - val_accuracy: 0.9588 - val_loss: 0.1460\n",
      "Epoch 29/30\n"
     ]
    },
    {
     "name": "stderr",
     "output_type": "stream",
     "text": [
      "WARNING:absl:You are saving your model as an HDF5 file via `model.save()` or `keras.saving.save_model(model)`. This file format is considered legacy. We recommend using instead the native Keras format, e.g. `model.save('my_model.keras')` or `keras.saving.save_model(model, 'my_model.keras')`. \n"
     ]
    },
    {
     "name": "stdout",
     "output_type": "stream",
     "text": [
      "1257/1257 - 1s - 809us/step - accuracy: 0.9676 - loss: 0.1184 - val_accuracy: 0.9597 - val_loss: 0.1430\n",
      "Epoch 30/30\n"
     ]
    },
    {
     "name": "stderr",
     "output_type": "stream",
     "text": [
      "WARNING:absl:You are saving your model as an HDF5 file via `model.save()` or `keras.saving.save_model(model)`. This file format is considered legacy. We recommend using instead the native Keras format, e.g. `model.save('my_model.keras')` or `keras.saving.save_model(model, 'my_model.keras')`. \n"
     ]
    },
    {
     "name": "stdout",
     "output_type": "stream",
     "text": [
      "1257/1257 - 1s - 798us/step - accuracy: 0.9686 - loss: 0.1151 - val_accuracy: 0.9596 - val_loss: 0.1394\n",
      "Epoch 1/30\n"
     ]
    },
    {
     "name": "stderr",
     "output_type": "stream",
     "text": [
      "WARNING:absl:You are saving your model as an HDF5 file via `model.save()` or `keras.saving.save_model(model)`. This file format is considered legacy. We recommend using instead the native Keras format, e.g. `model.save('my_model.keras')` or `keras.saving.save_model(model, 'my_model.keras')`. \n"
     ]
    },
    {
     "name": "stdout",
     "output_type": "stream",
     "text": [
      "1257/1257 - 1s - 962us/step - accuracy: 0.8466 - loss: 0.6063 - val_accuracy: 0.9108 - val_loss: 0.3170\n",
      "Epoch 2/30\n"
     ]
    },
    {
     "name": "stderr",
     "output_type": "stream",
     "text": [
      "WARNING:absl:You are saving your model as an HDF5 file via `model.save()` or `keras.saving.save_model(model)`. This file format is considered legacy. We recommend using instead the native Keras format, e.g. `model.save('my_model.keras')` or `keras.saving.save_model(model, 'my_model.keras')`. \n"
     ]
    },
    {
     "name": "stdout",
     "output_type": "stream",
     "text": [
      "1257/1257 - 1s - 820us/step - accuracy: 0.9187 - loss: 0.2873 - val_accuracy: 0.9305 - val_loss: 0.2499\n",
      "Epoch 3/30\n"
     ]
    },
    {
     "name": "stderr",
     "output_type": "stream",
     "text": [
      "WARNING:absl:You are saving your model as an HDF5 file via `model.save()` or `keras.saving.save_model(model)`. This file format is considered legacy. We recommend using instead the native Keras format, e.g. `model.save('my_model.keras')` or `keras.saving.save_model(model, 'my_model.keras')`. \n"
     ]
    },
    {
     "name": "stdout",
     "output_type": "stream",
     "text": [
      "1257/1257 - 1s - 814us/step - accuracy: 0.9328 - loss: 0.2339 - val_accuracy: 0.9328 - val_loss: 0.2349\n",
      "Epoch 4/30\n"
     ]
    },
    {
     "name": "stderr",
     "output_type": "stream",
     "text": [
      "WARNING:absl:You are saving your model as an HDF5 file via `model.save()` or `keras.saving.save_model(model)`. This file format is considered legacy. We recommend using instead the native Keras format, e.g. `model.save('my_model.keras')` or `keras.saving.save_model(model, 'my_model.keras')`. \n"
     ]
    },
    {
     "name": "stdout",
     "output_type": "stream",
     "text": [
      "1257/1257 - 1s - 876us/step - accuracy: 0.9429 - loss: 0.2003 - val_accuracy: 0.9437 - val_loss: 0.2013\n",
      "Epoch 5/30\n"
     ]
    },
    {
     "name": "stderr",
     "output_type": "stream",
     "text": [
      "WARNING:absl:You are saving your model as an HDF5 file via `model.save()` or `keras.saving.save_model(model)`. This file format is considered legacy. We recommend using instead the native Keras format, e.g. `model.save('my_model.keras')` or `keras.saving.save_model(model, 'my_model.keras')`. \n"
     ]
    },
    {
     "name": "stdout",
     "output_type": "stream",
     "text": [
      "1257/1257 - 1s - 808us/step - accuracy: 0.9501 - loss: 0.1749 - val_accuracy: 0.9495 - val_loss: 0.1760\n",
      "Epoch 6/30\n"
     ]
    },
    {
     "name": "stderr",
     "output_type": "stream",
     "text": [
      "WARNING:absl:You are saving your model as an HDF5 file via `model.save()` or `keras.saving.save_model(model)`. This file format is considered legacy. We recommend using instead the native Keras format, e.g. `model.save('my_model.keras')` or `keras.saving.save_model(model, 'my_model.keras')`. \n"
     ]
    },
    {
     "name": "stdout",
     "output_type": "stream",
     "text": [
      "1257/1257 - 1s - 796us/step - accuracy: 0.9557 - loss: 0.1557 - val_accuracy: 0.9548 - val_loss: 0.1601\n",
      "Epoch 7/30\n"
     ]
    },
    {
     "name": "stderr",
     "output_type": "stream",
     "text": [
      "WARNING:absl:You are saving your model as an HDF5 file via `model.save()` or `keras.saving.save_model(model)`. This file format is considered legacy. We recommend using instead the native Keras format, e.g. `model.save('my_model.keras')` or `keras.saving.save_model(model, 'my_model.keras')`. \n"
     ]
    },
    {
     "name": "stdout",
     "output_type": "stream",
     "text": [
      "1257/1257 - 1s - 830us/step - accuracy: 0.9602 - loss: 0.1402 - val_accuracy: 0.9570 - val_loss: 0.1514\n",
      "Epoch 8/30\n"
     ]
    },
    {
     "name": "stderr",
     "output_type": "stream",
     "text": [
      "WARNING:absl:You are saving your model as an HDF5 file via `model.save()` or `keras.saving.save_model(model)`. This file format is considered legacy. We recommend using instead the native Keras format, e.g. `model.save('my_model.keras')` or `keras.saving.save_model(model, 'my_model.keras')`. \n"
     ]
    },
    {
     "name": "stdout",
     "output_type": "stream",
     "text": [
      "1257/1257 - 1s - 800us/step - accuracy: 0.9644 - loss: 0.1265 - val_accuracy: 0.9584 - val_loss: 0.1465\n",
      "Epoch 9/30\n"
     ]
    },
    {
     "name": "stderr",
     "output_type": "stream",
     "text": [
      "WARNING:absl:You are saving your model as an HDF5 file via `model.save()` or `keras.saving.save_model(model)`. This file format is considered legacy. We recommend using instead the native Keras format, e.g. `model.save('my_model.keras')` or `keras.saving.save_model(model, 'my_model.keras')`. \n"
     ]
    },
    {
     "name": "stdout",
     "output_type": "stream",
     "text": [
      "1257/1257 - 1s - 800us/step - accuracy: 0.9672 - loss: 0.1153 - val_accuracy: 0.9621 - val_loss: 0.1321\n",
      "Epoch 10/30\n"
     ]
    },
    {
     "name": "stderr",
     "output_type": "stream",
     "text": [
      "WARNING:absl:You are saving your model as an HDF5 file via `model.save()` or `keras.saving.save_model(model)`. This file format is considered legacy. We recommend using instead the native Keras format, e.g. `model.save('my_model.keras')` or `keras.saving.save_model(model, 'my_model.keras')`. \n"
     ]
    },
    {
     "name": "stdout",
     "output_type": "stream",
     "text": [
      "1257/1257 - 1s - 844us/step - accuracy: 0.9708 - loss: 0.1052 - val_accuracy: 0.9618 - val_loss: 0.1312\n",
      "Epoch 11/30\n"
     ]
    },
    {
     "name": "stderr",
     "output_type": "stream",
     "text": [
      "WARNING:absl:You are saving your model as an HDF5 file via `model.save()` or `keras.saving.save_model(model)`. This file format is considered legacy. We recommend using instead the native Keras format, e.g. `model.save('my_model.keras')` or `keras.saving.save_model(model, 'my_model.keras')`. \n"
     ]
    },
    {
     "name": "stdout",
     "output_type": "stream",
     "text": [
      "1257/1257 - 1s - 818us/step - accuracy: 0.9737 - loss: 0.0970 - val_accuracy: 0.9627 - val_loss: 0.1296\n",
      "Epoch 12/30\n"
     ]
    },
    {
     "name": "stderr",
     "output_type": "stream",
     "text": [
      "WARNING:absl:You are saving your model as an HDF5 file via `model.save()` or `keras.saving.save_model(model)`. This file format is considered legacy. We recommend using instead the native Keras format, e.g. `model.save('my_model.keras')` or `keras.saving.save_model(model, 'my_model.keras')`. \n"
     ]
    },
    {
     "name": "stdout",
     "output_type": "stream",
     "text": [
      "1257/1257 - 1s - 808us/step - accuracy: 0.9762 - loss: 0.0888 - val_accuracy: 0.9654 - val_loss: 0.1179\n",
      "Epoch 13/30\n"
     ]
    },
    {
     "name": "stderr",
     "output_type": "stream",
     "text": [
      "WARNING:absl:You are saving your model as an HDF5 file via `model.save()` or `keras.saving.save_model(model)`. This file format is considered legacy. We recommend using instead the native Keras format, e.g. `model.save('my_model.keras')` or `keras.saving.save_model(model, 'my_model.keras')`. \n"
     ]
    },
    {
     "name": "stdout",
     "output_type": "stream",
     "text": [
      "1257/1257 - 1s - 826us/step - accuracy: 0.9774 - loss: 0.0826 - val_accuracy: 0.9673 - val_loss: 0.1118\n",
      "Epoch 14/30\n"
     ]
    },
    {
     "name": "stderr",
     "output_type": "stream",
     "text": [
      "WARNING:absl:You are saving your model as an HDF5 file via `model.save()` or `keras.saving.save_model(model)`. This file format is considered legacy. We recommend using instead the native Keras format, e.g. `model.save('my_model.keras')` or `keras.saving.save_model(model, 'my_model.keras')`. \n"
     ]
    },
    {
     "name": "stdout",
     "output_type": "stream",
     "text": [
      "1257/1257 - 1s - 796us/step - accuracy: 0.9791 - loss: 0.0761 - val_accuracy: 0.9682 - val_loss: 0.1097\n",
      "Epoch 15/30\n",
      "1257/1257 - 1s - 813us/step - accuracy: 0.9809 - loss: 0.0711 - val_accuracy: 0.9656 - val_loss: 0.1191\n",
      "Epoch 16/30\n"
     ]
    },
    {
     "name": "stderr",
     "output_type": "stream",
     "text": [
      "WARNING:absl:You are saving your model as an HDF5 file via `model.save()` or `keras.saving.save_model(model)`. This file format is considered legacy. We recommend using instead the native Keras format, e.g. `model.save('my_model.keras')` or `keras.saving.save_model(model, 'my_model.keras')`. \n"
     ]
    },
    {
     "name": "stdout",
     "output_type": "stream",
     "text": [
      "1257/1257 - 1s - 814us/step - accuracy: 0.9824 - loss: 0.0655 - val_accuracy: 0.9694 - val_loss: 0.1044\n",
      "Epoch 17/30\n"
     ]
    },
    {
     "name": "stderr",
     "output_type": "stream",
     "text": [
      "WARNING:absl:You are saving your model as an HDF5 file via `model.save()` or `keras.saving.save_model(model)`. This file format is considered legacy. We recommend using instead the native Keras format, e.g. `model.save('my_model.keras')` or `keras.saving.save_model(model, 'my_model.keras')`. \n"
     ]
    },
    {
     "name": "stdout",
     "output_type": "stream",
     "text": [
      "1257/1257 - 1s - 843us/step - accuracy: 0.9836 - loss: 0.0610 - val_accuracy: 0.9696 - val_loss: 0.1006\n",
      "Epoch 18/30\n"
     ]
    },
    {
     "name": "stderr",
     "output_type": "stream",
     "text": [
      "WARNING:absl:You are saving your model as an HDF5 file via `model.save()` or `keras.saving.save_model(model)`. This file format is considered legacy. We recommend using instead the native Keras format, e.g. `model.save('my_model.keras')` or `keras.saving.save_model(model, 'my_model.keras')`. \n"
     ]
    },
    {
     "name": "stdout",
     "output_type": "stream",
     "text": [
      "1257/1257 - 1s - 792us/step - accuracy: 0.9852 - loss: 0.0568 - val_accuracy: 0.9707 - val_loss: 0.0980\n",
      "Epoch 19/30\n",
      "1257/1257 - 1s - 789us/step - accuracy: 0.9860 - loss: 0.0529 - val_accuracy: 0.9713 - val_loss: 0.0992\n",
      "Epoch 20/30\n"
     ]
    },
    {
     "name": "stderr",
     "output_type": "stream",
     "text": [
      "WARNING:absl:You are saving your model as an HDF5 file via `model.save()` or `keras.saving.save_model(model)`. This file format is considered legacy. We recommend using instead the native Keras format, e.g. `model.save('my_model.keras')` or `keras.saving.save_model(model, 'my_model.keras')`. \n"
     ]
    },
    {
     "name": "stdout",
     "output_type": "stream",
     "text": [
      "1257/1257 - 1s - 790us/step - accuracy: 0.9870 - loss: 0.0494 - val_accuracy: 0.9724 - val_loss: 0.0932\n",
      "Epoch 21/30\n",
      "1257/1257 - 1s - 796us/step - accuracy: 0.9891 - loss: 0.0456 - val_accuracy: 0.9727 - val_loss: 0.0938\n",
      "Epoch 22/30\n"
     ]
    },
    {
     "name": "stderr",
     "output_type": "stream",
     "text": [
      "WARNING:absl:You are saving your model as an HDF5 file via `model.save()` or `keras.saving.save_model(model)`. This file format is considered legacy. We recommend using instead the native Keras format, e.g. `model.save('my_model.keras')` or `keras.saving.save_model(model, 'my_model.keras')`. \n"
     ]
    },
    {
     "name": "stdout",
     "output_type": "stream",
     "text": [
      "1257/1257 - 1s - 799us/step - accuracy: 0.9895 - loss: 0.0428 - val_accuracy: 0.9724 - val_loss: 0.0927\n",
      "Epoch 23/30\n"
     ]
    },
    {
     "name": "stderr",
     "output_type": "stream",
     "text": [
      "WARNING:absl:You are saving your model as an HDF5 file via `model.save()` or `keras.saving.save_model(model)`. This file format is considered legacy. We recommend using instead the native Keras format, e.g. `model.save('my_model.keras')` or `keras.saving.save_model(model, 'my_model.keras')`. \n"
     ]
    },
    {
     "name": "stdout",
     "output_type": "stream",
     "text": [
      "1257/1257 - 1s - 797us/step - accuracy: 0.9900 - loss: 0.0400 - val_accuracy: 0.9724 - val_loss: 0.0907\n",
      "Epoch 24/30\n"
     ]
    },
    {
     "name": "stderr",
     "output_type": "stream",
     "text": [
      "WARNING:absl:You are saving your model as an HDF5 file via `model.save()` or `keras.saving.save_model(model)`. This file format is considered legacy. We recommend using instead the native Keras format, e.g. `model.save('my_model.keras')` or `keras.saving.save_model(model, 'my_model.keras')`. \n"
     ]
    },
    {
     "name": "stdout",
     "output_type": "stream",
     "text": [
      "1257/1257 - 1s - 794us/step - accuracy: 0.9908 - loss: 0.0374 - val_accuracy: 0.9732 - val_loss: 0.0898\n",
      "Epoch 25/30\n"
     ]
    },
    {
     "name": "stderr",
     "output_type": "stream",
     "text": [
      "WARNING:absl:You are saving your model as an HDF5 file via `model.save()` or `keras.saving.save_model(model)`. This file format is considered legacy. We recommend using instead the native Keras format, e.g. `model.save('my_model.keras')` or `keras.saving.save_model(model, 'my_model.keras')`. \n"
     ]
    },
    {
     "name": "stdout",
     "output_type": "stream",
     "text": [
      "1257/1257 - 1s - 818us/step - accuracy: 0.9915 - loss: 0.0351 - val_accuracy: 0.9732 - val_loss: 0.0892\n",
      "Epoch 26/30\n",
      "1257/1257 - 1s - 793us/step - accuracy: 0.9926 - loss: 0.0328 - val_accuracy: 0.9732 - val_loss: 0.0905\n",
      "Epoch 27/30\n"
     ]
    },
    {
     "name": "stderr",
     "output_type": "stream",
     "text": [
      "WARNING:absl:You are saving your model as an HDF5 file via `model.save()` or `keras.saving.save_model(model)`. This file format is considered legacy. We recommend using instead the native Keras format, e.g. `model.save('my_model.keras')` or `keras.saving.save_model(model, 'my_model.keras')`. \n"
     ]
    },
    {
     "name": "stdout",
     "output_type": "stream",
     "text": [
      "1257/1257 - 1s - 797us/step - accuracy: 0.9930 - loss: 0.0308 - val_accuracy: 0.9741 - val_loss: 0.0867\n",
      "Epoch 28/30\n",
      "1257/1257 - 1s - 790us/step - accuracy: 0.9939 - loss: 0.0287 - val_accuracy: 0.9747 - val_loss: 0.0891\n",
      "Epoch 29/30\n",
      "1257/1257 - 1s - 788us/step - accuracy: 0.9944 - loss: 0.0269 - val_accuracy: 0.9739 - val_loss: 0.0867\n",
      "Epoch 30/30\n"
     ]
    },
    {
     "name": "stderr",
     "output_type": "stream",
     "text": [
      "WARNING:absl:You are saving your model as an HDF5 file via `model.save()` or `keras.saving.save_model(model)`. This file format is considered legacy. We recommend using instead the native Keras format, e.g. `model.save('my_model.keras')` or `keras.saving.save_model(model, 'my_model.keras')`. \n"
     ]
    },
    {
     "name": "stdout",
     "output_type": "stream",
     "text": [
      "1257/1257 - 1s - 805us/step - accuracy: 0.9948 - loss: 0.0252 - val_accuracy: 0.9743 - val_loss: 0.0856\n",
      "Epoch 1/30\n"
     ]
    },
    {
     "name": "stderr",
     "output_type": "stream",
     "text": [
      "WARNING:absl:You are saving your model as an HDF5 file via `model.save()` or `keras.saving.save_model(model)`. This file format is considered legacy. We recommend using instead the native Keras format, e.g. `model.save('my_model.keras')` or `keras.saving.save_model(model, 'my_model.keras')`. \n"
     ]
    },
    {
     "name": "stdout",
     "output_type": "stream",
     "text": [
      "1257/1257 - 1s - 937us/step - accuracy: 0.8931 - loss: 0.3822 - val_accuracy: 0.9388 - val_loss: 0.2133\n",
      "Epoch 2/30\n"
     ]
    },
    {
     "name": "stderr",
     "output_type": "stream",
     "text": [
      "WARNING:absl:You are saving your model as an HDF5 file via `model.save()` or `keras.saving.save_model(model)`. This file format is considered legacy. We recommend using instead the native Keras format, e.g. `model.save('my_model.keras')` or `keras.saving.save_model(model, 'my_model.keras')`. \n"
     ]
    },
    {
     "name": "stdout",
     "output_type": "stream",
     "text": [
      "1257/1257 - 1s - 830us/step - accuracy: 0.9478 - loss: 0.1777 - val_accuracy: 0.9555 - val_loss: 0.1545\n",
      "Epoch 3/30\n",
      "1257/1257 - 1s - 806us/step - accuracy: 0.9637 - loss: 0.1255 - val_accuracy: 0.9239 - val_loss: 0.2656\n",
      "Epoch 4/30\n"
     ]
    },
    {
     "name": "stderr",
     "output_type": "stream",
     "text": [
      "WARNING:absl:You are saving your model as an HDF5 file via `model.save()` or `keras.saving.save_model(model)`. This file format is considered legacy. We recommend using instead the native Keras format, e.g. `model.save('my_model.keras')` or `keras.saving.save_model(model, 'my_model.keras')`. \n"
     ]
    },
    {
     "name": "stdout",
     "output_type": "stream",
     "text": [
      "1257/1257 - 1s - 795us/step - accuracy: 0.9723 - loss: 0.0973 - val_accuracy: 0.9672 - val_loss: 0.1114\n",
      "Epoch 5/30\n"
     ]
    },
    {
     "name": "stderr",
     "output_type": "stream",
     "text": [
      "WARNING:absl:You are saving your model as an HDF5 file via `model.save()` or `keras.saving.save_model(model)`. This file format is considered legacy. We recommend using instead the native Keras format, e.g. `model.save('my_model.keras')` or `keras.saving.save_model(model, 'my_model.keras')`. \n"
     ]
    },
    {
     "name": "stdout",
     "output_type": "stream",
     "text": [
      "1257/1257 - 1s - 794us/step - accuracy: 0.9778 - loss: 0.0762 - val_accuracy: 0.9692 - val_loss: 0.1033\n",
      "Epoch 6/30\n"
     ]
    },
    {
     "name": "stderr",
     "output_type": "stream",
     "text": [
      "WARNING:absl:You are saving your model as an HDF5 file via `model.save()` or `keras.saving.save_model(model)`. This file format is considered legacy. We recommend using instead the native Keras format, e.g. `model.save('my_model.keras')` or `keras.saving.save_model(model, 'my_model.keras')`. \n"
     ]
    },
    {
     "name": "stdout",
     "output_type": "stream",
     "text": [
      "1257/1257 - 1s - 796us/step - accuracy: 0.9827 - loss: 0.0607 - val_accuracy: 0.9720 - val_loss: 0.0935\n",
      "Epoch 7/30\n"
     ]
    },
    {
     "name": "stderr",
     "output_type": "stream",
     "text": [
      "WARNING:absl:You are saving your model as an HDF5 file via `model.save()` or `keras.saving.save_model(model)`. This file format is considered legacy. We recommend using instead the native Keras format, e.g. `model.save('my_model.keras')` or `keras.saving.save_model(model, 'my_model.keras')`. \n"
     ]
    },
    {
     "name": "stdout",
     "output_type": "stream",
     "text": [
      "1257/1257 - 1s - 803us/step - accuracy: 0.9864 - loss: 0.0494 - val_accuracy: 0.9740 - val_loss: 0.0864\n",
      "Epoch 8/30\n",
      "1257/1257 - 1s - 796us/step - accuracy: 0.9887 - loss: 0.0399 - val_accuracy: 0.9729 - val_loss: 0.0906\n",
      "Epoch 9/30\n"
     ]
    },
    {
     "name": "stderr",
     "output_type": "stream",
     "text": [
      "WARNING:absl:You are saving your model as an HDF5 file via `model.save()` or `keras.saving.save_model(model)`. This file format is considered legacy. We recommend using instead the native Keras format, e.g. `model.save('my_model.keras')` or `keras.saving.save_model(model, 'my_model.keras')`. \n"
     ]
    },
    {
     "name": "stdout",
     "output_type": "stream",
     "text": [
      "1257/1257 - 1s - 819us/step - accuracy: 0.9913 - loss: 0.0328 - val_accuracy: 0.9738 - val_loss: 0.0852\n",
      "Epoch 10/30\n"
     ]
    },
    {
     "name": "stderr",
     "output_type": "stream",
     "text": [
      "WARNING:absl:You are saving your model as an HDF5 file via `model.save()` or `keras.saving.save_model(model)`. This file format is considered legacy. We recommend using instead the native Keras format, e.g. `model.save('my_model.keras')` or `keras.saving.save_model(model, 'my_model.keras')`. \n"
     ]
    },
    {
     "name": "stdout",
     "output_type": "stream",
     "text": [
      "1257/1257 - 1s - 818us/step - accuracy: 0.9936 - loss: 0.0261 - val_accuracy: 0.9771 - val_loss: 0.0791\n",
      "Epoch 11/30\n",
      "1257/1257 - 1s - 796us/step - accuracy: 0.9949 - loss: 0.0218 - val_accuracy: 0.9766 - val_loss: 0.0805\n",
      "Epoch 12/30\n",
      "1257/1257 - 1s - 804us/step - accuracy: 0.9962 - loss: 0.0179 - val_accuracy: 0.9773 - val_loss: 0.0806\n",
      "Epoch 13/30\n",
      "1257/1257 - 1s - 789us/step - accuracy: 0.9978 - loss: 0.0139 - val_accuracy: 0.9761 - val_loss: 0.0821\n",
      "Epoch 14/30\n",
      "1257/1257 - 1s - 796us/step - accuracy: 0.9985 - loss: 0.0114 - val_accuracy: 0.9772 - val_loss: 0.0813\n",
      "Epoch 15/30\n",
      "1257/1257 - 1s - 790us/step - accuracy: 0.9985 - loss: 0.0096 - val_accuracy: 0.9767 - val_loss: 0.0835\n",
      "Epoch 16/30\n",
      "1257/1257 - 1s - 789us/step - accuracy: 0.9990 - loss: 0.0082 - val_accuracy: 0.9765 - val_loss: 0.0843\n",
      "Epoch 17/30\n",
      "1257/1257 - 1s - 797us/step - accuracy: 0.9995 - loss: 0.0063 - val_accuracy: 0.9784 - val_loss: 0.0800\n",
      "Epoch 18/30\n",
      "1257/1257 - 1s - 815us/step - accuracy: 0.9995 - loss: 0.0053 - val_accuracy: 0.9770 - val_loss: 0.0819\n",
      "Epoch 19/30\n",
      "1257/1257 - 1s - 786us/step - accuracy: 0.9998 - loss: 0.0045 - val_accuracy: 0.9777 - val_loss: 0.0880\n",
      "Epoch 20/30\n",
      "1257/1257 - 1s - 788us/step - accuracy: 0.9998 - loss: 0.0040 - val_accuracy: 0.9771 - val_loss: 0.0843\n",
      "Epoch 21/30\n",
      "1257/1257 - 1s - 787us/step - accuracy: 0.9999 - loss: 0.0034 - val_accuracy: 0.9782 - val_loss: 0.0850\n",
      "Epoch 22/30\n",
      "1257/1257 - 1s - 784us/step - accuracy: 0.9999 - loss: 0.0029 - val_accuracy: 0.9782 - val_loss: 0.0840\n",
      "Epoch 23/30\n",
      "1257/1257 - 1s - 787us/step - accuracy: 1.0000 - loss: 0.0026 - val_accuracy: 0.9779 - val_loss: 0.0845\n",
      "Epoch 24/30\n",
      "1257/1257 - 1s - 803us/step - accuracy: 1.0000 - loss: 0.0024 - val_accuracy: 0.9779 - val_loss: 0.0885\n",
      "Epoch 25/30\n",
      "1257/1257 - 1s - 786us/step - accuracy: 1.0000 - loss: 0.0022 - val_accuracy: 0.9781 - val_loss: 0.0872\n",
      "Epoch 26/30\n",
      "1257/1257 - 1s - 782us/step - accuracy: 1.0000 - loss: 0.0020 - val_accuracy: 0.9782 - val_loss: 0.0860\n",
      "Epoch 27/30\n",
      "1257/1257 - 1s - 783us/step - accuracy: 1.0000 - loss: 0.0018 - val_accuracy: 0.9786 - val_loss: 0.0874\n",
      "Epoch 28/30\n",
      "1257/1257 - 1s - 787us/step - accuracy: 1.0000 - loss: 0.0017 - val_accuracy: 0.9787 - val_loss: 0.0876\n",
      "Epoch 29/30\n",
      "1257/1257 - 1s - 787us/step - accuracy: 1.0000 - loss: 0.0016 - val_accuracy: 0.9786 - val_loss: 0.0875\n",
      "Epoch 30/30\n",
      "1257/1257 - 1s - 786us/step - accuracy: 1.0000 - loss: 0.0015 - val_accuracy: 0.9788 - val_loss: 0.0886\n",
      "Epoch 1/30\n"
     ]
    },
    {
     "name": "stderr",
     "output_type": "stream",
     "text": [
      "WARNING:absl:You are saving your model as an HDF5 file via `model.save()` or `keras.saving.save_model(model)`. This file format is considered legacy. We recommend using instead the native Keras format, e.g. `model.save('my_model.keras')` or `keras.saving.save_model(model, 'my_model.keras')`. \n"
     ]
    },
    {
     "name": "stdout",
     "output_type": "stream",
     "text": [
      "1257/1257 - 1s - 944us/step - accuracy: 0.9179 - loss: 0.2714 - val_accuracy: 0.8151 - val_loss: 0.7463\n",
      "Epoch 2/30\n"
     ]
    },
    {
     "name": "stderr",
     "output_type": "stream",
     "text": [
      "WARNING:absl:You are saving your model as an HDF5 file via `model.save()` or `keras.saving.save_model(model)`. This file format is considered legacy. We recommend using instead the native Keras format, e.g. `model.save('my_model.keras')` or `keras.saving.save_model(model, 'my_model.keras')`. \n"
     ]
    },
    {
     "name": "stdout",
     "output_type": "stream",
     "text": [
      "1257/1257 - 1s - 849us/step - accuracy: 0.9661 - loss: 0.1094 - val_accuracy: 0.9686 - val_loss: 0.1040\n",
      "Epoch 3/30\n"
     ]
    },
    {
     "name": "stderr",
     "output_type": "stream",
     "text": [
      "WARNING:absl:You are saving your model as an HDF5 file via `model.save()` or `keras.saving.save_model(model)`. This file format is considered legacy. We recommend using instead the native Keras format, e.g. `model.save('my_model.keras')` or `keras.saving.save_model(model, 'my_model.keras')`. \n"
     ]
    },
    {
     "name": "stdout",
     "output_type": "stream",
     "text": [
      "1257/1257 - 1s - 833us/step - accuracy: 0.9777 - loss: 0.0715 - val_accuracy: 0.9684 - val_loss: 0.0999\n",
      "Epoch 4/30\n",
      "1257/1257 - 1s - 829us/step - accuracy: 0.9843 - loss: 0.0497 - val_accuracy: 0.9428 - val_loss: 0.1985\n",
      "Epoch 5/30\n"
     ]
    },
    {
     "name": "stderr",
     "output_type": "stream",
     "text": [
      "WARNING:absl:You are saving your model as an HDF5 file via `model.save()` or `keras.saving.save_model(model)`. This file format is considered legacy. We recommend using instead the native Keras format, e.g. `model.save('my_model.keras')` or `keras.saving.save_model(model, 'my_model.keras')`. \n"
     ]
    },
    {
     "name": "stdout",
     "output_type": "stream",
     "text": [
      "1257/1257 - 1s - 825us/step - accuracy: 0.9880 - loss: 0.0400 - val_accuracy: 0.9699 - val_loss: 0.0992\n",
      "Epoch 6/30\n"
     ]
    },
    {
     "name": "stderr",
     "output_type": "stream",
     "text": [
      "WARNING:absl:You are saving your model as an HDF5 file via `model.save()` or `keras.saving.save_model(model)`. This file format is considered legacy. We recommend using instead the native Keras format, e.g. `model.save('my_model.keras')` or `keras.saving.save_model(model, 'my_model.keras')`. \n"
     ]
    },
    {
     "name": "stdout",
     "output_type": "stream",
     "text": [
      "1257/1257 - 1s - 831us/step - accuracy: 0.9921 - loss: 0.0265 - val_accuracy: 0.9758 - val_loss: 0.0849\n",
      "Epoch 7/30\n"
     ]
    },
    {
     "name": "stderr",
     "output_type": "stream",
     "text": [
      "WARNING:absl:You are saving your model as an HDF5 file via `model.save()` or `keras.saving.save_model(model)`. This file format is considered legacy. We recommend using instead the native Keras format, e.g. `model.save('my_model.keras')` or `keras.saving.save_model(model, 'my_model.keras')`. \n"
     ]
    },
    {
     "name": "stdout",
     "output_type": "stream",
     "text": [
      "1257/1257 - 1s - 857us/step - accuracy: 0.9936 - loss: 0.0205 - val_accuracy: 0.9761 - val_loss: 0.0846\n",
      "Epoch 8/30\n",
      "1257/1257 - 1s - 872us/step - accuracy: 0.9967 - loss: 0.0112 - val_accuracy: 0.9758 - val_loss: 0.0914\n",
      "Epoch 9/30\n",
      "1257/1257 - 1s - 818us/step - accuracy: 0.9978 - loss: 0.0085 - val_accuracy: 0.9754 - val_loss: 0.1005\n",
      "Epoch 10/30\n",
      "1257/1257 - 1s - 814us/step - accuracy: 0.9989 - loss: 0.0052 - val_accuracy: 0.9772 - val_loss: 0.0894\n",
      "Epoch 11/30\n",
      "1257/1257 - 1s - 829us/step - accuracy: 0.9995 - loss: 0.0029 - val_accuracy: 0.9787 - val_loss: 0.0916\n",
      "Epoch 12/30\n",
      "1257/1257 - 1s - 827us/step - accuracy: 0.9998 - loss: 0.0014 - val_accuracy: 0.9795 - val_loss: 0.0889\n",
      "Epoch 13/30\n",
      "1257/1257 - 1s - 813us/step - accuracy: 1.0000 - loss: 8.1829e-04 - val_accuracy: 0.9801 - val_loss: 0.0872\n",
      "Epoch 14/30\n",
      "1257/1257 - 1s - 807us/step - accuracy: 1.0000 - loss: 6.0710e-04 - val_accuracy: 0.9799 - val_loss: 0.0888\n",
      "Epoch 15/30\n",
      "1257/1257 - 1s - 841us/step - accuracy: 1.0000 - loss: 4.9632e-04 - val_accuracy: 0.9800 - val_loss: 0.0916\n",
      "Epoch 16/30\n",
      "1257/1257 - 1s - 820us/step - accuracy: 1.0000 - loss: 4.2413e-04 - val_accuracy: 0.9802 - val_loss: 0.0905\n",
      "Epoch 17/30\n",
      "1257/1257 - 1s - 791us/step - accuracy: 1.0000 - loss: 3.7909e-04 - val_accuracy: 0.9802 - val_loss: 0.0922\n",
      "Epoch 18/30\n",
      "1257/1257 - 1s - 785us/step - accuracy: 1.0000 - loss: 3.4540e-04 - val_accuracy: 0.9801 - val_loss: 0.0928\n",
      "Epoch 19/30\n",
      "1257/1257 - 1s - 793us/step - accuracy: 1.0000 - loss: 3.1278e-04 - val_accuracy: 0.9802 - val_loss: 0.0938\n",
      "Epoch 20/30\n",
      "1257/1257 - 1s - 817us/step - accuracy: 1.0000 - loss: 2.8976e-04 - val_accuracy: 0.9801 - val_loss: 0.0944\n",
      "Epoch 21/30\n",
      "1257/1257 - 1s - 828us/step - accuracy: 1.0000 - loss: 2.6670e-04 - val_accuracy: 0.9798 - val_loss: 0.0957\n",
      "Epoch 22/30\n",
      "1257/1257 - 1s - 815us/step - accuracy: 1.0000 - loss: 2.4886e-04 - val_accuracy: 0.9803 - val_loss: 0.0961\n",
      "Epoch 23/30\n",
      "1257/1257 - 1s - 819us/step - accuracy: 1.0000 - loss: 2.3267e-04 - val_accuracy: 0.9800 - val_loss: 0.0962\n",
      "Epoch 24/30\n",
      "1257/1257 - 1s - 814us/step - accuracy: 1.0000 - loss: 2.2165e-04 - val_accuracy: 0.9799 - val_loss: 0.0967\n",
      "Epoch 25/30\n",
      "1257/1257 - 1s - 818us/step - accuracy: 1.0000 - loss: 2.0810e-04 - val_accuracy: 0.9799 - val_loss: 0.0971\n",
      "Epoch 26/30\n",
      "1257/1257 - 1s - 812us/step - accuracy: 1.0000 - loss: 1.9718e-04 - val_accuracy: 0.9800 - val_loss: 0.0976\n",
      "Epoch 27/30\n",
      "1257/1257 - 1s - 794us/step - accuracy: 1.0000 - loss: 1.8772e-04 - val_accuracy: 0.9798 - val_loss: 0.0981\n",
      "Epoch 28/30\n",
      "1257/1257 - 1s - 810us/step - accuracy: 1.0000 - loss: 1.7830e-04 - val_accuracy: 0.9800 - val_loss: 0.0985\n",
      "Epoch 29/30\n",
      "1257/1257 - 1s - 814us/step - accuracy: 1.0000 - loss: 1.7063e-04 - val_accuracy: 0.9800 - val_loss: 0.0989\n",
      "Epoch 30/30\n",
      "1257/1257 - 1s - 811us/step - accuracy: 1.0000 - loss: 1.6368e-04 - val_accuracy: 0.9799 - val_loss: 0.0992\n",
      "Epoch 1/30\n"
     ]
    },
    {
     "name": "stderr",
     "output_type": "stream",
     "text": [
      "WARNING:absl:You are saving your model as an HDF5 file via `model.save()` or `keras.saving.save_model(model)`. This file format is considered legacy. We recommend using instead the native Keras format, e.g. `model.save('my_model.keras')` or `keras.saving.save_model(model, 'my_model.keras')`. \n"
     ]
    },
    {
     "name": "stdout",
     "output_type": "stream",
     "text": [
      "1257/1257 - 1s - 938us/step - accuracy: 0.9063 - loss: 0.3061 - val_accuracy: 0.8476 - val_loss: 0.7637\n",
      "Epoch 2/30\n",
      "1257/1257 - 1s - 845us/step - accuracy: 0.9615 - loss: 0.1289 - val_accuracy: 0.8683 - val_loss: 0.7800\n",
      "Epoch 3/30\n"
     ]
    },
    {
     "name": "stderr",
     "output_type": "stream",
     "text": [
      "WARNING:absl:You are saving your model as an HDF5 file via `model.save()` or `keras.saving.save_model(model)`. This file format is considered legacy. We recommend using instead the native Keras format, e.g. `model.save('my_model.keras')` or `keras.saving.save_model(model, 'my_model.keras')`. \n"
     ]
    },
    {
     "name": "stdout",
     "output_type": "stream",
     "text": [
      "1257/1257 - 1s - 827us/step - accuracy: 0.9716 - loss: 0.0959 - val_accuracy: 0.9575 - val_loss: 0.1495\n",
      "Epoch 4/30\n",
      "1257/1257 - 1s - 825us/step - accuracy: 0.9770 - loss: 0.0765 - val_accuracy: 0.9418 - val_loss: 0.2447\n",
      "Epoch 5/30\n",
      "1257/1257 - 1s - 818us/step - accuracy: 0.9793 - loss: 0.0663 - val_accuracy: 0.9053 - val_loss: 0.4598\n",
      "Epoch 6/30\n"
     ]
    },
    {
     "name": "stderr",
     "output_type": "stream",
     "text": [
      "WARNING:absl:You are saving your model as an HDF5 file via `model.save()` or `keras.saving.save_model(model)`. This file format is considered legacy. We recommend using instead the native Keras format, e.g. `model.save('my_model.keras')` or `keras.saving.save_model(model, 'my_model.keras')`. \n"
     ]
    },
    {
     "name": "stdout",
     "output_type": "stream",
     "text": [
      "1257/1257 - 1s - 839us/step - accuracy: 0.9827 - loss: 0.0567 - val_accuracy: 0.9695 - val_loss: 0.1300\n",
      "Epoch 7/30\n",
      "1257/1257 - 1s - 838us/step - accuracy: 0.9836 - loss: 0.0550 - val_accuracy: 0.9672 - val_loss: 0.1364\n",
      "Epoch 8/30\n",
      "1257/1257 - 1s - 821us/step - accuracy: 0.9864 - loss: 0.0457 - val_accuracy: 0.9673 - val_loss: 0.1458\n",
      "Epoch 9/30\n",
      "1257/1257 - 1s - 816us/step - accuracy: 0.9886 - loss: 0.0377 - val_accuracy: 0.9664 - val_loss: 0.1474\n",
      "Epoch 10/30\n",
      "1257/1257 - 1s - 823us/step - accuracy: 0.9881 - loss: 0.0391 - val_accuracy: 0.9572 - val_loss: 0.2225\n",
      "Epoch 11/30\n",
      "1257/1257 - 1s - 815us/step - accuracy: 0.9896 - loss: 0.0343 - val_accuracy: 0.9730 - val_loss: 0.1341\n",
      "Epoch 12/30\n",
      "1257/1257 - 1s - 801us/step - accuracy: 0.9914 - loss: 0.0278 - val_accuracy: 0.9731 - val_loss: 0.1330\n",
      "Epoch 13/30\n",
      "1257/1257 - 1s - 836us/step - accuracy: 0.9914 - loss: 0.0299 - val_accuracy: 0.9747 - val_loss: 0.1411\n",
      "Epoch 14/30\n",
      "1257/1257 - 1s - 807us/step - accuracy: 0.9896 - loss: 0.0370 - val_accuracy: 0.9673 - val_loss: 0.1690\n",
      "Epoch 15/30\n",
      "1257/1257 - 1s - 802us/step - accuracy: 0.9917 - loss: 0.0307 - val_accuracy: 0.9694 - val_loss: 0.1521\n",
      "Epoch 16/30\n",
      "1257/1257 - 1s - 807us/step - accuracy: 0.9941 - loss: 0.0219 - val_accuracy: 0.9738 - val_loss: 0.1514\n",
      "Epoch 17/30\n",
      "1257/1257 - 1s - 797us/step - accuracy: 0.9940 - loss: 0.0200 - val_accuracy: 0.9733 - val_loss: 0.1751\n",
      "Epoch 18/30\n",
      "1257/1257 - 1s - 815us/step - accuracy: 0.9909 - loss: 0.0323 - val_accuracy: 0.9720 - val_loss: 0.1679\n",
      "Epoch 19/30\n",
      "1257/1257 - 1s - 797us/step - accuracy: 0.9889 - loss: 0.0505 - val_accuracy: 0.9689 - val_loss: 0.2001\n",
      "Epoch 20/30\n",
      "1257/1257 - 1s - 790us/step - accuracy: 0.9902 - loss: 0.0382 - val_accuracy: 0.9722 - val_loss: 0.1683\n",
      "Epoch 21/30\n",
      "1257/1257 - 1s - 810us/step - accuracy: 0.9906 - loss: 0.0388 - val_accuracy: 0.9664 - val_loss: 0.2057\n",
      "Epoch 22/30\n",
      "1257/1257 - 1s - 834us/step - accuracy: 0.9943 - loss: 0.0209 - val_accuracy: 0.9372 - val_loss: 0.5866\n",
      "Epoch 23/30\n",
      "1257/1257 - 1s - 813us/step - accuracy: 0.9922 - loss: 0.0287 - val_accuracy: 0.9708 - val_loss: 0.1854\n",
      "Epoch 24/30\n",
      "1257/1257 - 1s - 805us/step - accuracy: 0.9935 - loss: 0.0249 - val_accuracy: 0.9736 - val_loss: 0.2008\n",
      "Epoch 25/30\n",
      "1257/1257 - 1s - 790us/step - accuracy: 0.9918 - loss: 0.0387 - val_accuracy: 0.9717 - val_loss: 0.1972\n",
      "Epoch 26/30\n",
      "1257/1257 - 1s - 782us/step - accuracy: 0.9928 - loss: 0.0290 - val_accuracy: 0.9731 - val_loss: 0.1849\n",
      "Epoch 27/30\n",
      "1257/1257 - 1s - 789us/step - accuracy: 0.9928 - loss: 0.0300 - val_accuracy: 0.9729 - val_loss: 0.1897\n",
      "Epoch 28/30\n",
      "1257/1257 - 1s - 813us/step - accuracy: 0.9942 - loss: 0.0225 - val_accuracy: 0.9711 - val_loss: 0.2401\n",
      "Epoch 29/30\n",
      "1257/1257 - 1s - 792us/step - accuracy: 0.9935 - loss: 0.0299 - val_accuracy: 0.9720 - val_loss: 0.2126\n",
      "Epoch 30/30\n",
      "1257/1257 - 1s - 815us/step - accuracy: 0.9932 - loss: 0.0294 - val_accuracy: 0.9014 - val_loss: 1.1871\n",
      "Epoch 1/30\n"
     ]
    },
    {
     "name": "stderr",
     "output_type": "stream",
     "text": [
      "WARNING:absl:You are saving your model as an HDF5 file via `model.save()` or `keras.saving.save_model(model)`. This file format is considered legacy. We recommend using instead the native Keras format, e.g. `model.save('my_model.keras')` or `keras.saving.save_model(model, 'my_model.keras')`. \n"
     ]
    },
    {
     "name": "stdout",
     "output_type": "stream",
     "text": [
      "1257/1257 - 1s - 963us/step - accuracy: 0.1018 - loss: 796.9032 - val_accuracy: 0.1028 - val_loss: 2.3557\n",
      "Epoch 2/30\n"
     ]
    },
    {
     "name": "stderr",
     "output_type": "stream",
     "text": [
      "WARNING:absl:You are saving your model as an HDF5 file via `model.save()` or `keras.saving.save_model(model)`. This file format is considered legacy. We recommend using instead the native Keras format, e.g. `model.save('my_model.keras')` or `keras.saving.save_model(model, 'my_model.keras')`. \n"
     ]
    },
    {
     "name": "stdout",
     "output_type": "stream",
     "text": [
      "1257/1257 - 1s - 804us/step - accuracy: 0.0999 - loss: 2.3191 - val_accuracy: 0.0980 - val_loss: 2.3243\n",
      "Epoch 3/30\n",
      "1257/1257 - 1s - 821us/step - accuracy: 0.1023 - loss: 2.3177 - val_accuracy: 0.0980 - val_loss: 2.3463\n",
      "Epoch 4/30\n"
     ]
    },
    {
     "name": "stderr",
     "output_type": "stream",
     "text": [
      "WARNING:absl:You are saving your model as an HDF5 file via `model.save()` or `keras.saving.save_model(model)`. This file format is considered legacy. We recommend using instead the native Keras format, e.g. `model.save('my_model.keras')` or `keras.saving.save_model(model, 'my_model.keras')`. \n"
     ]
    },
    {
     "name": "stdout",
     "output_type": "stream",
     "text": [
      "1257/1257 - 1s - 810us/step - accuracy: 0.1048 - loss: 2.3181 - val_accuracy: 0.0984 - val_loss: 2.3224\n",
      "Epoch 5/30\n",
      "1257/1257 - 1s - 827us/step - accuracy: 0.1030 - loss: 2.3186 - val_accuracy: 0.0983 - val_loss: 2.3302\n",
      "Epoch 6/30\n"
     ]
    },
    {
     "name": "stderr",
     "output_type": "stream",
     "text": [
      "WARNING:absl:You are saving your model as an HDF5 file via `model.save()` or `keras.saving.save_model(model)`. This file format is considered legacy. We recommend using instead the native Keras format, e.g. `model.save('my_model.keras')` or `keras.saving.save_model(model, 'my_model.keras')`. \n"
     ]
    },
    {
     "name": "stdout",
     "output_type": "stream",
     "text": [
      "1257/1257 - 1s - 831us/step - accuracy: 0.1048 - loss: 2.3176 - val_accuracy: 0.1120 - val_loss: 2.3152\n",
      "Epoch 7/30\n",
      "1257/1257 - 1s - 831us/step - accuracy: 0.1012 - loss: 2.3191 - val_accuracy: 0.1028 - val_loss: 2.3219\n",
      "Epoch 8/30\n",
      "1257/1257 - 1s - 806us/step - accuracy: 0.1026 - loss: 2.3191 - val_accuracy: 0.0969 - val_loss: 2.3567\n",
      "Epoch 9/30\n",
      "1257/1257 - 1s - 824us/step - accuracy: 0.1060 - loss: 2.3180 - val_accuracy: 0.0980 - val_loss: 2.3280\n",
      "Epoch 10/30\n",
      "1257/1257 - 1s - 824us/step - accuracy: 0.1027 - loss: 2.3188 - val_accuracy: 0.1000 - val_loss: 2.3524\n",
      "Epoch 11/30\n",
      "1257/1257 - 1s - 801us/step - accuracy: 0.0971 - loss: 2.3192 - val_accuracy: 0.1071 - val_loss: 2.3348\n",
      "Epoch 12/30\n",
      "1257/1257 - 1s - 813us/step - accuracy: 0.1020 - loss: 2.3180 - val_accuracy: 0.1120 - val_loss: 2.3600\n",
      "Epoch 13/30\n",
      "1257/1257 - 1s - 814us/step - accuracy: 0.1023 - loss: 2.3177 - val_accuracy: 0.0984 - val_loss: 2.3229\n",
      "Epoch 14/30\n",
      "1257/1257 - 1s - 811us/step - accuracy: 0.1031 - loss: 2.3186 - val_accuracy: 0.0983 - val_loss: 2.3236\n",
      "Epoch 15/30\n",
      "1257/1257 - 1s - 814us/step - accuracy: 0.1027 - loss: 2.3191 - val_accuracy: 0.0957 - val_loss: 2.3419\n",
      "Epoch 16/30\n",
      "1257/1257 - 1s - 810us/step - accuracy: 0.1042 - loss: 2.3183 - val_accuracy: 0.0980 - val_loss: 2.3492\n",
      "Epoch 17/30\n",
      "1257/1257 - 1s - 816us/step - accuracy: 0.1042 - loss: 2.3169 - val_accuracy: 0.1120 - val_loss: 2.3175\n",
      "Epoch 18/30\n",
      "1257/1257 - 1s - 809us/step - accuracy: 0.1017 - loss: 2.3191 - val_accuracy: 0.1028 - val_loss: 2.3197\n",
      "Epoch 19/30\n",
      "1257/1257 - 1s - 838us/step - accuracy: 0.1049 - loss: 2.3177 - val_accuracy: 0.0984 - val_loss: 2.3374\n",
      "Epoch 20/30\n",
      "1257/1257 - 1s - 813us/step - accuracy: 0.1022 - loss: 2.3181 - val_accuracy: 0.1028 - val_loss: 2.3219\n",
      "Epoch 21/30\n",
      "1257/1257 - 1s - 815us/step - accuracy: 0.1043 - loss: 2.3175 - val_accuracy: 0.0984 - val_loss: 2.3246\n",
      "Epoch 22/30\n",
      "1257/1257 - 1s - 805us/step - accuracy: 0.1016 - loss: 2.3189 - val_accuracy: 0.0983 - val_loss: 2.3413\n",
      "Epoch 23/30\n",
      "1257/1257 - 1s - 780us/step - accuracy: 0.1040 - loss: 2.3183 - val_accuracy: 0.0957 - val_loss: 2.3395\n",
      "Epoch 24/30\n",
      "1257/1257 - 1s - 782us/step - accuracy: 0.1004 - loss: 2.3193 - val_accuracy: 0.0983 - val_loss: 2.3534\n",
      "Epoch 25/30\n",
      "1257/1257 - 1s - 816us/step - accuracy: 0.1011 - loss: 2.3189 - val_accuracy: 0.1120 - val_loss: 2.3451\n",
      "Epoch 26/30\n",
      "1257/1257 - 1s - 810us/step - accuracy: 0.1039 - loss: 2.3185 - val_accuracy: 0.0969 - val_loss: 2.3469\n",
      "Epoch 27/30\n",
      "1257/1257 - 1s - 830us/step - accuracy: 0.1032 - loss: 2.3187 - val_accuracy: 0.0984 - val_loss: 2.3309\n",
      "Epoch 28/30\n",
      "1257/1257 - 1s - 805us/step - accuracy: 0.1033 - loss: 2.3183 - val_accuracy: 0.1120 - val_loss: 2.3314\n",
      "Epoch 29/30\n",
      "1257/1257 - 1s - 810us/step - accuracy: 0.1028 - loss: 2.3184 - val_accuracy: 0.0983 - val_loss: 2.3472\n",
      "Epoch 30/30\n",
      "1257/1257 - 1s - 812us/step - accuracy: 0.1048 - loss: 2.3175 - val_accuracy: 0.1071 - val_loss: 2.3251\n",
      "Epoch 1/30\n"
     ]
    },
    {
     "name": "stderr",
     "output_type": "stream",
     "text": [
      "WARNING:absl:You are saving your model as an HDF5 file via `model.save()` or `keras.saving.save_model(model)`. This file format is considered legacy. We recommend using instead the native Keras format, e.g. `model.save('my_model.keras')` or `keras.saving.save_model(model, 'my_model.keras')`. \n"
     ]
    },
    {
     "name": "stdout",
     "output_type": "stream",
     "text": [
      "1257/1257 - 1s - 952us/step - accuracy: 0.1011 - loss: 217185.8594 - val_accuracy: 0.0983 - val_loss: 2.5615\n",
      "Epoch 2/30\n",
      "1257/1257 - 1s - 844us/step - accuracy: 0.1040 - loss: 2.3953 - val_accuracy: 0.0984 - val_loss: 2.5930\n",
      "Epoch 3/30\n",
      "1257/1257 - 1s - 830us/step - accuracy: 0.1024 - loss: 2.3983 - val_accuracy: 0.1000 - val_loss: 2.7558\n",
      "Epoch 4/30\n"
     ]
    },
    {
     "name": "stderr",
     "output_type": "stream",
     "text": [
      "WARNING:absl:You are saving your model as an HDF5 file via `model.save()` or `keras.saving.save_model(model)`. This file format is considered legacy. We recommend using instead the native Keras format, e.g. `model.save('my_model.keras')` or `keras.saving.save_model(model, 'my_model.keras')`. \n"
     ]
    },
    {
     "name": "stdout",
     "output_type": "stream",
     "text": [
      "1257/1257 - 1s - 797us/step - accuracy: 0.1033 - loss: 2.3992 - val_accuracy: 0.1000 - val_loss: 2.5547\n",
      "Epoch 5/30\n",
      "1257/1257 - 1s - 834us/step - accuracy: 0.1018 - loss: 2.3983 - val_accuracy: 0.0957 - val_loss: 2.7937\n",
      "Epoch 6/30\n",
      "1257/1257 - 1s - 815us/step - accuracy: 0.1008 - loss: 2.3965 - val_accuracy: 0.0909 - val_loss: 2.6599\n",
      "Epoch 7/30\n",
      "1257/1257 - 1s - 793us/step - accuracy: 0.1026 - loss: 2.3991 - val_accuracy: 0.0980 - val_loss: 2.8962\n",
      "Epoch 8/30\n",
      "1257/1257 - 1s - 810us/step - accuracy: 0.0985 - loss: 2.4011 - val_accuracy: 0.1000 - val_loss: 2.5748\n",
      "Epoch 9/30\n",
      "1257/1257 - 1s - 785us/step - accuracy: 0.1006 - loss: 2.3980 - val_accuracy: 0.1071 - val_loss: 2.5954\n",
      "Epoch 10/30\n"
     ]
    },
    {
     "name": "stderr",
     "output_type": "stream",
     "text": [
      "WARNING:absl:You are saving your model as an HDF5 file via `model.save()` or `keras.saving.save_model(model)`. This file format is considered legacy. We recommend using instead the native Keras format, e.g. `model.save('my_model.keras')` or `keras.saving.save_model(model, 'my_model.keras')`. \n"
     ]
    },
    {
     "name": "stdout",
     "output_type": "stream",
     "text": [
      "1257/1257 - 1s - 816us/step - accuracy: 0.1028 - loss: 2.3967 - val_accuracy: 0.0980 - val_loss: 2.4956\n",
      "Epoch 11/30\n",
      "1257/1257 - 1s - 826us/step - accuracy: 0.1020 - loss: 2.3944 - val_accuracy: 0.0980 - val_loss: 2.5845\n",
      "Epoch 12/30\n"
     ]
    },
    {
     "name": "stderr",
     "output_type": "stream",
     "text": [
      "WARNING:absl:You are saving your model as an HDF5 file via `model.save()` or `keras.saving.save_model(model)`. This file format is considered legacy. We recommend using instead the native Keras format, e.g. `model.save('my_model.keras')` or `keras.saving.save_model(model, 'my_model.keras')`. \n"
     ]
    },
    {
     "name": "stdout",
     "output_type": "stream",
     "text": [
      "1257/1257 - 1s - 808us/step - accuracy: 0.0991 - loss: 2.3986 - val_accuracy: 0.0980 - val_loss: 2.4936\n",
      "Epoch 13/30\n",
      "1257/1257 - 1s - 823us/step - accuracy: 0.1005 - loss: 2.4005 - val_accuracy: 0.1071 - val_loss: 2.9474\n",
      "Epoch 14/30\n",
      "1257/1257 - 1s - 789us/step - accuracy: 0.1004 - loss: 2.4003 - val_accuracy: 0.0983 - val_loss: 2.7208\n",
      "Epoch 15/30\n",
      "1257/1257 - 1s - 815us/step - accuracy: 0.0985 - loss: 2.4022 - val_accuracy: 0.1028 - val_loss: 2.5925\n",
      "Epoch 16/30\n",
      "1257/1257 - 1s - 857us/step - accuracy: 0.0999 - loss: 2.4003 - val_accuracy: 0.1000 - val_loss: 2.5450\n",
      "Epoch 17/30\n"
     ]
    },
    {
     "name": "stderr",
     "output_type": "stream",
     "text": [
      "WARNING:absl:You are saving your model as an HDF5 file via `model.save()` or `keras.saving.save_model(model)`. This file format is considered legacy. We recommend using instead the native Keras format, e.g. `model.save('my_model.keras')` or `keras.saving.save_model(model, 'my_model.keras')`. \n"
     ]
    },
    {
     "name": "stdout",
     "output_type": "stream",
     "text": [
      "1257/1257 - 1s - 811us/step - accuracy: 0.1028 - loss: 2.3942 - val_accuracy: 0.0957 - val_loss: 2.4374\n",
      "Epoch 18/30\n",
      "1257/1257 - 1s - 823us/step - accuracy: 0.1010 - loss: 2.4008 - val_accuracy: 0.1071 - val_loss: 2.8823\n",
      "Epoch 19/30\n",
      "1257/1257 - 1s - 811us/step - accuracy: 0.0998 - loss: 2.3979 - val_accuracy: 0.1028 - val_loss: 2.7644\n",
      "Epoch 20/30\n",
      "1257/1257 - 1s - 816us/step - accuracy: 0.1000 - loss: 2.3990 - val_accuracy: 0.0980 - val_loss: 2.4507\n",
      "Epoch 21/30\n"
     ]
    },
    {
     "name": "stderr",
     "output_type": "stream",
     "text": [
      "WARNING:absl:You are saving your model as an HDF5 file via `model.save()` or `keras.saving.save_model(model)`. This file format is considered legacy. We recommend using instead the native Keras format, e.g. `model.save('my_model.keras')` or `keras.saving.save_model(model, 'my_model.keras')`. \n"
     ]
    },
    {
     "name": "stdout",
     "output_type": "stream",
     "text": [
      "1257/1257 - 1s - 815us/step - accuracy: 0.1012 - loss: 2.4018 - val_accuracy: 0.0909 - val_loss: 2.3858\n",
      "Epoch 22/30\n",
      "1257/1257 - 1s - 848us/step - accuracy: 0.1036 - loss: 2.3967 - val_accuracy: 0.1000 - val_loss: 2.5985\n",
      "Epoch 23/30\n",
      "1257/1257 - 1s - 815us/step - accuracy: 0.1010 - loss: 2.4017 - val_accuracy: 0.1071 - val_loss: 2.6706\n",
      "Epoch 24/30\n",
      "1257/1257 - 1s - 809us/step - accuracy: 0.1045 - loss: 2.3950 - val_accuracy: 0.1028 - val_loss: 3.0791\n",
      "Epoch 25/30\n",
      "1257/1257 - 1s - 799us/step - accuracy: 0.1041 - loss: 2.3969 - val_accuracy: 0.0957 - val_loss: 2.9332\n",
      "Epoch 26/30\n",
      "1257/1257 - 1s - 816us/step - accuracy: 0.1023 - loss: 2.3964 - val_accuracy: 0.0909 - val_loss: 2.6731\n",
      "Epoch 27/30\n",
      "1257/1257 - 1s - 819us/step - accuracy: 0.1018 - loss: 2.3990 - val_accuracy: 0.1071 - val_loss: 2.5267\n",
      "Epoch 28/30\n",
      "1257/1257 - 1s - 802us/step - accuracy: 0.0997 - loss: 2.3986 - val_accuracy: 0.1120 - val_loss: 2.5527\n",
      "Epoch 29/30\n",
      "1257/1257 - 1s - 837us/step - accuracy: 0.1034 - loss: 2.3967 - val_accuracy: 0.0984 - val_loss: 2.8127\n",
      "Epoch 30/30\n",
      "1257/1257 - 1s - 811us/step - accuracy: 0.1032 - loss: 2.3972 - val_accuracy: 0.0957 - val_loss: 2.9702\n",
      "Epoch 1/30\n"
     ]
    },
    {
     "name": "stderr",
     "output_type": "stream",
     "text": [
      "WARNING:absl:You are saving your model as an HDF5 file via `model.save()` or `keras.saving.save_model(model)`. This file format is considered legacy. We recommend using instead the native Keras format, e.g. `model.save('my_model.keras')` or `keras.saving.save_model(model, 'my_model.keras')`. \n"
     ]
    },
    {
     "name": "stdout",
     "output_type": "stream",
     "text": [
      "1257/1257 - 1s - 944us/step - accuracy: 0.1020 - loss: 12209861855978700188680192.0000 - val_accuracy: 0.1028 - val_loss: 7.2779\n",
      "Epoch 2/30\n",
      "1257/1257 - 1s - 819us/step - accuracy: 0.0992 - loss: 7.1673 - val_accuracy: 0.0980 - val_loss: 9.6306\n",
      "Epoch 3/30\n"
     ]
    },
    {
     "name": "stderr",
     "output_type": "stream",
     "text": [
      "WARNING:absl:You are saving your model as an HDF5 file via `model.save()` or `keras.saving.save_model(model)`. This file format is considered legacy. We recommend using instead the native Keras format, e.g. `model.save('my_model.keras')` or `keras.saving.save_model(model, 'my_model.keras')`. \n"
     ]
    },
    {
     "name": "stdout",
     "output_type": "stream",
     "text": [
      "1257/1257 - 1s - 831us/step - accuracy: 0.1011 - loss: 7.0454 - val_accuracy: 0.1000 - val_loss: 7.2540\n",
      "Epoch 4/30\n"
     ]
    },
    {
     "name": "stderr",
     "output_type": "stream",
     "text": [
      "WARNING:absl:You are saving your model as an HDF5 file via `model.save()` or `keras.saving.save_model(model)`. This file format is considered legacy. We recommend using instead the native Keras format, e.g. `model.save('my_model.keras')` or `keras.saving.save_model(model, 'my_model.keras')`. \n"
     ]
    },
    {
     "name": "stdout",
     "output_type": "stream",
     "text": [
      "1257/1257 - 1s - 835us/step - accuracy: 0.1033 - loss: 7.1580 - val_accuracy: 0.1028 - val_loss: 5.9135\n",
      "Epoch 5/30\n",
      "1257/1257 - 1s - 826us/step - accuracy: 0.1000 - loss: 7.0634 - val_accuracy: 0.0969 - val_loss: 6.5360\n",
      "Epoch 6/30\n"
     ]
    },
    {
     "name": "stderr",
     "output_type": "stream",
     "text": [
      "WARNING:absl:You are saving your model as an HDF5 file via `model.save()` or `keras.saving.save_model(model)`. This file format is considered legacy. We recommend using instead the native Keras format, e.g. `model.save('my_model.keras')` or `keras.saving.save_model(model, 'my_model.keras')`. \n"
     ]
    },
    {
     "name": "stdout",
     "output_type": "stream",
     "text": [
      "1257/1257 - 1s - 822us/step - accuracy: 0.1009 - loss: 7.2345 - val_accuracy: 0.0984 - val_loss: 5.1798\n",
      "Epoch 7/30\n",
      "1257/1257 - 1s - 829us/step - accuracy: 0.0984 - loss: 7.2652 - val_accuracy: 0.0980 - val_loss: 14.8355\n",
      "Epoch 8/30\n",
      "1257/1257 - 1s - 816us/step - accuracy: 0.1021 - loss: 6.8991 - val_accuracy: 0.0980 - val_loss: 10.2615\n",
      "Epoch 9/30\n",
      "1257/1257 - 1s - 831us/step - accuracy: 0.0987 - loss: 7.1396 - val_accuracy: 0.0984 - val_loss: 14.7512\n",
      "Epoch 10/30\n",
      "1257/1257 - 1s - 815us/step - accuracy: 0.0995 - loss: 7.0723 - val_accuracy: 0.0983 - val_loss: 11.0125\n",
      "Epoch 11/30\n",
      "1257/1257 - 1s - 806us/step - accuracy: 0.1027 - loss: 7.0754 - val_accuracy: 0.0957 - val_loss: 8.2910\n",
      "Epoch 12/30\n",
      "1257/1257 - 1s - 817us/step - accuracy: 0.0978 - loss: 7.1088 - val_accuracy: 0.0957 - val_loss: 10.1803\n",
      "Epoch 13/30\n",
      "1257/1257 - 1s - 818us/step - accuracy: 0.1029 - loss: 6.8982 - val_accuracy: 0.1000 - val_loss: 7.8273\n",
      "Epoch 14/30\n",
      "1257/1257 - 1s - 809us/step - accuracy: 0.1028 - loss: 7.0645 - val_accuracy: 0.1000 - val_loss: 9.4868\n",
      "Epoch 15/30\n",
      "1257/1257 - 1s - 834us/step - accuracy: 0.0998 - loss: 7.0917 - val_accuracy: 0.0980 - val_loss: 8.7988\n",
      "Epoch 16/30\n",
      "1257/1257 - 1s - 814us/step - accuracy: 0.0998 - loss: 7.0329 - val_accuracy: 0.1120 - val_loss: 7.6836\n",
      "Epoch 17/30\n"
     ]
    },
    {
     "name": "stderr",
     "output_type": "stream",
     "text": [
      "WARNING:absl:You are saving your model as an HDF5 file via `model.save()` or `keras.saving.save_model(model)`. This file format is considered legacy. We recommend using instead the native Keras format, e.g. `model.save('my_model.keras')` or `keras.saving.save_model(model, 'my_model.keras')`. \n"
     ]
    },
    {
     "name": "stdout",
     "output_type": "stream",
     "text": [
      "1257/1257 - 1s - 821us/step - accuracy: 0.1008 - loss: 7.0855 - val_accuracy: 0.0980 - val_loss: 5.0086\n",
      "Epoch 18/30\n",
      "1257/1257 - 1s - 813us/step - accuracy: 0.1035 - loss: 7.1413 - val_accuracy: 0.0969 - val_loss: 10.3418\n",
      "Epoch 19/30\n"
     ]
    },
    {
     "name": "stderr",
     "output_type": "stream",
     "text": [
      "WARNING:absl:You are saving your model as an HDF5 file via `model.save()` or `keras.saving.save_model(model)`. This file format is considered legacy. We recommend using instead the native Keras format, e.g. `model.save('my_model.keras')` or `keras.saving.save_model(model, 'my_model.keras')`. \n"
     ]
    },
    {
     "name": "stdout",
     "output_type": "stream",
     "text": [
      "1257/1257 - 1s - 819us/step - accuracy: 0.1002 - loss: 7.1088 - val_accuracy: 0.1071 - val_loss: 3.8346\n",
      "Epoch 20/30\n",
      "1257/1257 - 1s - 792us/step - accuracy: 0.1021 - loss: 7.0474 - val_accuracy: 0.0984 - val_loss: 8.3641\n",
      "Epoch 21/30\n",
      "1257/1257 - 1s - 807us/step - accuracy: 0.1030 - loss: 6.9538 - val_accuracy: 0.0983 - val_loss: 8.0132\n",
      "Epoch 22/30\n",
      "1257/1257 - 1s - 824us/step - accuracy: 0.1003 - loss: 7.0117 - val_accuracy: 0.0909 - val_loss: 8.5255\n",
      "Epoch 23/30\n",
      "1257/1257 - 1s - 804us/step - accuracy: 0.1011 - loss: 6.8750 - val_accuracy: 0.0983 - val_loss: 15.2325\n",
      "Epoch 24/30\n",
      "1257/1257 - 1s - 821us/step - accuracy: 0.1010 - loss: 6.9328 - val_accuracy: 0.1000 - val_loss: 10.6784\n",
      "Epoch 25/30\n",
      "1257/1257 - 1s - 803us/step - accuracy: 0.0995 - loss: 6.8945 - val_accuracy: 0.0909 - val_loss: 10.9462\n",
      "Epoch 26/30\n",
      "1257/1257 - 1s - 810us/step - accuracy: 0.1000 - loss: 7.0746 - val_accuracy: 0.0984 - val_loss: 8.8575\n",
      "Epoch 27/30\n",
      "1257/1257 - 1s - 791us/step - accuracy: 0.1007 - loss: 7.1330 - val_accuracy: 0.0957 - val_loss: 11.4521\n",
      "Epoch 28/30\n",
      "1257/1257 - 1s - 800us/step - accuracy: 0.0969 - loss: 7.2198 - val_accuracy: 0.0984 - val_loss: 4.4658\n",
      "Epoch 29/30\n",
      "1257/1257 - 1s - 807us/step - accuracy: 0.1011 - loss: 6.9604 - val_accuracy: 0.0983 - val_loss: 9.6394\n",
      "Epoch 30/30\n",
      "1257/1257 - 1s - 843us/step - accuracy: 0.1004 - loss: 7.3285 - val_accuracy: 0.0957 - val_loss: 8.1924\n",
      "Epoch 1/30\n"
     ]
    },
    {
     "name": "stderr",
     "output_type": "stream",
     "text": [
      "WARNING:absl:You are saving your model as an HDF5 file via `model.save()` or `keras.saving.save_model(model)`. This file format is considered legacy. We recommend using instead the native Keras format, e.g. `model.save('my_model.keras')` or `keras.saving.save_model(model, 'my_model.keras')`. \n"
     ]
    },
    {
     "name": "stdout",
     "output_type": "stream",
     "text": [
      "1257/1257 - 1s - 969us/step - accuracy: 0.1022 - loss: 650262857878259892224.0000 - val_accuracy: 0.0969 - val_loss: 54.6555\n",
      "Epoch 2/30\n"
     ]
    },
    {
     "name": "stderr",
     "output_type": "stream",
     "text": [
      "WARNING:absl:You are saving your model as an HDF5 file via `model.save()` or `keras.saving.save_model(model)`. This file format is considered legacy. We recommend using instead the native Keras format, e.g. `model.save('my_model.keras')` or `keras.saving.save_model(model, 'my_model.keras')`. \n"
     ]
    },
    {
     "name": "stdout",
     "output_type": "stream",
     "text": [
      "1257/1257 - 1s - 841us/step - accuracy: 0.0992 - loss: 42.4884 - val_accuracy: 0.1000 - val_loss: 36.4648\n",
      "Epoch 3/30\n",
      "1257/1257 - 1s - 837us/step - accuracy: 0.0991 - loss: 42.7611 - val_accuracy: 0.0984 - val_loss: 50.1708\n",
      "Epoch 4/30\n",
      "1257/1257 - 1s - 898us/step - accuracy: 0.0979 - loss: 42.5327 - val_accuracy: 0.1120 - val_loss: 49.7570\n",
      "Epoch 5/30\n",
      "1257/1257 - 1s - 869us/step - accuracy: 0.1026 - loss: 42.5424 - val_accuracy: 0.0969 - val_loss: 64.2083\n",
      "Epoch 6/30\n",
      "1257/1257 - 1s - 862us/step - accuracy: 0.0994 - loss: 42.4977 - val_accuracy: 0.0980 - val_loss: 57.4413\n",
      "Epoch 7/30\n",
      "1257/1257 - 1s - 850us/step - accuracy: 0.0987 - loss: 42.4906 - val_accuracy: 0.0909 - val_loss: 53.0044\n",
      "Epoch 8/30\n"
     ]
    },
    {
     "name": "stderr",
     "output_type": "stream",
     "text": [
      "WARNING:absl:You are saving your model as an HDF5 file via `model.save()` or `keras.saving.save_model(model)`. This file format is considered legacy. We recommend using instead the native Keras format, e.g. `model.save('my_model.keras')` or `keras.saving.save_model(model, 'my_model.keras')`. \n"
     ]
    },
    {
     "name": "stdout",
     "output_type": "stream",
     "text": [
      "1257/1257 - 1s - 800us/step - accuracy: 0.1011 - loss: 42.2129 - val_accuracy: 0.1000 - val_loss: 32.5044\n",
      "Epoch 9/30\n",
      "1257/1257 - 1s - 836us/step - accuracy: 0.1006 - loss: 42.4107 - val_accuracy: 0.0909 - val_loss: 34.8606\n",
      "Epoch 10/30\n",
      "1257/1257 - 1s - 838us/step - accuracy: 0.0996 - loss: 42.7112 - val_accuracy: 0.1028 - val_loss: 59.6344\n",
      "Epoch 11/30\n"
     ]
    },
    {
     "name": "stderr",
     "output_type": "stream",
     "text": [
      "WARNING:absl:You are saving your model as an HDF5 file via `model.save()` or `keras.saving.save_model(model)`. This file format is considered legacy. We recommend using instead the native Keras format, e.g. `model.save('my_model.keras')` or `keras.saving.save_model(model, 'my_model.keras')`. \n"
     ]
    },
    {
     "name": "stdout",
     "output_type": "stream",
     "text": [
      "1257/1257 - 1s - 818us/step - accuracy: 0.1035 - loss: 42.1655 - val_accuracy: 0.0909 - val_loss: 31.3839\n",
      "Epoch 12/30\n",
      "1257/1257 - 1s - 813us/step - accuracy: 0.0988 - loss: 42.3642 - val_accuracy: 0.1028 - val_loss: 42.0705\n",
      "Epoch 13/30\n",
      "1257/1257 - 1s - 808us/step - accuracy: 0.0988 - loss: 42.3907 - val_accuracy: 0.0984 - val_loss: 42.9366\n",
      "Epoch 14/30\n",
      "1257/1257 - 1s - 831us/step - accuracy: 0.1000 - loss: 42.1943 - val_accuracy: 0.1120 - val_loss: 54.0599\n",
      "Epoch 15/30\n",
      "1257/1257 - 1s - 834us/step - accuracy: 0.0999 - loss: 42.2129 - val_accuracy: 0.1071 - val_loss: 44.3724\n",
      "Epoch 16/30\n",
      "1257/1257 - 1s - 794us/step - accuracy: 0.1028 - loss: 41.6296 - val_accuracy: 0.1028 - val_loss: 50.0970\n",
      "Epoch 17/30\n",
      "1257/1257 - 1s - 799us/step - accuracy: 0.1017 - loss: 42.1186 - val_accuracy: 0.1028 - val_loss: 44.6279\n",
      "Epoch 18/30\n",
      "1257/1257 - 1s - 847us/step - accuracy: 0.0967 - loss: 42.5605 - val_accuracy: 0.0969 - val_loss: 55.3120\n",
      "Epoch 19/30\n",
      "1257/1257 - 1s - 815us/step - accuracy: 0.0995 - loss: 42.3011 - val_accuracy: 0.1028 - val_loss: 52.8403\n",
      "Epoch 20/30\n",
      "1257/1257 - 1s - 803us/step - accuracy: 0.0991 - loss: 42.0674 - val_accuracy: 0.0980 - val_loss: 40.3536\n",
      "Epoch 21/30\n",
      "1257/1257 - 1s - 799us/step - accuracy: 0.1010 - loss: 42.5130 - val_accuracy: 0.1120 - val_loss: 45.3174\n",
      "Epoch 22/30\n",
      "1257/1257 - 1s - 842us/step - accuracy: 0.1021 - loss: 42.4664 - val_accuracy: 0.1028 - val_loss: 50.1671\n",
      "Epoch 23/30\n",
      "1257/1257 - 1s - 800us/step - accuracy: 0.1008 - loss: 42.3342 - val_accuracy: 0.0909 - val_loss: 61.3945\n",
      "Epoch 24/30\n",
      "1257/1257 - 1s - 807us/step - accuracy: 0.1010 - loss: 41.6949 - val_accuracy: 0.0969 - val_loss: 47.8206\n",
      "Epoch 25/30\n",
      "1257/1257 - 1s - 809us/step - accuracy: 0.1005 - loss: 42.5395 - val_accuracy: 0.1120 - val_loss: 49.5245\n",
      "Epoch 26/30\n",
      "1257/1257 - 1s - 823us/step - accuracy: 0.1022 - loss: 42.0990 - val_accuracy: 0.0984 - val_loss: 73.7022\n",
      "Epoch 27/30\n",
      "1257/1257 - 1s - 815us/step - accuracy: 0.0981 - loss: 42.3609 - val_accuracy: 0.0909 - val_loss: 34.8172\n",
      "Epoch 28/30\n",
      "1257/1257 - 1s - 806us/step - accuracy: 0.0988 - loss: 42.6120 - val_accuracy: 0.1000 - val_loss: 66.3385\n",
      "Epoch 29/30\n",
      "1257/1257 - 1s - 827us/step - accuracy: 0.1022 - loss: 42.2395 - val_accuracy: 0.1028 - val_loss: 37.3299\n",
      "Epoch 30/30\n",
      "1257/1257 - 1s - 821us/step - accuracy: 0.1001 - loss: 42.5399 - val_accuracy: 0.0909 - val_loss: 58.6942\n"
     ]
    }
   ],
   "source": [
    "from scipy.stats import reciprocal\n",
    "\n",
    "sk_train = X_train.reshape((X_train.shape[0],X_train.shape[1]*X_train.shape[2]))\n",
    "sk_val = X_val.reshape((X_val.shape[0],X_val.shape[1]*X_val.shape[2]))\n",
    "\n",
    "learning_rates = np.logspace(-3, 2, 10)\n",
    "tensorboard_cb = keras.callbacks.TensorBoard(run_logdir)\n",
    "histories = {}\n",
    "\n",
    "for rate in learning_rates:\n",
    "    checkpoint_cb = keras.callbacks.ModelCheckpoint(f\"my_keras_model_{rate}.keras\", save_best_only=True)\n",
    "    dummy_model = build_model(X_train, y_train, [300, 100], learning_rate=rate)\n",
    "    histories[rate] = dummy_model.fit(sk_train, y_train, epochs=30, validation_data=(sk_val, y_val), callbacks=[tensorboard_cb, checkpoint_cb])\n",
    "    \n",
    "\n",
    "# model = keras.wrappers.SKLearnClassifier(model=build_model, model_kwargs={\n",
    "#     \"n_neurons\": [300, 100],\n",
    "#     \"learning_rate\": 3e-4\n",
    "# })\n",
    "\n",
    "\n",
    "# print(sk_train.shape)\n",
    "# model.fit(sk_train, y_train, epochs=30, validation_data=(sk_val, y_val))"
   ]
  },
  {
   "cell_type": "code",
   "execution_count": null,
   "metadata": {},
   "outputs": [
    {
     "name": "stdout",
     "output_type": "stream",
     "text": [
      "{np.float64(0.001): <keras.src.callbacks.history.History object at 0x309e58c50>, np.float64(0.003593813663804626): <keras.src.callbacks.history.History object at 0x16915a7d0>, np.float64(0.01291549665014884): <keras.src.callbacks.history.History object at 0x16d7a8c50>, np.float64(0.046415888336127795): <keras.src.callbacks.history.History object at 0x321d80c50>, np.float64(0.1668100537200059): <keras.src.callbacks.history.History object at 0x30d4527d0>, np.float64(0.5994842503189409): <keras.src.callbacks.history.History object at 0x3262827d0>, np.float64(2.1544346900318843): <keras.src.callbacks.history.History object at 0x374028c50>, np.float64(7.742636826811277): <keras.src.callbacks.history.History object at 0x37edaa190>, np.float64(27.825594022071257): <keras.src.callbacks.history.History object at 0x37eda8c50>, np.float64(100.0): <keras.src.callbacks.history.History object at 0x3d0307190>}\n",
      "Plotting at 0, 0\n",
      "Plotting at 1, 1\n",
      "Plotting at 2, 0\n",
      "Plotting at 3, 1\n",
      "Plotting at 4, 0\n",
      "Plotting at 0, 1\n",
      "Plotting at 1, 0\n",
      "Plotting at 2, 1\n",
      "Plotting at 3, 0\n",
      "Plotting at 4, 1\n"
     ]
    },
    {
     "name": "stderr",
     "output_type": "stream",
     "text": [
      "/var/folders/kl/dl33j9fj3y3c6lpxjq790zp00000gn/T/ipykernel_58980/3523956068.py:12: UserWarning: FigureCanvasAgg is non-interactive, and thus cannot be shown\n",
      "  fig.show()\n"
     ]
    },
    {
     "data": {
      "image/png": "[encoded data removed]",
      "text/plain": [
       "<Figure size 640x480 with 10 Axes>"
      ]
     },
     "metadata": {},
     "output_type": "display_data"
    }
   ],
   "source": [
    "print(histories)\n",
    "\n",
    "fig, axs = plt.subplots(5,2)\n",
    "plt.grid(True)\n",
    "for i, h in enumerate(list(histories.values())):\n",
    "    print(f\"Plotting at {i%5}, {i%2}\")\n",
    "    axs[i%5,i%2].plot(h.history['accuracy'])\n",
    "    axs[i%5,i%2].plot(h.history['loss'])\n",
    "    axs[i%5,i%2].set_ylim(0,1)\n",
    "    # pd.DataFrame(history.history).plot(axs)\n",
    "\n",
    "fig.show()"
   ]
  },
  {
   "cell_type": "code",
   "execution_count": null,
   "metadata": {},
   "outputs": [],
   "source": [
    "import numpy as np\n",
    "from sklearn.datasets import load_iris\n",
    "from sklearn.linear_model import Perceptron"
   ]
  },
  {
   "cell_type": "code",
   "execution_count": 9,
   "metadata": {},
   "outputs": [
    {
     "data": {
      "text/plain": [
       "array([1, 1, 1, 1, 1, 1, 1, 1, 1, 1, 1, 1, 1, 1, 1, 1, 1, 1, 1, 1, 1, 1,\n",
       "       1, 1, 1, 1, 1, 1, 1, 1, 1, 1, 1, 1, 1, 1, 1, 1, 1, 1, 1, 1, 1, 1,\n",
       "       1, 1, 1, 1, 1, 1, 0, 0, 0, 0, 0, 0, 0, 0, 0, 0, 0, 0, 0, 0, 0, 0,\n",
       "       0, 0, 0, 0, 0, 0, 0, 0, 0, 0, 0, 0, 0, 0, 0, 0, 0, 0, 0, 0, 0, 0,\n",
       "       0, 0, 0, 0, 0, 0, 0, 0, 0, 0, 0, 0, 0, 0, 0, 0, 0, 0, 0, 0, 0, 0,\n",
       "       0, 0, 0, 0, 0, 0, 0, 0, 0, 0, 0, 0, 0, 0, 0, 0, 0, 0, 0, 0, 0, 0,\n",
       "       0, 0, 0, 0, 0, 0, 0, 0, 0, 0, 0, 0, 0, 0, 0, 0, 0, 0])"
      ]
     },
     "execution_count": 9,
     "metadata": {},
     "output_type": "execute_result"
    }
   ],
   "source": [
    "iris = load_iris()\n",
    "X = iris.data[:, (2,3)] # petal length and width\n",
    "y = (iris.target == 0).astype(int)\n",
    "y"
   ]
  },
  {
   "cell_type": "code",
   "execution_count": 11,
   "metadata": {},
   "outputs": [
    {
     "data": {
      "text/plain": [
       "array([0])"
      ]
     },
     "execution_count": 11,
     "metadata": {},
     "output_type": "execute_result"
    }
   ],
   "source": [
    "per_clf = Perceptron()\n",
    "per_clf.fit(X, y)\n",
    "y_pred = per_clf.predict([[2, 0.5]])\n",
    "y_pred"
   ]
  },
  {
   "attachments": {},
   "cell_type": "markdown",
   "metadata": {},
   "source": [
    "## Multilayer Perceptron\n",
    "\n",
    "![Linear model diagram](https://media.datacamp.com/legacy/v1725638284/image_bd3b978959.png)\n",
    "\n",
    "The input layer uses __passthrough__ TLUs,\n",
    "There can be multiple middle (or __hidden__) layers. Each layer also has a single bias neuron and all neurons in a layer are connected to all neurons in the next layer.\n",
    "The final __output__ layer provides the final result.\n",
    "\n",
    "### Backpropagation\n",
    "\n",
    "Training algorithm.\n",
    "1. Makes a prediction for each training instance in a small batch.\n",
    "2. Calculates error.\n",
    "3. Goes back through each layer in reverse order to measure contribution of each connection to the error.\n",
    "4. Then applies **gradient descent** to tweak the connection weights.\n",
    "\n",
    "### Activation functions\n",
    "\n",
    "Backpropagation does not work with the step function because of how gradient descent works (TODO: Understand this)\n",
    "\n",
    "Logistic function was the first alternative used:\n",
    "$$\n",
    "\\sigma(z) = \\frac{1}{1 + e^{-z}}\n",
    "$$\n",
    "The derivative is not 0 at any point --> gradient descent can always work.\n",
    "Ranges from 0 to 1.\n",
    "\n",
    "Hyperbolic tangent:\n",
    "Ranges from -1 to 1 and is also continuous and differentiable.\n",
    "Centered around 0 can help speed up convergence (TODO: WHY???)\n",
    "$$\n",
    "\\tanh(z) = 2\\sigma(2z) - 1\n",
    "$$\n",
    "\n",
    "Rectified Linear Unit function:\n",
    "Not differentiable at 0 and gradient 0 at < 0, but very fast.\n",
    "$$\n",
    "R(z) = max(0, z)\n",
    "$$\n"
   ]
  },
  {
   "cell_type": "code",
   "execution_count": null,
   "metadata": {},
   "outputs": [],
   "source": []
  }
 ],
 "metadata": {
  "kernelspec": {
   "display_name": ".venv",
   "language": "python",
   "name": "python3"
  },
  "language_info": {
   "codemirror_mode": {
    "name": "ipython",
    "version": 3
   },
   "file_extension": ".py",
   "mimetype": "text/x-python",
   "name": "python",
   "nbconvert_exporter": "python",
   "pygments_lexer": "ipython3",
   "version": "3.11.2"
  },
  "orig_nbformat": 4
 },
 "nbformat": 4,
 "nbformat_minor": 2
}
