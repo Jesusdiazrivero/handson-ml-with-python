{
 "cells": [
  {
   "attachments": {},
   "cell_type": "markdown",
   "metadata": {},
   "source": [
    "# Perceptron\n",
    "\n",
    "A Perceptron is composed of a single layer of **TLUs** (threshold logic unit)\n",
    "\n",
    "## TLU\n",
    "\n",
    "A TLU is a type of artificial neuron defined by\n",
    "$$\n",
    "z = x^T w\n",
    "$$\n",
    "In other words, the output is the sum of the inputs multiplied by their weights (determined via training).\n",
    "A step function is then applied to the output."
   ]
  },
  {
   "cell_type": "code",
   "execution_count": null,
   "metadata": {},
   "outputs": [],
   "source": [
    "import numpy as np\n",
    "from sklearn.datasets import load_iris\n",
    "from sklearn.linear_model import Perceptron"
   ]
  },
  {
   "cell_type": "code",
   "execution_count": 9,
   "metadata": {},
   "outputs": [
    {
     "data": {
      "text/plain": [
       "array([1, 1, 1, 1, 1, 1, 1, 1, 1, 1, 1, 1, 1, 1, 1, 1, 1, 1, 1, 1, 1, 1,\n",
       "       1, 1, 1, 1, 1, 1, 1, 1, 1, 1, 1, 1, 1, 1, 1, 1, 1, 1, 1, 1, 1, 1,\n",
       "       1, 1, 1, 1, 1, 1, 0, 0, 0, 0, 0, 0, 0, 0, 0, 0, 0, 0, 0, 0, 0, 0,\n",
       "       0, 0, 0, 0, 0, 0, 0, 0, 0, 0, 0, 0, 0, 0, 0, 0, 0, 0, 0, 0, 0, 0,\n",
       "       0, 0, 0, 0, 0, 0, 0, 0, 0, 0, 0, 0, 0, 0, 0, 0, 0, 0, 0, 0, 0, 0,\n",
       "       0, 0, 0, 0, 0, 0, 0, 0, 0, 0, 0, 0, 0, 0, 0, 0, 0, 0, 0, 0, 0, 0,\n",
       "       0, 0, 0, 0, 0, 0, 0, 0, 0, 0, 0, 0, 0, 0, 0, 0, 0, 0])"
      ]
     },
     "execution_count": 9,
     "metadata": {},
     "output_type": "execute_result"
    }
   ],
   "source": [
    "iris = load_iris()\n",
    "X = iris.data[:, (2,3)] # petal length and width\n",
    "y = (iris.target == 0).astype(int)\n",
    "y"
   ]
  },
  {
   "cell_type": "code",
   "execution_count": 11,
   "metadata": {},
   "outputs": [
    {
     "data": {
      "text/plain": [
       "array([0])"
      ]
     },
     "execution_count": 11,
     "metadata": {},
     "output_type": "execute_result"
    }
   ],
   "source": [
    "per_clf = Perceptron()\n",
    "per_clf.fit(X, y)\n",
    "y_pred = per_clf.predict([[2, 0.5]])\n",
    "y_pred"
   ]
  },
  {
   "attachments": {},
   "cell_type": "markdown",
   "metadata": {},
   "source": [
    "## Multilayer Perceptron\n",
    "\n",
    "![Linear model diagram](https://media.datacamp.com/legacy/v1725638284/image_bd3b978959.png)\n",
    "\n",
    "The input layer uses __passthrough__ TLUs,\n",
    "There can be multiple middle (or __hidden__) layers. Each layer also has a single bias neuron and all neurons in a layer are connected to all neurons in the next layer.\n",
    "The final __output__ layer provides the final result.\n",
    "\n",
    "### Backpropagation\n",
    "\n",
    "Training algorithm.\n",
    "1. Makes a prediction for each training instance in a small batch.\n",
    "2. Calculates error.\n",
    "3. Goes back through each layer in reverse order to measure contribution of each connection to the error.\n",
    "4. Then applies **gradient descent** to tweak the connection weights.\n",
    "\n",
    "### Activation functions\n",
    "\n",
    "Backpropagation does not work with the step function because of how gradient descent works (TODO: Understand this)\n",
    "\n",
    "Logistic function was the first alternative used:\n",
    "$$\n",
    "\\sigma(z) = \\frac{1}{1 + e^{-z}}\n",
    "$$\n",
    "The derivative is not 0 at any point --> gradient descent can always work.\n",
    "Ranges from 0 to 1.\n",
    "\n",
    "Hyperbolic tangent:\n",
    "Ranges from -1 to 1 and is also continuous and differentiable.\n",
    "Centered around 0 can help speed up convergence (TODO: WHY???)\n",
    "$$\n",
    "\\tanh(z) = 2\\sigma(2z) - 1\n",
    "$$\n",
    "\n",
    "Rectified Linear Unit function:\n",
    "Not differentiable at 0 and gradient 0 at < 0, but very fast.\n",
    "$$\n",
    "R(z) = max(0, z)\n",
    "$$\n"
   ]
  },
  {
   "cell_type": "code",
   "execution_count": null,
   "metadata": {},
   "outputs": [],
   "source": []
  }
 ],
 "metadata": {
  "kernelspec": {
   "display_name": ".venv",
   "language": "python",
   "name": "python3"
  },
  "language_info": {
   "codemirror_mode": {
    "name": "ipython",
    "version": 3
   },
   "file_extension": ".py",
   "mimetype": "text/x-python",
   "name": "python",
   "nbconvert_exporter": "python",
   "pygments_lexer": "ipython3",
   "version": "3.11.2"
  },
  "orig_nbformat": 4
 },
 "nbformat": 4,
 "nbformat_minor": 2
}
